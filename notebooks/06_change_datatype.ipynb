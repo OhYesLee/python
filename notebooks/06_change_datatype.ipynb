{
 "cells": [
  {
   "cell_type": "markdown",
   "metadata": {
    "slideshow": {
     "slide_type": "slide"
    }
   },
   "source": [
    "## 데이터 형변환 : Change Datatype\n",
    "\n",
    "1. 문자열과 숫자 형변환\n",
    "\n",
    "2. boolean 형변환\n",
    "\n",
    "3. 문자열의 리스트 형변환\n",
    "\n",
    "4. 튜플과 딕셔너리 형변환\n",
    "\n",
    "\n",
    "- 서로 다른 데이터 타입사이에 데이터의 형변환이 가능합니다. \n",
    "- 하지만 데이터 타입에 따라서 형변환이 되는 데이터 타입이 있고 되지 않는 데이터 타입이 있습니다."
   ]
  },
  {
   "cell_type": "markdown",
   "metadata": {
    "slideshow": {
     "slide_type": "slide"
    }
   },
   "source": [
    "### 1. 문자열과 숫자\n",
    "\n",
    "- 문자열과 숫자 사이의 형변환이 가능합니다.\n",
    "- 하지만 숫자문자가 아닌 문자열을 숫자로 형변환하는것은 불가능합니다."
   ]
  },
  {
   "cell_type": "code",
   "execution_count": 1,
   "metadata": {},
   "outputs": [
    {
     "name": "stdout",
     "output_type": "stream",
     "text": [
      "<class 'int'> 1234\n"
     ]
    }
   ],
   "source": [
    "string = \"1234\"\n",
    "number = int(string)\n",
    "print(type(number), number)"
   ]
  },
  {
   "cell_type": "code",
   "execution_count": 2,
   "metadata": {},
   "outputs": [
    {
     "name": "stdout",
     "output_type": "stream",
     "text": [
      "invalid literal for int() with base 10: 'abcd'\n"
     ]
    }
   ],
   "source": [
    "try:\n",
    "    string = \"abcd\"\n",
    "    number = int(string)\n",
    "    print(type(number), number)\n",
    "except Exception as e:\n",
    "    print(e)"
   ]
  },
  {
   "cell_type": "markdown",
   "metadata": {
    "slideshow": {
     "slide_type": "slide"
    }
   },
   "source": [
    "### 2. boolean 형변환\n",
    "\n",
    "- 문자열이나 리스트나 정수의 데이터가 boolean으로 어떻게 형변환 되는지 살펴보겠습니다.\n",
    "- boolean의 형변환은 조건문에서 사용이 되기 때문에 잘 알아두어야 합니다."
   ]
  },
  {
   "cell_type": "markdown",
   "metadata": {
    "slideshow": {
     "slide_type": "slide"
    }
   },
   "source": [
    "문자열은 아무 문자가 없는 \"\" 이 `False`, 문자가 하나라도 있으면 `True`로 형변환 됩니다."
   ]
  },
  {
   "cell_type": "code",
   "execution_count": 3,
   "metadata": {
    "scrolled": true
   },
   "outputs": [
    {
     "name": "stdout",
     "output_type": "stream",
     "text": [
      "False True True\n"
     ]
    }
   ],
   "source": [
    "print(bool(\"\"), bool(\"asedf\"), bool(\" \"))"
   ]
  },
  {
   "cell_type": "markdown",
   "metadata": {
    "slideshow": {
     "slide_type": "-"
    }
   },
   "source": [
    "숫자는 `0`이 `False`이고 나머지 숫자는 `True`입니다."
   ]
  },
  {
   "cell_type": "code",
   "execution_count": 4,
   "metadata": {},
   "outputs": [
    {
     "name": "stdout",
     "output_type": "stream",
     "text": [
      "True False True False True\n"
     ]
    }
   ],
   "source": [
    "print(bool(-1), bool(0), bool(1), bool(0.0), bool(0.1))"
   ]
  },
  {
   "cell_type": "markdown",
   "metadata": {
    "slideshow": {
     "slide_type": "-"
    }
   },
   "source": [
    "리스트에서는 값이 없는 `[]` 가 `False`로 형변환 됩니다."
   ]
  },
  {
   "cell_type": "code",
   "execution_count": 5,
   "metadata": {},
   "outputs": [
    {
     "name": "stdout",
     "output_type": "stream",
     "text": [
      "False True\n"
     ]
    }
   ],
   "source": [
    "a, b = [], [1, 2]\n",
    "print(bool(a), bool(b))"
   ]
  },
  {
   "cell_type": "markdown",
   "metadata": {
    "slideshow": {
     "slide_type": "slide"
    }
   },
   "source": [
    "이 내용은 데이터 존재의 유무를 판별할수 있어서 뒤에 배우는 조건문에서 조건을 정의할때 알아두면 더 깔끔한 코딩을 할수 있습니다."
   ]
  },
  {
   "cell_type": "code",
   "execution_count": 6,
   "metadata": {},
   "outputs": [],
   "source": [
    "ls1, ls2 = [], [1, 2, 3]"
   ]
  },
  {
   "cell_type": "code",
   "execution_count": 7,
   "metadata": {},
   "outputs": [
    {
     "name": "stdout",
     "output_type": "stream",
     "text": [
      "no_data\n"
     ]
    }
   ],
   "source": [
    "if len(ls1) > 0:\n",
    "    print(ls1)\n",
    "else:\n",
    "    print(\"no_data\")"
   ]
  },
  {
   "cell_type": "code",
   "execution_count": 8,
   "metadata": {},
   "outputs": [
    {
     "name": "stdout",
     "output_type": "stream",
     "text": [
      "no_data\n"
     ]
    }
   ],
   "source": [
    "if ls1:\n",
    "    print(ls1)\n",
    "else:\n",
    "    print(\"no_data\")"
   ]
  },
  {
   "cell_type": "code",
   "execution_count": 9,
   "metadata": {
    "slideshow": {
     "slide_type": "slide"
    }
   },
   "outputs": [
    {
     "name": "stdout",
     "output_type": "stream",
     "text": [
      "[1, 2, 3]\n"
     ]
    }
   ],
   "source": [
    "# ls1, ls2 = [], [1, 2, 3]\n",
    "if len(ls2) > 0:\n",
    "    print(ls2)\n",
    "else:\n",
    "    print(\"no_data\")"
   ]
  },
  {
   "cell_type": "code",
   "execution_count": 10,
   "metadata": {},
   "outputs": [
    {
     "name": "stdout",
     "output_type": "stream",
     "text": [
      "[1, 2, 3]\n"
     ]
    }
   ],
   "source": [
    "# ls1, ls2 = [], [1, 2, 3]\n",
    "if ls2:\n",
    "    print(ls2)\n",
    "else:\n",
    "    print(\"no_data\")"
   ]
  },
  {
   "cell_type": "markdown",
   "metadata": {
    "slideshow": {
     "slide_type": "slide"
    }
   },
   "source": [
    "### 3. 문자열의 리스트 형변환\n",
    "문자열을 리스트로 형변환하면 문자 하나씩 순서대로 리스트의 데이터로 형변환 됩니다."
   ]
  },
  {
   "cell_type": "code",
   "execution_count": 11,
   "metadata": {},
   "outputs": [
    {
     "data": {
      "text/plain": [
       "['f', 'a', 's', 't']"
      ]
     },
     "execution_count": 11,
     "metadata": {},
     "output_type": "execute_result"
    }
   ],
   "source": [
    "string = \"fast\"\n",
    "ls = list(string)\n",
    "ls"
   ]
  },
  {
   "cell_type": "markdown",
   "metadata": {
    "slideshow": {
     "slide_type": "slide"
    }
   },
   "source": [
    "### 4. 튜플과 딕셔너리 형변환\n",
    "\n",
    "- 튜플과 딕셔너리 사이에는 형변환이 가능합니다.\n",
    "- 하지만 값에 따라서 변환이 될수도 있고 되지 않을수도 있습니다."
   ]
  },
  {
   "cell_type": "markdown",
   "metadata": {
    "slideshow": {
     "slide_type": "slide"
    }
   },
   "source": [
    "#### 4.1 튜플의 딕셔너리 형변환\n",
    "\n",
    "튜플의 (key, value) 형태의 나열로 되어 있는 튜블의 데이터는 딕셔너리로 형변환이 가능합니다."
   ]
  },
  {
   "cell_type": "code",
   "execution_count": 12,
   "metadata": {},
   "outputs": [
    {
     "data": {
      "text/plain": [
       "{1: 'one', 2: 'two'}"
      ]
     },
     "execution_count": 12,
     "metadata": {},
     "output_type": "execute_result"
    }
   ],
   "source": [
    "tp = ((1, \"one\"), (2, \"two\"))\n",
    "dict(tp)"
   ]
  },
  {
   "cell_type": "markdown",
   "metadata": {
    "slideshow": {
     "slide_type": "-"
    }
   },
   "source": [
    "튜플의 데이터가 key, value 형태로 변환할수 있는 2개의 튜플이 들어있는 형태가 아니면 변환이 불가능 합니다."
   ]
  },
  {
   "cell_type": "code",
   "execution_count": 13,
   "metadata": {},
   "outputs": [
    {
     "name": "stdout",
     "output_type": "stream",
     "text": [
      "dictionary update sequence element #0 has length 3; 2 is required\n"
     ]
    }
   ],
   "source": [
    "try:\n",
    "    tp = ((1, \"one\", \"data\"), (2, \"two\", \"science\"))\n",
    "    print(dict(tp))\n",
    "except Exception as e:\n",
    "    print(e)"
   ]
  },
  {
   "cell_type": "markdown",
   "metadata": {
    "slideshow": {
     "slide_type": "slide"
    }
   },
   "source": [
    "#### 4.2 딕셔너리의 튜플 형변환\n",
    "\n",
    "- 딕셔너리를 튜플로 형변환 하면 딕셔너리의 키 데이터만 형변환 됩니다. \n",
    "- key와 value 데이터를 모두 사용하여 형변환 하려면 items() 함수를 사용합니다."
   ]
  },
  {
   "cell_type": "code",
   "execution_count": 14,
   "metadata": {},
   "outputs": [
    {
     "name": "stdout",
     "output_type": "stream",
     "text": [
      "(1, 2)\n"
     ]
    }
   ],
   "source": [
    "dic = {1: \"one\", 2: \"two\"}\n",
    "tp = tuple(dic)\n",
    "print(tp)"
   ]
  },
  {
   "cell_type": "code",
   "execution_count": 15,
   "metadata": {},
   "outputs": [
    {
     "name": "stdout",
     "output_type": "stream",
     "text": [
      "((1, 'one'), (2, 'two'))\n"
     ]
    }
   ],
   "source": [
    "tp = tuple(dic.items())\n",
    "print(tp)"
   ]
  },
  {
   "cell_type": "code",
   "execution_count": 16,
   "metadata": {},
   "outputs": [
    {
     "data": {
      "text/plain": [
       "dict_items([(1, 'one'), (2, 'two')])"
      ]
     },
     "execution_count": 16,
     "metadata": {},
     "output_type": "execute_result"
    }
   ],
   "source": [
    "dic.items()"
   ]
  },
  {
   "cell_type": "markdown",
   "metadata": {
    "slideshow": {
     "slide_type": "slide"
    }
   },
   "source": [
    "### Quiz 1\n",
    "- 리스트 데이터의 중복을 제거하고 내림차순으로 정렬 하세요.\n",
    "\n",
    "    ```\n",
    "    ls = [1, 3, 2, 1, 3, 5, 7, 8, 7]\n",
    "    ```\n",
    "\n",
    "- 결과\n",
    "\n",
    "    ```\n",
    "    [8, 7, 5, 3, 2, 1]\n",
    "    ```"
   ]
  },
  {
   "cell_type": "code",
   "execution_count": 17,
   "metadata": {
    "slideshow": {
     "slide_type": "skip"
    }
   },
   "outputs": [
    {
     "data": {
      "text/plain": [
       "[8, 7, 5, 3, 2, 1]"
      ]
     },
     "execution_count": 17,
     "metadata": {},
     "output_type": "execute_result"
    }
   ],
   "source": [
    "ls = [1, 3, 2, 1, 3, 5, 7, 8, 7]\n",
    "\n",
    "# 중복제거\n",
    "result = list(set(ls))\n",
    "\n",
    "# 오름차순으로 정렬\n",
    "result.sort()\n",
    "\n",
    "# 리스트를 역순으로 정렬\n",
    "result = result[::-1]\n",
    "\n",
    "result"
   ]
  },
  {
   "cell_type": "markdown",
   "metadata": {
    "slideshow": {
     "slide_type": "slide"
    }
   },
   "source": [
    "### Quiz 2\n",
    "- 리스트 데이터의 중복을 제거하고 내림차순으로 정렬 하세요.\n",
    "- zip 함수를 이용하세요.\n",
    "\n",
    "    ```\n",
    "    names = [\"python\", \"data\", \"science\"]\n",
    "    points = [89, 75, 97]\n",
    "    ```\n",
    "\n",
    "- 결과\n",
    "\n",
    "    ```\n",
    "    {'python': 89, 'data': 75, 'science': 97}\n",
    "    ```\n",
    "\n",
    "- zip 함수 : 여러개의 리스트를 같은 인덱스끼리 묶어 주는 함수\n",
    "\n",
    "    ```\n",
    "    # example\n",
    "    idx = [1, 2, 3]\n",
    "    datas = [\"one\", \"two\", \"three\"]\n",
    "    result = list(zip(idx, datas))\n",
    "    result => [(1, 'one'), (2, 'two'), (3, 'three')]\n",
    "    ```"
   ]
  },
  {
   "cell_type": "code",
   "execution_count": 18,
   "metadata": {
    "slideshow": {
     "slide_type": "skip"
    }
   },
   "outputs": [
    {
     "name": "stdout",
     "output_type": "stream",
     "text": [
      "{'python': 89, 'data': 75, 'science': 97}\n"
     ]
    }
   ],
   "source": [
    "names = [\"python\", \"data\", \"science\"]\n",
    "points = [89, 75, 97]\n",
    "print(dict(zip(names, points)))"
   ]
  }
 ],
 "metadata": {
  "celltoolbar": "Slideshow",
  "kernelspec": {
   "display_name": "Python 3",
   "language": "python",
   "name": "python3"
  },
  "language_info": {
   "codemirror_mode": {
    "name": "ipython",
    "version": 3
   },
   "file_extension": ".py",
   "mimetype": "text/x-python",
   "name": "python",
   "nbconvert_exporter": "python",
   "pygments_lexer": "ipython3",
   "version": "3.7.6"
  },
  "varInspector": {
   "cols": {
    "lenName": 16,
    "lenType": 16,
    "lenVar": 40
   },
   "kernels_config": {
    "python": {
     "delete_cmd_postfix": "",
     "delete_cmd_prefix": "del ",
     "library": "var_list.py",
     "varRefreshCmd": "print(var_dic_list())"
    },
    "r": {
     "delete_cmd_postfix": ") ",
     "delete_cmd_prefix": "rm(",
     "library": "var_list.r",
     "varRefreshCmd": "cat(var_dic_list()) "
    }
   },
   "types_to_exclude": [
    "module",
    "function",
    "builtin_function_or_method",
    "instance",
    "_Feature"
   ],
   "window_display": false
  }
 },
 "nbformat": 4,
 "nbformat_minor": 2
}
