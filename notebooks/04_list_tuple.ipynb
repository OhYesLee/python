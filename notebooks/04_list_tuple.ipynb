{
 "cells": [
  {
   "cell_type": "markdown",
   "metadata": {
    "slideshow": {
     "slide_type": "slide"
    }
   },
   "source": [
    "## 자료형 : Datatype - List, Tuple\n",
    "\n",
    "1. Numbers\n",
    "\n",
    "2. Boolean\n",
    "\n",
    "3. String\n",
    "\n",
    "4. List\n",
    "\n",
    "5. Tuple\n",
    "\n",
    "6. Dictionary\n",
    "\n",
    "7. Set"
   ]
  },
  {
   "cell_type": "markdown",
   "metadata": {
    "slideshow": {
     "slide_type": "-"
    }
   },
   "source": [
    "- collection \n",
    "    - List, Tuple, Dictionary, Set\n",
    "- iterable \n",
    "    - List, Tuple"
   ]
  },
  {
   "cell_type": "markdown",
   "metadata": {
    "slideshow": {
     "slide_type": "slide"
    }
   },
   "source": [
    "### 4. List\n",
    "\n",
    "순서가 있는 데이터들의 집합을 가지는 데이터 타입입니다. List, Tuple, Dictionary, Set 의 데이터 타입을 Collection이라 고 합니다."
   ]
  },
  {
   "cell_type": "markdown",
   "metadata": {
    "slideshow": {
     "slide_type": "slide"
    }
   },
   "source": [
    "#### 4.1 List 선언\n",
    "\n",
    "[ ] 의 기호를 사용하여 리스트를 선언할수 있습니다. 리스트의 데이터로 리스트를 넣을수도 있습니다.\n"
   ]
  },
  {
   "cell_type": "code",
   "execution_count": 1,
   "metadata": {
    "slideshow": {
     "slide_type": "-"
    }
   },
   "outputs": [
    {
     "name": "stdout",
     "output_type": "stream",
     "text": [
      "<class 'list'> <class 'list'> <class 'list'>\n"
     ]
    },
    {
     "data": {
      "text/plain": [
       "(['fast', 'campus', 'data', 'science'], [1, 2, [3, 4]], [1, 'fast', True])"
      ]
     },
     "execution_count": 1,
     "metadata": {},
     "output_type": "execute_result"
    }
   ],
   "source": [
    "a = [\"fast\", \"campus\", \"data\", \"science\"]\n",
    "b = [1, 2, [3, 4]]\n",
    "c = [1, \"fast\", True]\n",
    "print(type(a), type(b), type(c))\n",
    "a, b, c"
   ]
  },
  {
   "cell_type": "markdown",
   "metadata": {
    "slideshow": {
     "slide_type": "slide"
    }
   },
   "source": [
    "### Quiz 1\n",
    "- 아래의 문자 데이터로 이루어진 리스트를 선언하고, 결과 같이 문자열로 출력되도록 코드를 작성하세요.\n",
    "- String의 join 함수와 upper 함수 사용\n",
    "\n",
    "    `ls = [\"python\", \"is\", \"best\", \"programing\", \"language\"]`\n",
    "\n",
    "\n",
    "- 결과\n",
    "    - 가장 앞 문자 대문자, 마지막에 느낌표 추가\n",
    "    \n",
    "    `'Python is best programing language!'`"
   ]
  },
  {
   "cell_type": "code",
   "execution_count": 2,
   "metadata": {
    "slideshow": {
     "slide_type": "skip"
    }
   },
   "outputs": [
    {
     "data": {
      "text/plain": [
       "'Python is best programing language!'"
      ]
     },
     "execution_count": 2,
     "metadata": {},
     "output_type": "execute_result"
    }
   ],
   "source": [
    "ls = [\"python\", \"is\", \"best\", \"programing\", \"language\"]\n",
    "string = \" \".join(ls)\n",
    "string = string[:1].upper() + string[1:] + \"!\"\n",
    "string"
   ]
  },
  {
   "cell_type": "markdown",
   "metadata": {
    "slideshow": {
     "slide_type": "slide"
    }
   },
   "source": [
    "#### 4.2 List offset\n",
    "\n",
    "리스트도 문자열과 같이 오프셋을 사용할수 있습니다."
   ]
  },
  {
   "cell_type": "code",
   "execution_count": 3,
   "metadata": {},
   "outputs": [
    {
     "name": "stdout",
     "output_type": "stream",
     "text": [
      "campus science ['campus', 'data'] ['fast', 'campus', 'data', 'science'] ['science', 'campus']\n"
     ]
    },
    {
     "data": {
      "text/plain": [
       "['fast', 'campus', 'pdj', 'science']"
      ]
     },
     "execution_count": 3,
     "metadata": {},
     "output_type": "execute_result"
    }
   ],
   "source": [
    "ls = [\"fast\", \"campus\", \"data\", \"science\"]\n",
    "print(ls[1], ls[-1], ls[1:3], ls[:], ls[::-2])\n",
    "ls[-2] = \"pdj\"\n",
    "ls"
   ]
  },
  {
   "cell_type": "markdown",
   "metadata": {
    "slideshow": {
     "slide_type": "slide"
    }
   },
   "source": [
    "### Quiz 2\n",
    "\n",
    "- 아래와 같이 리스트를 선언 후 오프셋을 이용하여 홀수 데이터가 거꾸로 출력되도록 코드를 작성하세요.\n",
    "- `ls[1:3][2]`와 같이 리스트 오스셋의 오프셋 사용이 가능합니다.\n",
    "\n",
    " `ls = [0, 1, 2, 3, 4, 5, 6, 7, 8, 9]`\n",
    "\n",
    "\n",
    "- 결과\n",
    "\n",
    " `[9, 7, 5, 3, 1]`"
   ]
  },
  {
   "cell_type": "code",
   "execution_count": 4,
   "metadata": {
    "slideshow": {
     "slide_type": "skip"
    }
   },
   "outputs": [
    {
     "data": {
      "text/plain": [
       "[9, 7, 5, 3, 1]"
      ]
     },
     "execution_count": 4,
     "metadata": {},
     "output_type": "execute_result"
    }
   ],
   "source": [
    "ls = [0, 1, 2, 3, 4, 5, 6, 7, 8, 9]\n",
    "ls[1::2][::-1]"
   ]
  },
  {
   "cell_type": "markdown",
   "metadata": {
    "slideshow": {
     "slide_type": "slide"
    }
   },
   "source": [
    "### Quiz 3\n",
    "\n",
    "- 아래의 코드에서 아래의 결과가 나오도록 `# TODO` 부분에 코드를 작성해주세요.\n",
    "- 문자열의 오프셋의 기준은 문자이고 리스트의 오프셋 기준은 value(값) 입니다.\n",
    "\n",
    "    ```\n",
    "    data1 = \"fast\"\n",
    "    data2 = \"campus\"\n",
    "    data = data1 + \" \" + data2\n",
    "    print(data)\n",
    "    # TODO\n",
    "    print(data)\n",
    "    ```\n",
    "    \n",
    "- 결과\n",
    "    \n",
    "    ```\n",
    "    fast campus\n",
    "    campus fast\n",
    "    ```"
   ]
  },
  {
   "cell_type": "code",
   "execution_count": 5,
   "metadata": {
    "slideshow": {
     "slide_type": "skip"
    }
   },
   "outputs": [
    {
     "name": "stdout",
     "output_type": "stream",
     "text": [
      "fast campus\n",
      "campus fast\n"
     ]
    }
   ],
   "source": [
    "data1 = \"fast\"\n",
    "data2 = \"campus\"\n",
    "data = data1 + \" \" + data2\n",
    "print(data)\n",
    "data = \" \".join(data.split(\" \")[::-1])\n",
    "print(data)"
   ]
  },
  {
   "cell_type": "markdown",
   "metadata": {
    "slideshow": {
     "slide_type": "slide"
    }
   },
   "source": [
    "#### 4.3 List Method\n",
    "\n",
    "리스트 함수를 이용해 리스트 데이터를 가공할수 있습니다.\n",
    "\n",
    "주요 리스트 메서드\n",
    "\n",
    "- append() : 가장 마지막에 데이터 추가\n",
    "- sort() : 오름차순 정렬\n",
    "- reverse() : 역순 정렬\n",
    "- index() : 데이터 위치 리턴\n",
    "- insert() : 특정 위치에 데이터 추가\n",
    "- remove() : 해당되는 데이터 값을 삭제 (오프셋이 가장 작은 데이터 하나만 삭제)\n",
    "- pop() : 가장 마지막 값을 리턴하고 마지막 값을 삭제"
   ]
  },
  {
   "cell_type": "markdown",
   "metadata": {
    "slideshow": {
     "slide_type": "slide"
    }
   },
   "source": [
    "ls 변수 이름으로 값이 4개 있는 리스트 변수 선언"
   ]
  },
  {
   "cell_type": "code",
   "execution_count": 6,
   "metadata": {
    "slideshow": {
     "slide_type": "-"
    }
   },
   "outputs": [],
   "source": [
    "ls = [\"fast\", \"campus\", \"data\", \"science\"]"
   ]
  },
  {
   "cell_type": "markdown",
   "metadata": {
    "slideshow": {
     "slide_type": "slide"
    }
   },
   "source": [
    "append 함수를 사용하여 ls 리스트에 `fighting!` 문자열 추가합니다."
   ]
  },
  {
   "cell_type": "code",
   "execution_count": 7,
   "metadata": {
    "slideshow": {
     "slide_type": "-"
    }
   },
   "outputs": [
    {
     "name": "stdout",
     "output_type": "stream",
     "text": [
      "['fast', 'campus', 'data', 'science', 'fighting!']\n"
     ]
    }
   ],
   "source": [
    "# ls = [\"fast\", \"campus\", \"data\", \"science\"]\n",
    "ls.append(\"fighting!\")\n",
    "print(ls)"
   ]
  },
  {
   "cell_type": "markdown",
   "metadata": {
    "slideshow": {
     "slide_type": "slide"
    }
   },
   "source": [
    "sort 함수를 이용하여 알파벳 순으로 리스트 내의 값을 정렬합니다.\n",
    "\n",
    "리스트 내의 값 데이터 타입이 맞아야 정렬이 가능합니다."
   ]
  },
  {
   "cell_type": "code",
   "execution_count": 8,
   "metadata": {
    "slideshow": {
     "slide_type": "-"
    }
   },
   "outputs": [
    {
     "name": "stdout",
     "output_type": "stream",
     "text": [
      "['campus', 'data', 'fast', 'fighting!', 'science']\n"
     ]
    }
   ],
   "source": [
    "# ls = ['fast', 'campus', 'data', 'science', 'fighting!']\n",
    "ls.sort()\n",
    "print(ls)"
   ]
  },
  {
   "cell_type": "markdown",
   "metadata": {
    "slideshow": {
     "slide_type": "-"
    }
   },
   "source": [
    "`key=len`를 설정하면 길이로 정렬합니다."
   ]
  },
  {
   "cell_type": "code",
   "execution_count": 9,
   "metadata": {
    "slideshow": {
     "slide_type": "-"
    }
   },
   "outputs": [
    {
     "name": "stdout",
     "output_type": "stream",
     "text": [
      "['data', 'fast', 'campus', 'science', 'fighting!']\n"
     ]
    }
   ],
   "source": [
    "# ls = ['campus', 'data', 'fast', 'fighting!', 'science']\n",
    "ls.sort(key=len)\n",
    "print(ls)"
   ]
  },
  {
   "cell_type": "markdown",
   "metadata": {
    "slideshow": {
     "slide_type": "slide"
    }
   },
   "source": [
    "정렬된 리스트를 역순으로 정렬합니다."
   ]
  },
  {
   "cell_type": "code",
   "execution_count": 10,
   "metadata": {
    "slideshow": {
     "slide_type": "-"
    }
   },
   "outputs": [
    {
     "name": "stdout",
     "output_type": "stream",
     "text": [
      "['fighting!', 'science', 'campus', 'fast', 'data']\n"
     ]
    }
   ],
   "source": [
    "# ls = ['data', 'fast', 'campus', 'science', 'fighting!']\n",
    "ls.reverse()\n",
    "print(ls)"
   ]
  },
  {
   "cell_type": "markdown",
   "metadata": {
    "slideshow": {
     "slide_type": "slide"
    }
   },
   "source": [
    "리스트의 index 함수를 이용하여 리스트에서 입력한 데이터의 위치 값을 찾습니다.\n",
    "\n",
    "리스트에서 index 값은 0부터 시작합니다."
   ]
  },
  {
   "cell_type": "code",
   "execution_count": 11,
   "metadata": {
    "slideshow": {
     "slide_type": "-"
    }
   },
   "outputs": [
    {
     "name": "stdout",
     "output_type": "stream",
     "text": [
      "2\n"
     ]
    }
   ],
   "source": [
    "# ls = ['fighting!', 'science', 'campus', 'fast', 'data']\n",
    "print(ls.index('campus'))"
   ]
  },
  {
   "cell_type": "markdown",
   "metadata": {
    "slideshow": {
     "slide_type": "slide"
    }
   },
   "source": [
    "insert 함수를 사용하여 리스트에서 특정 위치에 값을 추가할수 있습니다."
   ]
  },
  {
   "cell_type": "code",
   "execution_count": 12,
   "metadata": {
    "slideshow": {
     "slide_type": "-"
    }
   },
   "outputs": [
    {
     "name": "stdout",
     "output_type": "stream",
     "text": [
      "['fighting!', 'science', 'index', 'campus', 'fast', 'index', 'data']\n"
     ]
    }
   ],
   "source": [
    "ls.insert(2, 'index')\n",
    "ls.insert(5, 'index')\n",
    "print(ls)"
   ]
  },
  {
   "cell_type": "markdown",
   "metadata": {
    "slideshow": {
     "slide_type": "slide"
    }
   },
   "source": [
    "리스트의 remove 함수를 이용하여 특정 값을 리스트에서 삭제 할수 있습니다.\n",
    "\n",
    "일치하는 모든 값이 삭제되는게 아니라 가장 앞에 있는 값 하나만 삭제 됩니다."
   ]
  },
  {
   "cell_type": "code",
   "execution_count": 13,
   "metadata": {},
   "outputs": [
    {
     "name": "stdout",
     "output_type": "stream",
     "text": [
      "['fighting!', 'science', 'campus', 'fast', 'index', 'data']\n"
     ]
    }
   ],
   "source": [
    "# ls = ['fighting!', 'science', 'index', 'campus', 'fast', 'index', 'data']\n",
    "ls.remove('index')\n",
    "print(ls)"
   ]
  },
  {
   "cell_type": "markdown",
   "metadata": {
    "slideshow": {
     "slide_type": "slide"
    }
   },
   "source": [
    "리스의 pop 함수는 리스트에서 가장 마지막에 있는 값을 출력 후 리스트에서 삭제 합니다."
   ]
  },
  {
   "cell_type": "code",
   "execution_count": 14,
   "metadata": {},
   "outputs": [
    {
     "name": "stdout",
     "output_type": "stream",
     "text": [
      "data\n",
      "['fighting!', 'science', 'campus', 'fast', 'index']\n"
     ]
    }
   ],
   "source": [
    "# ls = ['fighting!', 'science', 'campus', 'fast', 'index', 'data']\n",
    "print(ls.pop())\n",
    "print(ls)"
   ]
  },
  {
   "cell_type": "markdown",
   "metadata": {
    "slideshow": {
     "slide_type": "slide"
    }
   },
   "source": [
    "### Quiz 4\n",
    "- 'Beautiful is better than ugly.' 문장을 단어의 길이가 긴 단어 순으로 정렬하는 코드로 만드세요. \n",
    "- 리스트에서 단어의 길이 순으로 오름차순 정렬 `list.sort(key=len)` \n",
    "\n",
    "    `sentence = \"Beautiful is better than ugly.\"`\n",
    "\n",
    "- 결과\n",
    "    \n",
    "    `Beautiful better ugly than is.`"
   ]
  },
  {
   "cell_type": "code",
   "execution_count": 15,
   "metadata": {
    "slideshow": {
     "slide_type": "skip"
    }
   },
   "outputs": [
    {
     "data": {
      "text/plain": [
       "'Beautiful better ugly than is.'"
      ]
     },
     "execution_count": 15,
     "metadata": {},
     "output_type": "execute_result"
    }
   ],
   "source": [
    "sentence = \"Beautiful is better than ugly.\"\n",
    "\n",
    "# 소문자로 변환\n",
    "result = sentence.lower()\n",
    "\n",
    "# 마침표 제거\n",
    "result = result[:-1]\n",
    "\n",
    "# 리스트로 변경\n",
    "result = result.split(\" \")\n",
    "\n",
    "# 오름차순 정렬\n",
    "result.sort(key=len)\n",
    "\n",
    "# 순서 변경\n",
    "# result.reverse()\n",
    "result = result[::-1]\n",
    "\n",
    "# 리스트를 문자열로 변경\n",
    "result = \" \".join(result)\n",
    "\n",
    "# 가장 앞글자 대문자로 변경\n",
    "result = result[0].upper() + result[1:]\n",
    "\n",
    "# 마침표 추가\n",
    "result = result + \".\"\n",
    "\n",
    "result"
   ]
  },
  {
   "cell_type": "markdown",
   "metadata": {
    "slideshow": {
     "slide_type": "slide"
    }
   },
   "source": [
    "#### 4.4 List 데이터 수정\n",
    "오프셋을 이용하여 리스트의 데이터를 수정할 수 있습니다."
   ]
  },
  {
   "cell_type": "code",
   "execution_count": 16,
   "metadata": {
    "scrolled": true
   },
   "outputs": [
    {
     "name": "stdout",
     "output_type": "stream",
     "text": [
      "[1, 'Fast', 3, 4, 5]\n",
      "[1, 'Fast', 3, 4, 'Campus']\n"
     ]
    }
   ],
   "source": [
    "ls = [1, 2, 3, 4, 5]\n",
    "\n",
    "# offset을 이용하여 데이터 수정\n",
    "ls[1] = \"Fast\"\n",
    "print(ls)\n",
    "\n",
    "ls[-1] = \"Campus\"\n",
    "print(ls)"
   ]
  },
  {
   "cell_type": "markdown",
   "metadata": {
    "slideshow": {
     "slide_type": "slide"
    }
   },
   "source": [
    "#### 4.5 List Copy\n",
    "- 깊은 복사와 얕은 복사\n",
    "    - 리스트를 복사하기위해서는 copy() 함수를 사용해야 합니다. \n",
    "    - b = a 형태로 복사를 하게 되면 같은 저장공간에 두개의 이름을 가지게 되어 a를 변경하게 되면 b도 변경이 됩니다. \n",
    "    - 별도의 저장공간을 가지게 하려면 copy() 함수를 사용해야 합니다."
   ]
  },
  {
   "cell_type": "markdown",
   "metadata": {
    "slideshow": {
     "slide_type": "slide"
    }
   },
   "source": [
    "##### 얕은 복사\n",
    "- 기존의 메모리의 주소값이 새로운 변수에 할당 됩니다."
   ]
  },
  {
   "cell_type": "code",
   "execution_count": 17,
   "metadata": {},
   "outputs": [
    {
     "name": "stdout",
     "output_type": "stream",
     "text": [
      "[1, 2, 3] [1, 2, 3]\n"
     ]
    }
   ],
   "source": [
    "a = [1, 2, 3]\n",
    "b = a\n",
    "print(a, b)"
   ]
  },
  {
   "cell_type": "code",
   "execution_count": 18,
   "metadata": {},
   "outputs": [
    {
     "name": "stdout",
     "output_type": "stream",
     "text": [
      "[1, 2, 4] [1, 2, 4]\n"
     ]
    }
   ],
   "source": [
    "# a를 바꿨는데 b의 데이터도 같이 바뀜\n",
    "a[2] = 4\n",
    "print(a, b)"
   ]
  },
  {
   "cell_type": "markdown",
   "metadata": {
    "slideshow": {
     "slide_type": "slide"
    }
   },
   "source": [
    "##### 깊은 복사\n",
    "- 메모리 값을 복사해서 새로운 메모리에 할당한 후 할당된 새로운 메모리의 주소가 변수에 연결됩니다."
   ]
  },
  {
   "cell_type": "code",
   "execution_count": 19,
   "metadata": {},
   "outputs": [
    {
     "name": "stdout",
     "output_type": "stream",
     "text": [
      "[1, 2, 4] [1, 2, 4]\n"
     ]
    }
   ],
   "source": [
    "c = a.copy()\n",
    "print(a, c)"
   ]
  },
  {
   "cell_type": "code",
   "execution_count": 20,
   "metadata": {},
   "outputs": [
    {
     "name": "stdout",
     "output_type": "stream",
     "text": [
      "[1, 2, 5] [1, 2, 4]\n"
     ]
    }
   ],
   "source": [
    "# a를 바꿔도 c의 데이터는 바뀌지 않음\n",
    "a[2] = 5\n",
    "print(a, c)"
   ]
  },
  {
   "cell_type": "markdown",
   "metadata": {
    "slideshow": {
     "slide_type": "slide"
    }
   },
   "source": [
    "### 5. Tuple\n",
    "\n",
    "- List와 같이 순서가 있는 데이터 타입입니다.\n",
    "- Tuple은 데이터의 수정이 불가능합니다.\n",
    "- Tuple을 사용하는 이유는 Tuple이 List보다 컴퓨터의 자원(메모리)을 적게 사용합니다."
   ]
  },
  {
   "cell_type": "markdown",
   "metadata": {
    "slideshow": {
     "slide_type": "slide"
    }
   },
   "source": [
    "#### 5.1 Tuple 선언\n",
    "튜플은 , 로 구분하여 선언할수 있고 , 로 구분하고 괄호로 묶어서 선언할수 있습니다. 튜플에서도 문자열이나 리스트에서와 같이 오프셋을 사용하여 데이터를 가공할수 있습니다."
   ]
  },
  {
   "cell_type": "code",
   "execution_count": 21,
   "metadata": {
    "slideshow": {
     "slide_type": "-"
    }
   },
   "outputs": [
    {
     "name": "stdout",
     "output_type": "stream",
     "text": [
      "<class 'tuple'> <class 'tuple'> <class 'tuple'>\n",
      "(1, 2, 3, 4) ('fast', 'campus', 'data', 'science') (1, 'fast', True)\n"
     ]
    }
   ],
   "source": [
    "# 튜플은 , 로 구분하여 선언할수 있습니다.\n",
    "tp1 = 1, 2, 3, 4\n",
    "tp2 = \"fast\", \"campus\", \"data\", \"science\"\n",
    "tp3 = 1, \"fast\", True\n",
    "print(type(tp1), type(tp2), type(tp3))\n",
    "print(tp1, tp2, tp3)"
   ]
  },
  {
   "cell_type": "markdown",
   "metadata": {
    "slideshow": {
     "slide_type": "slide"
    }
   },
   "source": [
    ", 로 구분하고 괄호로 묶어서 선언할수 있습니다."
   ]
  },
  {
   "cell_type": "code",
   "execution_count": 22,
   "metadata": {
    "slideshow": {
     "slide_type": "-"
    }
   },
   "outputs": [
    {
     "name": "stdout",
     "output_type": "stream",
     "text": [
      "<class 'tuple'>\n",
      "(1, 'fast', True)\n"
     ]
    }
   ],
   "source": [
    "d = (1, \"fast\", True)\n",
    "print(type(d))\n",
    "print(d)"
   ]
  },
  {
   "cell_type": "markdown",
   "metadata": {
    "slideshow": {
     "slide_type": "slide"
    }
   },
   "source": [
    "튜플에서도 문자열이나 리스트에서와 같이 오프셋을 사용이 가능합니다."
   ]
  },
  {
   "cell_type": "code",
   "execution_count": 23,
   "metadata": {
    "slideshow": {
     "slide_type": "-"
    }
   },
   "outputs": [
    {
     "data": {
      "text/plain": [
       "(5, [2, 5])"
      ]
     },
     "execution_count": 23,
     "metadata": {},
     "output_type": "execute_result"
    }
   ],
   "source": [
    "a[2], a[1:3]"
   ]
  },
  {
   "cell_type": "markdown",
   "metadata": {
    "slideshow": {
     "slide_type": "slide"
    }
   },
   "source": [
    "튜플의 데이터는 수정이 불가능 합니다. \n",
    "\n",
    "수정하려고 하면 `\"TypeError: 'tuple' object does not support item assignment\"`에러가 발생합니다."
   ]
  },
  {
   "cell_type": "code",
   "execution_count": 24,
   "metadata": {
    "slideshow": {
     "slide_type": "-"
    }
   },
   "outputs": [
    {
     "name": "stdout",
     "output_type": "stream",
     "text": [
      "'tuple' object does not support item assignment\n"
     ]
    }
   ],
   "source": [
    "a = 1, 2, 3, 4\n",
    "try:\n",
    "    a[1] = 3\n",
    "except Exception as e:\n",
    "    print(e)"
   ]
  },
  {
   "cell_type": "markdown",
   "metadata": {
    "slideshow": {
     "slide_type": "slide"
    }
   },
   "source": [
    "튜플을 사용하는 이유는 같은 데이터를 저장할때 리스트보다 메모리를 더 적게 사용합니다."
   ]
  },
  {
   "cell_type": "code",
   "execution_count": 25,
   "metadata": {
    "slideshow": {
     "slide_type": "-"
    }
   },
   "outputs": [
    {
     "name": "stdout",
     "output_type": "stream",
     "text": [
      "<class 'list'> 104 byte\n",
      "<class 'tuple'> 88 byte\n"
     ]
    }
   ],
   "source": [
    "import sys\n",
    "\n",
    "# getsizeof의 단위 : byte\n",
    "ls = [1, 2, 3, 4, 5]\n",
    "print(type(ls), sys.getsizeof(ls), \"byte\")\n",
    "\n",
    "tp = (1, 2, 3, 4, 5)\n",
    "print(type(tp), sys.getsizeof(tp), \"byte\")"
   ]
  }
 ],
 "metadata": {
  "celltoolbar": "Slideshow",
  "kernelspec": {
   "display_name": "Python 3",
   "language": "python",
   "name": "python3"
  },
  "language_info": {
   "codemirror_mode": {
    "name": "ipython",
    "version": 3
   },
   "file_extension": ".py",
   "mimetype": "text/x-python",
   "name": "python",
   "nbconvert_exporter": "python",
   "pygments_lexer": "ipython3",
   "version": "3.7.3"
  },
  "varInspector": {
   "cols": {
    "lenName": 16,
    "lenType": 16,
    "lenVar": 40
   },
   "kernels_config": {
    "python": {
     "delete_cmd_postfix": "",
     "delete_cmd_prefix": "del ",
     "library": "var_list.py",
     "varRefreshCmd": "print(var_dic_list())"
    },
    "r": {
     "delete_cmd_postfix": ") ",
     "delete_cmd_prefix": "rm(",
     "library": "var_list.r",
     "varRefreshCmd": "cat(var_dic_list()) "
    }
   },
   "types_to_exclude": [
    "module",
    "function",
    "builtin_function_or_method",
    "instance",
    "_Feature"
   ],
   "window_display": false
  }
 },
 "nbformat": 4,
 "nbformat_minor": 2
}
