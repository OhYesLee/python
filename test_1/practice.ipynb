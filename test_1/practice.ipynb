{
 "cells": [
  {
   "cell_type": "code",
   "execution_count": null,
   "metadata": {},
   "outputs": [],
   "source": [
    "print(5)\n",
    "print(-10)"
   ]
  },
  {
   "cell_type": "code",
   "execution_count": null,
   "metadata": {},
   "outputs": [],
   "source": [
    "print(5<10)"
   ]
  },
  {
   "cell_type": "code",
   "execution_count": null,
   "metadata": {},
   "outputs": [],
   "source": [
    "print(5>10)"
   ]
  },
  {
   "cell_type": "code",
   "execution_count": 8,
   "metadata": {},
   "outputs": [
    {
     "name": "stdout",
     "output_type": "stream",
     "text": [
      "True\n"
     ]
    }
   ],
   "source": [
    "print(not(5>10))"
   ]
  },
  {
   "cell_type": "code",
   "execution_count": 10,
   "metadata": {},
   "outputs": [
    {
     "name": "stdout",
     "output_type": "stream",
     "text": [
      "test\n"
     ]
    }
   ],
   "source": [
    "print('test')"
   ]
  },
  {
   "cell_type": "code",
   "execution_count": 12,
   "metadata": {},
   "outputs": [
    {
     "name": "stdout",
     "output_type": "stream",
     "text": [
      "사당행 열차가 들어오고 있습니다.\n",
      "신도림행 열차가 들어오고 있습니다.\n",
      "인천공항행 열차가 들어오고 있습니다.\n"
     ]
    }
   ],
   "source": [
    "station = ('사당','신도림','인천공항')\n",
    "print(station[0] +'행 열차가 들어오고 있습니다.')\n",
    "print(station[1] +'행 열차가 들어오고 있습니다.')\n",
    "print(station[2] +'행 열차가 들어오고 있습니다.')\n"
   ]
  },
  {
   "cell_type": "code",
   "execution_count": 18,
   "metadata": {},
   "outputs": [
    {
     "name": "stdout",
     "output_type": "stream",
     "text": [
      "7\n",
      "2.820853112527847\n",
      "0.8665798331045874\n",
      "7\n"
     ]
    }
   ],
   "source": [
    "from random import *\n",
    "\n",
    "print(randint(1, 10))\n",
    "print(random()*10)\n",
    "print(random())\n",
    "print(int(random()*10))"
   ]
  },
  {
   "cell_type": "code",
   "execution_count": 20,
   "metadata": {},
   "outputs": [
    {
     "name": "stdout",
     "output_type": "stream",
     "text": [
      "26\n"
     ]
    }
   ],
   "source": [
    "print(randrange(1,46))"
   ]
  },
  {
   "cell_type": "code",
   "execution_count": 21,
   "metadata": {},
   "outputs": [
    {
     "name": "stdout",
     "output_type": "stream",
     "text": [
      "21\n"
     ]
    }
   ],
   "source": [
    "print(randint(1, 45))"
   ]
  },
  {
   "cell_type": "code",
   "execution_count": 24,
   "metadata": {},
   "outputs": [
    {
     "name": "stdout",
     "output_type": "stream",
     "text": [
      "44\n"
     ]
    }
   ],
   "source": [
    "print(randint(1, 46))\n"
   ]
  },
  {
   "cell_type": "code",
   "execution_count": 25,
   "metadata": {},
   "outputs": [
    {
     "name": "stdout",
     "output_type": "stream",
     "text": [
      "오프라인 스터디 모임 날짜는 매월 19일 입니다.\n"
     ]
    }
   ],
   "source": [
    "from random import *\n",
    "\n",
    "date = randint(4,48)\n",
    "print('오프라인 스터디 모임 날짜는 매월 '+ str(date) + '일 입니다.')"
   ]
  },
  {
   "cell_type": "code",
   "execution_count": 26,
   "metadata": {},
   "outputs": [
    {
     "name": "stdout",
     "output_type": "stream",
     "text": [
      "나는 소년입니다.\n"
     ]
    }
   ],
   "source": [
    "sentence = '나는 소년입니다.'\n",
    "print(sentence)"
   ]
  },
  {
   "cell_type": "code",
   "execution_count": 27,
   "metadata": {},
   "outputs": [
    {
     "name": "stdout",
     "output_type": "stream",
     "text": [
      "\n",
      "나는 소년이고,\n",
      "파이썬은 쉬워요\n",
      "나는 뭐든지 할 수 있다.\n",
      "나는 할 수 있다.\n"
     ]
    }
   ],
   "source": [
    "sentence1 = \"\"\"\n",
    "나는 소년이고,\n",
    "파이썬은 쉬워요\n",
    "나는 뭐든지 할 수 있다.\n",
    "나는 할 수 있다.\"\"\"\n",
    "print(sentence1)\n"
   ]
  },
  {
   "cell_type": "code",
   "execution_count": 28,
   "metadata": {},
   "outputs": [
    {
     "name": "stdout",
     "output_type": "stream",
     "text": [
      "나는 20살이며, 파란색을 좋아합니다.\n"
     ]
    }
   ],
   "source": [
    "age = 20\n",
    "color = '파란'\n",
    "print(f\"나는 {age}살이며, {color}색을 좋아합니다.\")"
   ]
  },
  {
   "cell_type": "code",
   "execution_count": 33,
   "metadata": {},
   "outputs": [
    {
     "name": "stdout",
     "output_type": "stream",
     "text": [
      "--------------------------------당첨자 발표----------------------------------\n",
      "치킨 당첨자 :2\n",
      "커피 당첨자 :[17, 9, 6]\n",
      "--------------------------------축하합니다.----------------------------------\n"
     ]
    }
   ],
   "source": [
    "from random import *\n",
    "users = range(1,21)\n",
    "# print(type(users))\n",
    "users = list(users)\n",
    "\n",
    "shuffle(users)\n",
    "\n",
    "winners = sample(users,4)\n",
    "print('--------------------------------당첨자 발표----------------------------------')\n",
    "print('치킨 당첨자 :{0}'.format(winners[0]))\n",
    "print('커피 당첨자 :{0}'.format(winners[1:]))\n",
    "print('--------------------------------축하합니다.----------------------------------')\n"
   ]
  },
  {
   "cell_type": "code",
   "execution_count": 40,
   "metadata": {},
   "outputs": [
    {
     "name": "stdout",
     "output_type": "stream",
     "text": [
      "목도리를 챙기세요\n"
     ]
    }
   ],
   "source": [
    "weather = input(\"What is the weather today? \")\n",
    "if weather == '비' or weather =='우박':\n",
    "    print('우산을 챙기세요')\n",
    "elif weather == \"눈\" or weather == '바람':\n",
    "    print('목도리를 챙기세요')\n",
    "else:\n",
    "    print('준비물은 필요 없어요.')"
   ]
  },
  {
   "cell_type": "code",
   "execution_count": 42,
   "metadata": {},
   "outputs": [
    {
     "name": "stdout",
     "output_type": "stream",
     "text": [
      "대기 번호 : 1\n",
      "대기 번호 : 2\n",
      "대기 번호 : 3\n",
      "대기 번호 : 4\n",
      "대기 번호 : 5\n",
      "대기 번호 : 6\n",
      "대기 번호 : 7\n",
      "대기 번호 : 8\n",
      "대기 번호 : 9\n",
      "대기 번호 : 10\n"
     ]
    }
   ],
   "source": [
    "for waiting_no in range(1, 11):\n",
    "    print('대기 번호 : {0}'.format(waiting_no))"
   ]
  },
  {
   "cell_type": "code",
   "execution_count": 1,
   "metadata": {},
   "outputs": [
    {
     "name": "stdout",
     "output_type": "stream",
     "text": [
      "아이언맨, 커피가 준비되었습니다.\n",
      "토르, 커피가 준비되었습니다.\n",
      "아이엠 그루트, 커피가 준비되었습니다.\n"
     ]
    }
   ],
   "source": [
    "client = ['아이언맨','토르','아이엠 그루트']\n",
    "for customer in client:\n",
    "    print('{0}, 커피가 준비되었습니다.'.format(customer))"
   ]
  },
  {
   "cell_type": "code",
   "execution_count": 3,
   "metadata": {},
   "outputs": [
    {
     "name": "stdout",
     "output_type": "stream",
     "text": [
      "[ ]1번째 손님 (소요시간 : 39분)\n",
      "[ ]2번째 손님 (소요시간 : 31분)\n",
      "[ ]3번째 손님 (소요시간 : 21분)\n",
      "[ ]4번째 손님 (소요시간 : 29분)\n",
      "[0]5번째 손님 (소요시간 : 5분)\n",
      "[ ]6번째 손님 (소요시간 : 25분)\n",
      "[0]7번째 손님 (소요시간 : 10분)\n",
      "[ ]8번째 손님 (소요시간 : 38분)\n",
      "[ ]9번째 손님 (소요시간 : 24분)\n",
      "[ ]10번째 손님 (소요시간 : 17분)\n",
      "[0]11번째 손님 (소요시간 : 7분)\n",
      "[ ]12번째 손님 (소요시간 : 17분)\n",
      "[ ]13번째 손님 (소요시간 : 22분)\n",
      "[ ]14번째 손님 (소요시간 : 27분)\n",
      "[0]15번째 손님 (소요시간 : 12분)\n",
      "[ ]16번째 손님 (소요시간 : 22분)\n",
      "[ ]17번째 손님 (소요시간 : 50분)\n",
      "[0]18번째 손님 (소요시간 : 13분)\n",
      "[0]19번째 손님 (소요시간 : 10분)\n",
      "[0]20번째 손님 (소요시간 : 6분)\n",
      "[ ]21번째 손님 (소요시간 : 31분)\n",
      "[0]22번째 손님 (소요시간 : 8분)\n",
      "[ ]23번째 손님 (소요시간 : 41분)\n",
      "[ ]24번째 손님 (소요시간 : 29분)\n",
      "[0]25번째 손님 (소요시간 : 6분)\n",
      "[ ]26번째 손님 (소요시간 : 43분)\n",
      "[ ]27번째 손님 (소요시간 : 42분)\n",
      "[0]28번째 손님 (소요시간 : 8분)\n",
      "[ ]29번째 손님 (소요시간 : 30분)\n",
      "[ ]30번째 손님 (소요시간 : 29분)\n",
      "[0]31번째 손님 (소요시간 : 11분)\n",
      "[ ]32번째 손님 (소요시간 : 33분)\n",
      "[0]33번째 손님 (소요시간 : 10분)\n",
      "[0]34번째 손님 (소요시간 : 10분)\n",
      "[0]35번째 손님 (소요시간 : 12분)\n",
      "[ ]36번째 손님 (소요시간 : 40분)\n",
      "[ ]37번째 손님 (소요시간 : 50분)\n",
      "[ ]38번째 손님 (소요시간 : 23분)\n",
      "[ ]39번째 손님 (소요시간 : 36분)\n",
      "[ ]40번째 손님 (소요시간 : 24분)\n",
      "[ ]41번째 손님 (소요시간 : 32분)\n",
      "[ ]42번째 손님 (소요시간 : 44분)\n",
      "[ ]43번째 손님 (소요시간 : 33분)\n",
      "[ ]44번째 손님 (소요시간 : 43분)\n",
      "[ ]45번째 손님 (소요시간 : 39분)\n",
      "[0]46번째 손님 (소요시간 : 6분)\n",
      "[ ]47번째 손님 (소요시간 : 17분)\n",
      "[ ]48번째 손님 (소요시간 : 48분)\n",
      "[0]49번째 손님 (소요시간 : 5분)\n",
      "[0]50번째 손님 (소요시간 : 10분)\n",
      "총 승객 수 : 17\n"
     ]
    }
   ],
   "source": [
    "from random import *\n",
    "# 총 탑승 승객 수\n",
    "cnt = 0\n",
    "# 총 50분의 승객\n",
    "for i in range(1,51):\n",
    "    # 5분~50분 사이의 소요시간\n",
    "    time = randrange(5,51)\n",
    "    \n",
    "    if 5 <= time <= 15:\n",
    "        # 성공 정보 출력\n",
    "        print(\"[0]{0}번째 손님 (소요시간 : {1}분)\".format(i,time))\n",
    "        cnt += 1\n",
    "    else:\n",
    "        # 실패 정보 출력\n",
    "        print(\"[ ]{0}번째 손님 (소요시간 : {1}분)\".format(i,time))\n",
    "\n",
    "print(\"총 승객 수 : {0}\".format(cnt))"
   ]
  },
  {
   "cell_type": "code",
   "execution_count": 10,
   "metadata": {},
   "outputs": [],
   "source": [
    "# 함수 ? 메서드?? \n",
    "def open_account():\n",
    "    print(\"open_account\")\n",
    "\n",
    "def close_account(balance, money):\n",
    "    print(\"close_account. 잔액은 {0}원 입니다.\".format(balance+money))\n",
    "    return balance + money"
   ]
  },
  {
   "cell_type": "code",
   "execution_count": 11,
   "metadata": {},
   "outputs": [
    {
     "name": "stdout",
     "output_type": "stream",
     "text": [
      "close_account. 잔액은 1000원 입니다.\n",
      "1000\n"
     ]
    }
   ],
   "source": [
    "balance = 0\n",
    "balance = close_account(balance,1000)\n",
    "print(balance)"
   ]
  },
  {
   "cell_type": "code",
   "execution_count": 9,
   "metadata": {},
   "outputs": [
    {
     "name": "stdout",
     "output_type": "stream",
     "text": [
      "close_account\n"
     ]
    }
   ],
   "source": [
    "close_account()"
   ]
  },
  {
   "cell_type": "code",
   "execution_count": 7,
   "metadata": {},
   "outputs": [
    {
     "name": "stdout",
     "output_type": "stream",
     "text": [
      "open_account\n"
     ]
    }
   ],
   "source": [
    "open_account()"
   ]
  },
  {
   "cell_type": "code",
   "execution_count": 12,
   "metadata": {},
   "outputs": [
    {
     "name": "stdout",
     "output_type": "stream",
     "text": [
      "이름 : 유재석\t나이 : 20\t주 사용 언어 : 파이썬\n",
      "이름 : 김태호\t나이 : 17\t주 사용 언어 : 파이썬\n",
      "이름 : 이성욱\t나이 : 32\t주 사용 언어 : Python, Java\n"
     ]
    }
   ],
   "source": [
    "def profile(name, age=17, main_lang=\"파이썬\"): # 전달값을 따로 받지 않을때 기본으로 사용할 값\n",
    "    print(\"이름 : {0}\\t나이 : {1}\\t주 사용 언어 : {2}\".format(name, age, main_lang))\n",
    "        \n",
    "profile(\"유재석\", 20)\n",
    "profile(\"김태호\")\n",
    "profile(\"이성욱\", 32, \"Python, Java\")"
   ]
  },
  {
   "cell_type": "code",
   "execution_count": 15,
   "metadata": {},
   "outputs": [
    {
     "name": "stdout",
     "output_type": "stream",
     "text": [
      "이름 :홍길동 \t나이 :20 java python c++ c c++\n",
      "이름 :이성욱 \t나이 :20 java python c++ c c\n"
     ]
    }
   ],
   "source": [
    "def profile(name, age, lang1, lang2, lang3, lang4, lang5):\n",
    "    print('이름 :{0} \\t나이 :{1}'.format(name, age), end=' ')\n",
    "    print(lang1,lang2,lang3,lang4,lang5)\n",
    "\n",
    "profile('홍길동', 20, 'java', 'python', 'c++', 'c', 'c++')\n",
    "profile('이성욱', 20, 'java', 'python', 'c++', 'c', 'c')"
   ]
  },
  {
   "cell_type": "code",
   "execution_count": 21,
   "metadata": {},
   "outputs": [
    {
     "name": "stdout",
     "output_type": "stream",
     "text": [
      "이름 :유재석 \t나이 :20 Python Java C C++ C# JavaScript \n",
      "이름 :김태호 \t나이 :25 Kotlin Swift \n"
     ]
    }
   ],
   "source": [
    "def profile_new(name, age, *language):\n",
    "    print('이름 :{0} \\t나이 :{1}'.format(name, age), end=' ')\n",
    "    for lang in language:\n",
    "            print(lang, end=' ')\n",
    "    print()\n",
    "    \n",
    "profile_new(\"유재석\", 20, \"Python\", \"Java\", \"C\", \"C++\", \"C#\", \"JavaScript\") # JavaScript 추가\n",
    "profile_new(\"김태호\", 25, \"Kotlin\", \"Swift\")"
   ]
  },
  {
   "cell_type": "code",
   "execution_count": null,
   "metadata": {},
   "outputs": [],
   "source": [
    "def profile(name, age, *language): # 언어 정보를 전달하고 싶은 갯수 만큼 전달 가능    \n",
    "    print(\"이름 : {0}\\t나이 : {1}\\t\".format(name, age), end=\" \")\n",
    "    \n",
    "    # print(type(language)) # tuple\n",
    "    for lang in language:\n",
    "        print(lang, end=\" \") # 언어들을 모두 한 줄에 표시\n",
    "    print() # 줄바꿈 목적"
   ]
  },
  {
   "cell_type": "markdown",
   "metadata": {},
   "source": [
    "\n",
    "Quiz) 표준 체중을 구하는 프로그램을 작성하시오\n",
    "\n",
    "* 표준 체중 : 각 개인의 키에 적당한 체중\n",
    "\n",
    " \n",
    "\n",
    "(성별에 따른 공식)\n",
    "\n",
    " 남자 : 키(m) * 키(m) * 22\n",
    "\n",
    " 여자 : 키(m) * 키(m) * 21\n",
    "\n",
    " \n",
    "\n",
    "조건1 : 표준 체중은 별도의 함수 내에서 계산\n",
    "\n",
    "        * 함수명 : std_weight \n",
    "\n",
    "        * 전달값 : 키(height), 성별(gender)\n",
    "\n",
    "조건2 : 표준 체중은 소수점 둘째자리까지 표시\n",
    "\n",
    " \n",
    "\n",
    "(출력 예제)\n",
    "키 175cm 남자의 표준 체중은 67.38kg 입니다."
   ]
  },
  {
   "cell_type": "code",
   "execution_count": 23,
   "metadata": {},
   "outputs": [
    {
     "name": "stdout",
     "output_type": "stream",
     "text": [
      "키 178cm 남자의 표준 체중은 69.7kg 입니다.\n"
     ]
    }
   ],
   "source": [
    "def std_weight(height, gender): \n",
    "    if gender == '남자':\n",
    "        return height * height * 22\n",
    "    else:\n",
    "        return height * height * 21\n",
    "    \n",
    "height = 178\n",
    "gender = '남자'\n",
    "weight = round(std_weight(height / 100 , gender), 2)\n",
    "print('키 {0}cm {1}의 표준 체중은 {2}kg 입니다.'.format(height, gender, weight))\n"
   ]
  },
  {
   "cell_type": "code",
   "execution_count": null,
   "metadata": {},
   "outputs": [],
   "source": []
  }
 ],
 "metadata": {
  "kernelspec": {
   "display_name": "Python 3",
   "language": "python",
   "name": "python3"
  },
  "language_info": {
   "codemirror_mode": {
    "name": "ipython",
    "version": 3
   },
   "file_extension": ".py",
   "mimetype": "text/x-python",
   "name": "python",
   "nbconvert_exporter": "python",
   "pygments_lexer": "ipython3",
   "version": "3.11.3"
  },
  "orig_nbformat": 4
 },
 "nbformat": 4,
 "nbformat_minor": 2
}
