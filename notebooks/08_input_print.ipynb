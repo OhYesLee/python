{
 "cells": [
  {
   "cell_type": "markdown",
   "metadata": {
    "slideshow": {
     "slide_type": "slide"
    }
   },
   "source": [
    "# Input, Print, Condition, Loop\n",
    "파이썬의 입력(input), 출력(print), 조건(if, elif, else), 반복(while, for, comprehension)에 대해서 학습합니다."
   ]
  },
  {
   "cell_type": "markdown",
   "metadata": {},
   "source": [
    "1. 입력 : Input\n",
    "1. 출력 : Print\n",
    "1. 조건 : Condition\n",
    "1. 반복 : Loop"
   ]
  },
  {
   "cell_type": "markdown",
   "metadata": {
    "slideshow": {
     "slide_type": "slide"
    }
   },
   "source": [
    "## 1. 입력 : Input"
   ]
  },
  {
   "cell_type": "markdown",
   "metadata": {
    "slideshow": {
     "slide_type": "slide"
    }
   },
   "source": [
    "### 1.1 문자열 입력"
   ]
  },
  {
   "cell_type": "code",
   "execution_count": 1,
   "metadata": {},
   "outputs": [
    {
     "name": "stdout",
     "output_type": "stream",
     "text": [
      "insert string : python\n",
      "<class 'str'> python\n"
     ]
    }
   ],
   "source": [
    "value = input(\"insert string : \")\n",
    "print(type(value), value)"
   ]
  },
  {
   "cell_type": "markdown",
   "metadata": {
    "slideshow": {
     "slide_type": "slide"
    }
   },
   "source": [
    "### 1.2 숫자입력\n",
    "- input을 이용하여 받은 입력은 string 데이터 타입이기 때문에 숫자로 입력 받기 위해서는 형변환을 해줘야 합니다."
   ]
  },
  {
   "cell_type": "code",
   "execution_count": 2,
   "metadata": {},
   "outputs": [
    {
     "name": "stdout",
     "output_type": "stream",
     "text": [
      "insert number : 123\n",
      "<class 'int'> 123\n"
     ]
    }
   ],
   "source": [
    "value = int(input(\"insert number : \"))\n",
    "print(type(value), value)"
   ]
  },
  {
   "cell_type": "markdown",
   "metadata": {
    "slideshow": {
     "slide_type": "slide"
    }
   },
   "source": [
    "### 1.3 입력 값 활용 \n",
    "- 공백으로 여러개의 값 입력"
   ]
  },
  {
   "cell_type": "code",
   "execution_count": 3,
   "metadata": {},
   "outputs": [
    {
     "name": "stdout",
     "output_type": "stream",
     "text": [
      "insert string : 1 2 3\n",
      "<class 'list'> ['1', '2', '3']\n"
     ]
    }
   ],
   "source": [
    "value = input(\"insert string : \")\n",
    "value = value.split(\" \")\n",
    "print(type(value), value)"
   ]
  },
  {
   "cell_type": "markdown",
   "metadata": {
    "slideshow": {
     "slide_type": "slide"
    }
   },
   "source": [
    "- 반복문으로 여러번 값을 입력 받음"
   ]
  },
  {
   "cell_type": "code",
   "execution_count": 4,
   "metadata": {},
   "outputs": [
    {
     "name": "stdout",
     "output_type": "stream",
     "text": [
      "insert string : python\n",
      "insert string : data\n",
      "insert string : fastcampus\n"
     ]
    },
    {
     "data": {
      "text/plain": [
       "['python', 'data', 'fastcampus']"
      ]
     },
     "execution_count": 4,
     "metadata": {},
     "output_type": "execute_result"
    }
   ],
   "source": [
    "ls = []\n",
    "for _ in range(3):\n",
    "    ls.append(input(\"insert string : \"))\n",
    "ls"
   ]
  },
  {
   "cell_type": "markdown",
   "metadata": {
    "slideshow": {
     "slide_type": "slide"
    }
   },
   "source": [
    "- 입력 받은 숫자를 반복문에 활용"
   ]
  },
  {
   "cell_type": "code",
   "execution_count": 5,
   "metadata": {},
   "outputs": [
    {
     "name": "stdout",
     "output_type": "stream",
     "text": [
      "number : 3\n",
      "dss\n",
      "dss\n",
      "dss\n"
     ]
    }
   ],
   "source": [
    "n = int(input(\"number : \"))\n",
    "for _ in range(n):\n",
    "    print(\"dss\")"
   ]
  },
  {
   "cell_type": "markdown",
   "metadata": {
    "slideshow": {
     "slide_type": "skip"
    }
   },
   "source": [
    "### Quiz 1\n",
    "- 두개의 숫자를 입력 받아 입력 받은 숫자를 더하는 코드를 작성하세요.\n",
    "```\n",
    "insert number 1 : 3\n",
    "insert number 2 : 10\n",
    "출력 - 13\n",
    "```"
   ]
  },
  {
   "cell_type": "markdown",
   "metadata": {
    "slideshow": {
     "slide_type": "slide"
    }
   },
   "source": [
    "## 2. 출력 : Print"
   ]
  },
  {
   "cell_type": "markdown",
   "metadata": {
    "slideshow": {
     "slide_type": "slide"
    }
   },
   "source": [
    "- 여러개의 값을 출력"
   ]
  },
  {
   "cell_type": "code",
   "execution_count": 6,
   "metadata": {},
   "outputs": [
    {
     "name": "stdout",
     "output_type": "stream",
     "text": [
      "fast campus\n"
     ]
    }
   ],
   "source": [
    "print(\"fast\", \"campus\")"
   ]
  },
  {
   "cell_type": "code",
   "execution_count": 7,
   "metadata": {},
   "outputs": [
    {
     "data": {
      "text/plain": [
       "('fast', 'campus')"
      ]
     },
     "execution_count": 7,
     "metadata": {},
     "output_type": "execute_result"
    }
   ],
   "source": [
    "\"fast\", \"campus\""
   ]
  },
  {
   "cell_type": "markdown",
   "metadata": {
    "slideshow": {
     "slide_type": "slide"
    }
   },
   "source": [
    "- sep 파라미터\n",
    "    - sep 파라미터는 `sep=\" \"`으로 설정되어 있습니다."
   ]
  },
  {
   "cell_type": "code",
   "execution_count": 8,
   "metadata": {},
   "outputs": [
    {
     "name": "stdout",
     "output_type": "stream",
     "text": [
      "fast@campus\n"
     ]
    }
   ],
   "source": [
    "print(\"fast\", \"campus\", sep=\"@\")"
   ]
  },
  {
   "cell_type": "markdown",
   "metadata": {
    "slideshow": {
     "slide_type": "slide"
    }
   },
   "source": [
    "-  end 파라미터\n",
    "    - end 파라미터는 `end=\"\\n\"`으로 설정되어 있습니다."
   ]
  },
  {
   "cell_type": "code",
   "execution_count": 9,
   "metadata": {},
   "outputs": [
    {
     "name": "stdout",
     "output_type": "stream",
     "text": [
      "data\n",
      "dss\n"
     ]
    }
   ],
   "source": [
    "print(\"data\")\n",
    "print(\"dss\")"
   ]
  },
  {
   "cell_type": "code",
   "execution_count": 10,
   "metadata": {},
   "outputs": [
    {
     "name": "stdout",
     "output_type": "stream",
     "text": [
      "fast\tcampus\n"
     ]
    }
   ],
   "source": [
    "print(\"fast\", end=\"\\t\")\n",
    "print(\"campus\")"
   ]
  },
  {
   "cell_type": "code",
   "execution_count": 11,
   "metadata": {},
   "outputs": [
    {
     "name": "stdout",
     "output_type": "stream",
     "text": [
      "fast campus\n"
     ]
    }
   ],
   "source": [
    "print(\"fast\", end=\" \")\n",
    "print(\"campus\")"
   ]
  },
  {
   "cell_type": "markdown",
   "metadata": {
    "slideshow": {
     "slide_type": "slide"
    }
   },
   "source": [
    "- string format 사용"
   ]
  },
  {
   "cell_type": "code",
   "execution_count": 12,
   "metadata": {},
   "outputs": [
    {
     "name": "stdout",
     "output_type": "stream",
     "text": [
      "number : 1234, string: fastcampus\n"
     ]
    }
   ],
   "source": [
    "# 순서를 맞춰줘야 합니다.\n",
    "a, b = 1234, \"fastcampus\"\n",
    "print(\"number : {}, string: {}\".format(a, b))"
   ]
  },
  {
   "cell_type": "code",
   "execution_count": 13,
   "metadata": {},
   "outputs": [
    {
     "name": "stdout",
     "output_type": "stream",
     "text": [
      "number : 1234, string: fastcampus\n"
     ]
    }
   ],
   "source": [
    "# 키워드로 매핑을 시키기 때문에 순서가 맞지 않아도 됩니다.\n",
    "a, b = 1234, \"fastcampus\"\n",
    "print(\"number : {num}, string: {string}\".format(num=a, string=b))"
   ]
  },
  {
   "cell_type": "code",
   "execution_count": 14,
   "metadata": {},
   "outputs": [
    {
     "name": "stdout",
     "output_type": "stream",
     "text": [
      "number : 1234, string: fastcampus\n"
     ]
    }
   ],
   "source": [
    "a, b = 1234, \"fastcampus\"\n",
    "print(\"number : {num}, string: {string}\".format(string=b, num=a))"
   ]
  },
  {
   "cell_type": "code",
   "execution_count": 15,
   "metadata": {},
   "outputs": [
    {
     "name": "stdout",
     "output_type": "stream",
     "text": [
      "number : 1234, string: fastcampus\n"
     ]
    }
   ],
   "source": [
    "# 문자열 사이에 + 연산자를 사용하여 문자열을 만들어 줄수도 있습니다.\n",
    "print(\"number : \" + str(a) + \", string: \" + b)"
   ]
  },
  {
   "cell_type": "markdown",
   "metadata": {
    "slideshow": {
     "slide_type": "skip"
    }
   },
   "source": [
    "### Quiz 2\n",
    "- 아래 데이터에서 총점과 평균을 출력하세요. \n",
    "- string format을 이용해 주세요.\n",
    "\n",
    "```\n",
    "datas = {\"korean\" : 86, \"math\": 98, \"science\": 79}\n",
    "```\n",
    "\n",
    "- 출력\n",
    "\n",
    "```\n",
    "총점은 263점 이고, 평균은 87.67점 입니다.\n",
    "```"
   ]
  }
 ],
 "metadata": {
  "celltoolbar": "Slideshow",
  "kernelspec": {
   "display_name": "Python 3",
   "language": "python",
   "name": "python3"
  },
  "language_info": {
   "codemirror_mode": {
    "name": "ipython",
    "version": 3
   },
   "file_extension": ".py",
   "mimetype": "text/x-python",
   "name": "python",
   "nbconvert_exporter": "python",
   "pygments_lexer": "ipython3",
   "version": "3.7.3"
  }
 },
 "nbformat": 4,
 "nbformat_minor": 2
}
