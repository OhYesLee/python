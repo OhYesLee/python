{
 "cells": [
  {
   "cell_type": "markdown",
   "metadata": {
    "slideshow": {
     "slide_type": "slide"
    }
   },
   "source": [
    "## 자료형 : Datatype - Numbers, Boolean, String\n",
    "\n",
    "1. Numbers\n",
    "2. Boolean\n",
    "3. String\n",
    "4. List\n",
    "5. Tuple\n",
    "6. Dictionary\n",
    "7. Set"
   ]
  },
  {
   "cell_type": "markdown",
   "metadata": {},
   "source": [
    "- collection \n",
    "    - List, Tuple, Dictionary, Set\n",
    "- iterable \n",
    "    - List, Tuple"
   ]
  },
  {
   "cell_type": "markdown",
   "metadata": {
    "slideshow": {
     "slide_type": "slide"
    }
   },
   "source": [
    "### 1. Numbers\n",
    "\n",
    "숫자 데이터 타입은 정수인 integer와 실수인 float이 있습니다."
   ]
  },
  {
   "cell_type": "markdown",
   "metadata": {
    "slideshow": {
     "slide_type": "slide"
    }
   },
   "source": [
    "#### 1.1 int\n",
    "\n",
    "정수형 데이터로 python 2.x 버전에서는 ( `-2**31 - 1 ~ 2**31` ) 의 숫자를 표현할수 있고, python 3.x 에서는 거의 무한대 로 사용이 가능합니다."
   ]
  },
  {
   "cell_type": "code",
   "execution_count": 1,
   "metadata": {},
   "outputs": [
    {
     "name": "stdout",
     "output_type": "stream",
     "text": [
      "<class 'int'> <class 'int'> <class 'int'> <class 'int'>\n",
      "0 998374 -188723 29993\n"
     ]
    }
   ],
   "source": [
    "a, b, c, d = 0, 998374, -188723, +29993\n",
    "print(type(a), type(b), type(c), type(d))\n",
    "print(a, b, c, d)"
   ]
  },
  {
   "cell_type": "markdown",
   "metadata": {
    "slideshow": {
     "slide_type": "slide"
    }
   },
   "source": [
    "#### 1.2 float\n",
    "소수점이 있는 실수를 나타냅니다."
   ]
  },
  {
   "cell_type": "code",
   "execution_count": 2,
   "metadata": {},
   "outputs": [
    {
     "name": "stdout",
     "output_type": "stream",
     "text": [
      "<class 'float'> <class 'float'> <class 'float'> <class 'float'>\n",
      "0.0 998.3223 -188723.1233 29993.111\n"
     ]
    }
   ],
   "source": [
    "a, b, c, d = 0.0, 998.3223, -188723.1233, +29993.111\n",
    "print(type(a), type(b), type(c), type(d))\n",
    "print(a, b, c, d)"
   ]
  },
  {
   "cell_type": "markdown",
   "metadata": {
    "slideshow": {
     "slide_type": "slide"
    }
   },
   "source": [
    "### 2. Boolean\n",
    "True와 False 두가지로 이루어진 데이터 타입입니다."
   ]
  },
  {
   "cell_type": "code",
   "execution_count": 3,
   "metadata": {},
   "outputs": [
    {
     "name": "stdout",
     "output_type": "stream",
     "text": [
      "<class 'bool'> <class 'bool'>\n",
      "True False\n"
     ]
    }
   ],
   "source": [
    "a, b = True, False\n",
    "print(type(a), type(b))\n",
    "print(a, b)"
   ]
  },
  {
   "cell_type": "markdown",
   "metadata": {
    "slideshow": {
     "slide_type": "slide"
    }
   },
   "source": [
    "### 3. String\n",
    "- 문자열 선언\n",
    "- 문자열 오프셋\n",
    "- 문자열 함수"
   ]
  },
  {
   "cell_type": "markdown",
   "metadata": {
    "slideshow": {
     "slide_type": "slide"
    }
   },
   "source": [
    "#### 3.1 문자열 선언\n",
    "\n",
    "문자들의 집합인 문자열을 나타내는 데이터 타입입니다. \"\" 나 '' 안에 문자열을 넣어 변수를 선언 합니다."
   ]
  },
  {
   "cell_type": "code",
   "execution_count": 4,
   "metadata": {
    "slideshow": {
     "slide_type": "slide"
    }
   },
   "outputs": [
    {
     "name": "stdout",
     "output_type": "stream",
     "text": [
      "<class 'str'> <class 'str'> <class 'str'> <class 'str'>\n"
     ]
    },
    {
     "data": {
      "text/plain": [
       "('FastCampus', '데이터사이언스', '데이터\"Science', \"데이터'Science\")"
      ]
     },
     "execution_count": 4,
     "metadata": {},
     "output_type": "execute_result"
    }
   ],
   "source": [
    "a, b, c, d = \"FastCampus\", \"데이터사이언스\", '데이터\"Science', \"데이터'Science\"\n",
    "print(type(a), type(b), type(c), type(d))\n",
    "a, b, c, d"
   ]
  },
  {
   "cell_type": "code",
   "execution_count": 5,
   "metadata": {},
   "outputs": [
    {
     "name": "stdout",
     "output_type": "stream",
     "text": [
      "FastCampus\n",
      "데이터사이언스\n",
      "Science\n"
     ]
    }
   ],
   "source": [
    "# 여러줄을 작성할때는 \"\"\" 문자열 \"\"\" 이나 ''' 문자열 '''을 사용합니다.\n",
    "ms = \"\"\"FastCampus\n",
    "데이터사이언스\n",
    "Science\"\"\"\n",
    "print(ms)"
   ]
  },
  {
   "cell_type": "code",
   "execution_count": 6,
   "metadata": {},
   "outputs": [
    {
     "data": {
      "text/plain": [
       "'Fast Fast Fast Fast '"
      ]
     },
     "execution_count": 6,
     "metadata": {},
     "output_type": "execute_result"
    }
   ],
   "source": [
    "# 연산자를 이용하여 문자열을 반복하여 저장 할수 있습니다.\n",
    "a = \"Fast \" * 4\n",
    "a"
   ]
  },
  {
   "cell_type": "markdown",
   "metadata": {
    "slideshow": {
     "slide_type": "slide"
    }
   },
   "source": [
    "### Quiz 1\n",
    "\n",
    "- 변수의 선언 및 코드의 양을 최소화하여 아래의 문자열을 출력하세요.\n",
    "\n",
    "    `hellow python hellow python hellow python`"
   ]
  },
  {
   "cell_type": "code",
   "execution_count": 9,
   "metadata": {
    "slideshow": {
     "slide_type": "skip"
    }
   },
   "outputs": [
    {
     "name": "stdout",
     "output_type": "stream",
     "text": [
      "hello python hello python hello python \n"
     ]
    }
   ],
   "source": [
    "data = \"hello python \"\n",
    "print(data * 3)"
   ]
  },
  {
   "cell_type": "markdown",
   "metadata": {
    "slideshow": {
     "slide_type": "slide"
    }
   },
   "source": [
    "### Quiz 2\n",
    "\n",
    "- 변수의 선언 및 코드의 양을 최소화하여 아래의 문자열을 출력하세요.\n",
    "\n",
    "    `hello hello hello python python python`"
   ]
  },
  {
   "cell_type": "code",
   "execution_count": 10,
   "metadata": {
    "slideshow": {
     "slide_type": "skip"
    }
   },
   "outputs": [
    {
     "name": "stdout",
     "output_type": "stream",
     "text": [
      "hello hello hello python python python \n"
     ]
    }
   ],
   "source": [
    "data1, data2 = \"hello \", \"python \"\n",
    "print(data1 * 3 + data2 * 3)"
   ]
  },
  {
   "cell_type": "markdown",
   "metadata": {
    "slideshow": {
     "slide_type": "slide"
    }
   },
   "source": [
    "#### 3.2 문자열 offset\n",
    "- 오프셋을 사용하여 문자열을 자르거나 특정 위치의 문자를 출력할수 있습니다. 오프셋은 `[start:end:stride]` 형태로 사용 합니다.\n",
    "- 오프셋에 하나의 정수만 넣으면 정수에 위치한 문자가 출력됩니다. 양수는 왼쪽에서 오른쪽으로 0부터 시작되고 음수는 가장 뒤에서부터 시작합니다."
   ]
  },
  {
   "cell_type": "code",
   "execution_count": 11,
   "metadata": {},
   "outputs": [
    {
     "data": {
      "text/plain": [
       "('a', 'f', 'k', 'g')"
      ]
     },
     "execution_count": 11,
     "metadata": {},
     "output_type": "execute_result"
    }
   ],
   "source": [
    "a = \"abcdefghijk\"\n",
    "a[0], a[5], a[-1], a[-5]"
   ]
  },
  {
   "cell_type": "markdown",
   "metadata": {
    "slideshow": {
     "slide_type": "slide"
    }
   },
   "source": [
    "오프셋으로 문자열을 슬라이싱 할 수 있습니다. \n",
    "\n",
    "start에 아무것도 안쓰면 가장 앞을 의미하며 end 부분에 아무것도 안쓰면 가장 마지막 index 값을 의미합니다. \n",
    "\n",
    "stride에 아무것도 안쓰면 1이 들어간것과 같습니다."
   ]
  },
  {
   "cell_type": "code",
   "execution_count": 12,
   "metadata": {},
   "outputs": [
    {
     "data": {
      "text/plain": [
       "('bc', 'abcde', 'ijk', 'abcdefghijk', 'acegik')"
      ]
     },
     "execution_count": 12,
     "metadata": {},
     "output_type": "execute_result"
    }
   ],
   "source": [
    "a = \"abcdefghijk\"\n",
    "a[1:3], a[:5], a[-3:], a[:], a[::2]"
   ]
  },
  {
   "cell_type": "markdown",
   "metadata": {
    "slideshow": {
     "slide_type": "slide"
    }
   },
   "source": [
    "stride에 -1을 넣어 문자열을 거꾸로 만들수도 있습니다."
   ]
  },
  {
   "cell_type": "code",
   "execution_count": 13,
   "metadata": {},
   "outputs": [
    {
     "data": {
      "text/plain": [
       "'kjihgfedcba'"
      ]
     },
     "execution_count": 13,
     "metadata": {},
     "output_type": "execute_result"
    }
   ],
   "source": [
    "a = \"abcdefghijk\"\n",
    "a[::-1]"
   ]
  },
  {
   "cell_type": "markdown",
   "metadata": {
    "slideshow": {
     "slide_type": "slide"
    }
   },
   "source": [
    "len() 함수를 이용하여 문자열의 길이를 알수 있습니다."
   ]
  },
  {
   "cell_type": "code",
   "execution_count": 14,
   "metadata": {},
   "outputs": [
    {
     "data": {
      "text/plain": [
       "11"
      ]
     },
     "execution_count": 14,
     "metadata": {},
     "output_type": "execute_result"
    }
   ],
   "source": [
    "a = \"abcdefghijk\"\n",
    "len(a)"
   ]
  },
  {
   "cell_type": "markdown",
   "metadata": {
    "slideshow": {
     "slide_type": "slide"
    }
   },
   "source": [
    "end에 아무것도 안쓴것과 len(a) 는 같습니다. \n",
    "\n",
    "아래의 코드는 같은 문자열을 출력합니다."
   ]
  },
  {
   "cell_type": "code",
   "execution_count": 15,
   "metadata": {},
   "outputs": [
    {
     "data": {
      "text/plain": [
       "('abcdefghijk', 'abcdefghijk')"
      ]
     },
     "execution_count": 15,
     "metadata": {},
     "output_type": "execute_result"
    }
   ],
   "source": [
    "a = \"abcdefghijk\"\n",
    "a[:len(a)], a[:]"
   ]
  },
  {
   "cell_type": "markdown",
   "metadata": {
    "slideshow": {
     "slide_type": "slide"
    }
   },
   "source": [
    "### Quiz 3\n",
    "\n",
    "- 문자열 오프셋을 이용하여 아래의 코드와 같이 data 변수를 선언하고 단어가 거꾸로 출력되도록 하세요.\n",
    "- 코드를 추가 하여 `python hello`로 결과가 나오면 됩니다.\n",
    "\n",
    " `data = \"hello python\"`"
   ]
  },
  {
   "cell_type": "code",
   "execution_count": 16,
   "metadata": {
    "slideshow": {
     "slide_type": "skip"
    }
   },
   "outputs": [
    {
     "name": "stdout",
     "output_type": "stream",
     "text": [
      "python hello\n"
     ]
    }
   ],
   "source": [
    "data = \"hello python\"\n",
    "data1 = data[:5]\n",
    "data2 = data[6:]\n",
    "print(data2, data1)"
   ]
  },
  {
   "cell_type": "markdown",
   "metadata": {
    "slideshow": {
     "slide_type": "slide"
    }
   },
   "source": [
    "### Quiz 4\n",
    "\n",
    "- data 변수를 선언하여 문자열 오프셋을 이용하여\n",
    "\n",
    "    `data = \"0123456789\"`\n",
    "    \n",
    "    \n",
    "- 짝수만 거꾸로 출력되도록 코드를 작성하세요.\n",
    "\n",
    "    `86420`"
   ]
  },
  {
   "cell_type": "code",
   "execution_count": 17,
   "metadata": {
    "slideshow": {
     "slide_type": "skip"
    }
   },
   "outputs": [
    {
     "name": "stdout",
     "output_type": "stream",
     "text": [
      "86420\n"
     ]
    }
   ],
   "source": [
    "data = \"0123456789\"\n",
    "print(data[::2][::-1])"
   ]
  },
  {
   "cell_type": "markdown",
   "metadata": {
    "slideshow": {
     "slide_type": "slide"
    }
   },
   "source": [
    "#### 3.3 String 함수\n",
    "\n",
    "문자열 함수를 이용하여 문자열을 원하는 대로 수정할수 있습니다. 문자열 함수에 대해서는 (https://docs.python.org/3/\\library/stdtypes.html#string-methods) 를 참고 하시면 됩니다.\n",
    "\n",
    "주요 문자열 메서드\n",
    "\n",
    "- upper() : 대문자로 변환\n",
    "- lower() : 소문자로 변환\n",
    "- find() : 해당 문자열 위치 리턴 (없으면 -1 리턴)\n",
    "- index() : 해당 문자열 위치 리턴 (없으면 value error 리턴)\n",
    "- count() : 문자열 갯수 리턴\n",
    "- lstrip() : 왼쪽 공백 제거\n",
    "- rstrip() : 오른쪽 공백 제거\n",
    "- strip() : 양쪽 공백 제거\n",
    "- replace() : 특정 문자열 치환\n",
    "- split() : 특정 문자열로 분리하여 리스트 형태로 리턴\n",
    "- endswith() : 마지막 문자열이 일치하면 True 리턴\n",
    "- join() : 문자열 리스트를 결합"
   ]
  },
  {
   "cell_type": "markdown",
   "metadata": {
    "slideshow": {
     "slide_type": "slide"
    }
   },
   "source": [
    "a라는 이름의 변수에 문자열을 선언합니다."
   ]
  },
  {
   "cell_type": "code",
   "execution_count": 18,
   "metadata": {
    "slideshow": {
     "slide_type": "-"
    }
   },
   "outputs": [],
   "source": [
    "a = \" FAST campus datascience \""
   ]
  },
  {
   "cell_type": "markdown",
   "metadata": {
    "slideshow": {
     "slide_type": "slide"
    }
   },
   "source": [
    "upper 함수는 대문자 lower 함수는 소문자로 문자열을 변환합니다."
   ]
  },
  {
   "cell_type": "code",
   "execution_count": 19,
   "metadata": {},
   "outputs": [
    {
     "name": "stdout",
     "output_type": "stream",
     "text": [
      " FAST CAMPUS DATASCIENCE \n",
      " fast campus datascience \n"
     ]
    }
   ],
   "source": [
    "# a = \" FAST campus datascience \"\n",
    "print(a.upper())\n",
    "print(a.lower())"
   ]
  },
  {
   "cell_type": "markdown",
   "metadata": {
    "slideshow": {
     "slide_type": "slide"
    }
   },
   "source": [
    "find 함수는 문자열에서 특정 문자열의 위치를 찾아줍니다. \n",
    "\n",
    "없는 문자열을 찾는 경우에는 -1을 출력합니다."
   ]
  },
  {
   "cell_type": "code",
   "execution_count": 20,
   "metadata": {},
   "outputs": [
    {
     "name": "stdout",
     "output_type": "stream",
     "text": [
      "6\n",
      "-1\n"
     ]
    }
   ],
   "source": [
    "# a = \" FAST campus datascience \"\n",
    "print(a.find(\"c\"))\n",
    "print(a.find(\"q\"))"
   ]
  },
  {
   "cell_type": "markdown",
   "metadata": {
    "slideshow": {
     "slide_type": "slide"
    }
   },
   "source": [
    "index 함수는 문자열에서 특정 문자열의 위치를 찾아줍니다. \n",
    "\n",
    "find 함수와의 차이는 찾는 문자열이 없는 경우 에러를 발생합니다."
   ]
  },
  {
   "cell_type": "code",
   "execution_count": 21,
   "metadata": {},
   "outputs": [
    {
     "name": "stdout",
     "output_type": "stream",
     "text": [
      "6\n"
     ]
    }
   ],
   "source": [
    "print(a.index(\"c\"))"
   ]
  },
  {
   "cell_type": "code",
   "execution_count": 22,
   "metadata": {},
   "outputs": [
    {
     "name": "stdout",
     "output_type": "stream",
     "text": [
      "substring not found\n"
     ]
    }
   ],
   "source": [
    "try:\n",
    "    print(a.index(\"z\"))\n",
    "except Exception as e:\n",
    "    print(e)"
   ]
  },
  {
   "cell_type": "markdown",
   "metadata": {
    "slideshow": {
     "slide_type": "slide"
    }
   },
   "source": [
    "count 함수는 특정 문자열의 갯수를 출력합니다.\n",
    "\n",
    "대소문자를 구분합니다."
   ]
  },
  {
   "cell_type": "code",
   "execution_count": 23,
   "metadata": {},
   "outputs": [
    {
     "name": "stdout",
     "output_type": "stream",
     "text": [
      "3\n"
     ]
    }
   ],
   "source": [
    "# a = \" FAST campus datascience \"\n",
    "print(a.count(\"a\"))"
   ]
  },
  {
   "cell_type": "markdown",
   "metadata": {
    "slideshow": {
     "slide_type": "slide"
    }
   },
   "source": [
    "lstrip 함수는 문자열에서 왼쪽 공백을 제거합니다.\n",
    "\n",
    "rstrip 함수는 오른쪽 공백을 제거합니다. \n",
    "\n",
    "strip 함수는 양쪽 공백을 제거합니다."
   ]
  },
  {
   "cell_type": "code",
   "execution_count": 24,
   "metadata": {},
   "outputs": [
    {
     "name": "stdout",
     "output_type": "stream",
     "text": [
      "FAST campus datascience \n",
      " FAST campus datascience\n",
      "FAST campus datascience\n"
     ]
    }
   ],
   "source": [
    "print(a.lstrip())\n",
    "print(a.rstrip())\n",
    "print(a.strip())"
   ]
  },
  {
   "cell_type": "markdown",
   "metadata": {
    "slideshow": {
     "slide_type": "slide"
    }
   },
   "source": [
    "replace 함수는 문자열을 변환합니다."
   ]
  },
  {
   "cell_type": "code",
   "execution_count": 25,
   "metadata": {},
   "outputs": [
    {
     "name": "stdout",
     "output_type": "stream",
     "text": [
      " FAST cbmpus dbtbscience \n"
     ]
    }
   ],
   "source": [
    "print(a.replace(\"a\", \"b\"))"
   ]
  },
  {
   "cell_type": "markdown",
   "metadata": {
    "slideshow": {
     "slide_type": "slide"
    }
   },
   "source": [
    "split 함수는 문자열을 특정 문자를 구분자로 설정하여 리스트로 변환합니다."
   ]
  },
  {
   "cell_type": "code",
   "execution_count": 26,
   "metadata": {},
   "outputs": [
    {
     "name": "stdout",
     "output_type": "stream",
     "text": [
      "['', 'FAST', 'campus', 'datascience', '']\n"
     ]
    }
   ],
   "source": [
    "print(a.split(\" \"))"
   ]
  },
  {
   "cell_type": "markdown",
   "metadata": {
    "slideshow": {
     "slide_type": "slide"
    }
   },
   "source": [
    "endswith는 마지막 문자열을 비교하여 같으면 True, 다르면 False를 출력합니다.\n",
    "\n",
    "체이닝 : 여러개의 함수를 연결해서 같이 사용할수 있습니다. "
   ]
  },
  {
   "cell_type": "code",
   "execution_count": 27,
   "metadata": {},
   "outputs": [
    {
     "name": "stdout",
     "output_type": "stream",
     "text": [
      "True\n"
     ]
    }
   ],
   "source": [
    "print(a.rstrip().endswith(\"datascience\"))"
   ]
  },
  {
   "cell_type": "markdown",
   "metadata": {
    "slideshow": {
     "slide_type": "slide"
    }
   },
   "source": [
    "join 함수는 리스트로 되어있는 데이터를 문자열로 결합해 줍니다."
   ]
  },
  {
   "cell_type": "code",
   "execution_count": 28,
   "metadata": {},
   "outputs": [
    {
     "name": "stdout",
     "output_type": "stream",
     "text": [
      "fast-campus-data-science\n"
     ]
    }
   ],
   "source": [
    "a = [\"fast\", \"campus\", \"data\", \"science\"]\n",
    "print(\"-\".join(a))"
   ]
  },
  {
   "cell_type": "markdown",
   "metadata": {
    "slideshow": {
     "slide_type": "slide"
    }
   },
   "source": [
    "### Quiz 5\n",
    "\n",
    "- string_1, string_2 변수를 사용하여 data 변수에 `hello python!`이 저장되도록 코드를 작성하세요.\n",
    "- data 변수의 마지막 문자에 공백이 들어가면 안됩니다.\n",
    "\n",
    "    ```\n",
    "    string_1 = \"hello \"\n",
    "    string_2 = \"python \"\n",
    "    ```"
   ]
  },
  {
   "cell_type": "code",
   "execution_count": 29,
   "metadata": {
    "slideshow": {
     "slide_type": "skip"
    }
   },
   "outputs": [
    {
     "name": "stdout",
     "output_type": "stream",
     "text": [
      "hello python!\n"
     ]
    }
   ],
   "source": [
    "string_1 = \"hello \"\n",
    "string_2 = \"python \"\n",
    "data = (string_1 + string_2).rstrip() + \"!\"\n",
    "print(data)"
   ]
  },
  {
   "cell_type": "code",
   "execution_count": 30,
   "metadata": {
    "slideshow": {
     "slide_type": "skip"
    }
   },
   "outputs": [
    {
     "name": "stdout",
     "output_type": "stream",
     "text": [
      "hello python!\n"
     ]
    }
   ],
   "source": [
    "string_1 = \"hello \"\n",
    "string_2 = \"python \"\n",
    "data = (string_1 + string_2)[:-1] + \"!\"\n",
    "print(data)"
   ]
  },
  {
   "cell_type": "markdown",
   "metadata": {
    "slideshow": {
     "slide_type": "slide"
    }
   },
   "source": [
    "### Quiz 6\n",
    "\n",
    "- 아래와 같이 string_1, string_2, data 변수가 선언되어 있는 상태에서 data의 단어가 거꾸로 출력되도록 코드를 작성하세요.\n",
    "- 오프셋과 len 함수를 사용하세요.\n",
    "- string_1과 string_2의 변수가 변경되어도 단어가 반대로 출력되어야 합니다.\n",
    "\n",
    "    ```\n",
    "    string_1, string_2 = \"hello\", \"python\"\n",
    "    data = string_1 + \" \" + string_2 + \"!\"\n",
    "    ```\n",
    "\n",
    "- 결과 \n",
    "    \n",
    "    ```\n",
    "    python hello!\n",
    "    ```"
   ]
  },
  {
   "cell_type": "code",
   "execution_count": 31,
   "metadata": {
    "slideshow": {
     "slide_type": "skip"
    }
   },
   "outputs": [
    {
     "data": {
      "text/plain": [
       "'python hello!'"
      ]
     },
     "execution_count": 31,
     "metadata": {},
     "output_type": "execute_result"
    }
   ],
   "source": [
    "string_1, string_2 = \"hello\", \"python\"\n",
    "data = string_1 + \" \" + string_2 + \"!\"\n",
    "data[:-1][-len(string_2):] + \" \" + data[:len(string_1)] + \"!\""
   ]
  }
 ],
 "metadata": {
  "celltoolbar": "Slideshow",
  "kernelspec": {
   "display_name": "Python 3",
   "language": "python",
   "name": "python3"
  },
  "language_info": {
   "codemirror_mode": {
    "name": "ipython",
    "version": 3
   },
   "file_extension": ".py",
   "mimetype": "text/x-python",
   "name": "python",
   "nbconvert_exporter": "python",
   "pygments_lexer": "ipython3",
   "version": "3.7.3"
  },
  "varInspector": {
   "cols": {
    "lenName": 16,
    "lenType": 16,
    "lenVar": 40
   },
   "kernels_config": {
    "python": {
     "delete_cmd_postfix": "",
     "delete_cmd_prefix": "del ",
     "library": "var_list.py",
     "varRefreshCmd": "print(var_dic_list())"
    },
    "r": {
     "delete_cmd_postfix": ") ",
     "delete_cmd_prefix": "rm(",
     "library": "var_list.r",
     "varRefreshCmd": "cat(var_dic_list()) "
    }
   },
   "types_to_exclude": [
    "module",
    "function",
    "builtin_function_or_method",
    "instance",
    "_Feature"
   ],
   "window_display": false
  }
 },
 "nbformat": 4,
 "nbformat_minor": 2
}
