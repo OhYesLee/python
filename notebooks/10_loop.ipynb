{
 "cells": [
  {
   "cell_type": "markdown",
   "metadata": {
    "slideshow": {
     "slide_type": "slide"
    }
   },
   "source": [
    "# Input, Output, Condition, Loop\n",
    "파이썬의 입력(input), 출력(print), 조건(if, elif, else), 반복(while, for, comprehension)에 대해서 학습합니다."
   ]
  },
  {
   "cell_type": "markdown",
   "metadata": {},
   "source": [
    "1. 입력 : Input\n",
    "1. 출력 : Print\n",
    "1. 조건 : Condition\n",
    "1. 반복 : Loop"
   ]
  },
  {
   "cell_type": "markdown",
   "metadata": {
    "slideshow": {
     "slide_type": "slide"
    }
   },
   "source": [
    "## 4.반복 : Loop\n",
    "1. while\n",
    "1. break\n",
    "1. continue\n",
    "1. for\n",
    "1. list comprehension"
   ]
  },
  {
   "cell_type": "markdown",
   "metadata": {
    "slideshow": {
     "slide_type": "slide"
    }
   },
   "source": [
    "### 4.1 while\n",
    "condition이 True이면 while 안쪽의 code가 실행 후 다시 condition을 확인하여 True이면 code를 실행을 반복합니다.\n",
    "```\n",
    "while <condition>:\n",
    "    <code>\n",
    "```\n",
    "\\* while 은 잘못사용하면 무한루프에 빠지기 때문에 주의해서 사용해야 합니다."
   ]
  },
  {
   "cell_type": "code",
   "execution_count": 1,
   "metadata": {},
   "outputs": [
    {
     "name": "stdout",
     "output_type": "stream",
     "text": [
      "3\n",
      "2\n",
      "1\n"
     ]
    },
    {
     "data": {
      "text/plain": [
       "0"
      ]
     },
     "execution_count": 1,
     "metadata": {},
     "output_type": "execute_result"
    }
   ],
   "source": [
    "a = 3\n",
    "while a:\n",
    "    print(a)\n",
    "    a -= 1\n",
    "a"
   ]
  },
  {
   "cell_type": "markdown",
   "metadata": {
    "slideshow": {
     "slide_type": "skip"
    }
   },
   "source": [
    "##### Quiz 1\n",
    "- 아래의 ls 리스트의 값을 while 문을 사용하여 다 더하는 코드를 작성하세요.\n",
    "```\n",
    "ls = [1, 2, 3, 4, 5, 6, 7, 8, 9, 10]\n",
    "```"
   ]
  },
  {
   "cell_type": "markdown",
   "metadata": {
    "slideshow": {
     "slide_type": "slide"
    }
   },
   "source": [
    "### 4.2 break\n",
    "- 반복문이 실행되던 중간에 break를 만나게 되면 반복문이 종료됩니다."
   ]
  },
  {
   "cell_type": "code",
   "execution_count": 2,
   "metadata": {},
   "outputs": [
    {
     "name": "stdout",
     "output_type": "stream",
     "text": [
      "3\n",
      "2\n"
     ]
    },
    {
     "data": {
      "text/plain": [
       "2"
      ]
     },
     "execution_count": 2,
     "metadata": {},
     "output_type": "execute_result"
    }
   ],
   "source": [
    "a = 3\n",
    "while a:\n",
    "    print(a)\n",
    "    if a == 2:\n",
    "        break\n",
    "    a -= 1\n",
    "a"
   ]
  },
  {
   "cell_type": "code",
   "execution_count": 3,
   "metadata": {},
   "outputs": [],
   "source": [
    "# 무한 루프\n",
    "# while True:\n",
    "#     a = 1"
   ]
  },
  {
   "cell_type": "markdown",
   "metadata": {
    "slideshow": {
     "slide_type": "slide"
    }
   },
   "source": [
    "### 4.3 countinue\n",
    "- 반복문이 실행되던 중간에 countinue를 만나게 되면 반복문 구문의 최상단으로 올라가서 코드가 수행됩니다."
   ]
  },
  {
   "cell_type": "code",
   "execution_count": 4,
   "metadata": {},
   "outputs": [
    {
     "name": "stdout",
     "output_type": "stream",
     "text": [
      "1\n",
      "3\n"
     ]
    },
    {
     "data": {
      "text/plain": [
       "5"
      ]
     },
     "execution_count": 4,
     "metadata": {},
     "output_type": "execute_result"
    }
   ],
   "source": [
    "a = [1, 2, 3, 4, \"q\"]\n",
    "idx = 0\n",
    "\n",
    "while True:\n",
    "    data = a[idx]\n",
    "    idx += 1\n",
    "\n",
    "    if data == 'q':\n",
    "        break\n",
    "    elif data % 2 == 0:\n",
    "        continue\n",
    "\n",
    "    print(data)\n",
    "\n",
    "idx"
   ]
  },
  {
   "cell_type": "markdown",
   "metadata": {
    "slideshow": {
     "slide_type": "skip"
    }
   },
   "source": [
    "##### Quiz 2\n",
    "- `q`를 입력할때 까지 계속 값을 입력받아 입력받은 값을 `q`를 입력할때 리스트로 출력하는 코드를 작성하세요. 입력 데이터를 받을때는 몇번째 입력인지 출력해주세요.\n",
    "```\n",
    "1번째 입력 (종료 : q) : dss\n",
    "2번째 입력 (종료 : q) : data\n",
    "3번째 입력 (종료 : q) : science\n",
    "4번째 입력 (종료 : q) : q\n",
    "['dss', 'data', 'science']\n",
    "```"
   ]
  },
  {
   "cell_type": "code",
   "execution_count": 5,
   "metadata": {
    "slideshow": {
     "slide_type": "skip"
    }
   },
   "outputs": [
    {
     "name": "stdout",
     "output_type": "stream",
     "text": [
      "1번째 입력 (종료 : q) : a\n",
      "2번째 입력 (종료 : q) : b\n",
      "3번째 입력 (종료 : q) : q\n",
      "['a', 'b']\n"
     ]
    }
   ],
   "source": [
    "# TODO - input, print, list, if, while, 비교연산자\n",
    "\n",
    "count, result = 1, []\n",
    "\n",
    "while True:\n",
    "\n",
    "    data = input(\"{}번째 입력 (종료 : q) : \".format(count))\n",
    "    count += 1\n",
    "\n",
    "    if data == \"q\":\n",
    "        print(result)\n",
    "        break\n",
    "\n",
    "    result.append(data)"
   ]
  },
  {
   "cell_type": "markdown",
   "metadata": {
    "slideshow": {
     "slide_type": "slide"
    }
   },
   "source": [
    "### 4.4 For\n",
    "iterable의 데이터를 하나씩 꺼내서 value에 대입시킨후 code를 수행합니다. code는 iteralbe의 갯수 만큼 실행됩니다.\n",
    "```\n",
    "for <value> in <iterable> :\n",
    "    <code>\n",
    "```\n",
    "1. range\n",
    "1. enumerate\n",
    "1. zip"
   ]
  },
  {
   "cell_type": "code",
   "execution_count": 6,
   "metadata": {},
   "outputs": [
    {
     "name": "stdout",
     "output_type": "stream",
     "text": [
      "0 1 2 3 4 "
     ]
    }
   ],
   "source": [
    "ls = [0, 1, 2, 3, 4]\n",
    "for value in ls:\n",
    "    print(value, end=\" \")"
   ]
  },
  {
   "cell_type": "code",
   "execution_count": 7,
   "metadata": {},
   "outputs": [
    {
     "name": "stdout",
     "output_type": "stream",
     "text": [
      "a <class 'str'>\n",
      "b <class 'str'>\n",
      "c <class 'str'>\n",
      "[1, 2] <class 'list'>\n"
     ]
    }
   ],
   "source": [
    "ls = [\"a\", \"b\", \"c\", [1, 2]]\n",
    "for value in ls:\n",
    "    print(value, type(value))"
   ]
  },
  {
   "cell_type": "markdown",
   "metadata": {
    "slideshow": {
     "slide_type": "slide"
    }
   },
   "source": [
    "dictionary에서 반복문을 사용할때는 items 함수를 사용해야 key, value 값을 모두 가져올수 있습니다."
   ]
  },
  {
   "cell_type": "code",
   "execution_count": 8,
   "metadata": {
    "slideshow": {
     "slide_type": "-"
    }
   },
   "outputs": [
    {
     "name": "stdout",
     "output_type": "stream",
     "text": [
      "A\n",
      "B\n"
     ]
    }
   ],
   "source": [
    "dic = {\"A\": 1, \"B\": 2}\n",
    "for key in dic:\n",
    "    print(key)"
   ]
  },
  {
   "cell_type": "code",
   "execution_count": 9,
   "metadata": {},
   "outputs": [
    {
     "data": {
      "text/plain": [
       "dict_items([('A', 1), ('B', 2)])"
      ]
     },
     "execution_count": 9,
     "metadata": {},
     "output_type": "execute_result"
    }
   ],
   "source": [
    "dic.items()"
   ]
  },
  {
   "cell_type": "code",
   "execution_count": 10,
   "metadata": {},
   "outputs": [
    {
     "name": "stdout",
     "output_type": "stream",
     "text": [
      "A 1\n",
      "B 2\n"
     ]
    }
   ],
   "source": [
    "for key, value in dic.items():\n",
    "    print(key, value)"
   ]
  },
  {
   "cell_type": "markdown",
   "metadata": {
    "slideshow": {
     "slide_type": "skip"
    }
   },
   "source": [
    "##### Quiz 3\n",
    "- for문을 이용하여 아래 리스트에 있는 숫자를 모두 더하는 코드를 작성하세요.\n",
    "- for, 할당연산자 사용\n",
    "```\n",
    "numbers = [1, 3, 5, 8, 10, 14]\n",
    "result : 41\n",
    "```"
   ]
  },
  {
   "cell_type": "code",
   "execution_count": 11,
   "metadata": {
    "slideshow": {
     "slide_type": "skip"
    }
   },
   "outputs": [
    {
     "data": {
      "text/plain": [
       "41"
      ]
     },
     "execution_count": 11,
     "metadata": {},
     "output_type": "execute_result"
    }
   ],
   "source": [
    "# TODO - for, 할당연산자\n",
    "numbers = [1, 3, 5, 8, 10, 14]\n",
    "result = 0\n",
    "for data in numbers:\n",
    "    result += data\n",
    "result"
   ]
  },
  {
   "cell_type": "code",
   "execution_count": 12,
   "metadata": {
    "slideshow": {
     "slide_type": "skip"
    }
   },
   "outputs": [
    {
     "data": {
      "text/plain": [
       "41"
      ]
     },
     "execution_count": 12,
     "metadata": {},
     "output_type": "execute_result"
    }
   ],
   "source": [
    "sum(numbers)"
   ]
  },
  {
   "cell_type": "markdown",
   "metadata": {
    "slideshow": {
     "slide_type": "slide"
    }
   },
   "source": [
    "#### 4.4.1 range\n",
    "- list를 간편하게 생성하기 위한 함수입니다.\n",
    "```\n",
    "range(end)\n",
    "range(start, end)\n",
    "range(start, end, stride)\n",
    "```"
   ]
  },
  {
   "cell_type": "code",
   "execution_count": 1,
   "metadata": {},
   "outputs": [
    {
     "data": {
      "text/plain": [
       "[1, 2, 3]"
      ]
     },
     "execution_count": 1,
     "metadata": {},
     "output_type": "execute_result"
    }
   ],
   "source": [
    "ls = [1, 2, 3]\n",
    "ls"
   ]
  },
  {
   "cell_type": "code",
   "execution_count": 2,
   "metadata": {},
   "outputs": [
    {
     "name": "stdout",
     "output_type": "stream",
     "text": [
      "dss\n",
      "dss\n",
      "dss\n"
     ]
    }
   ],
   "source": [
    "for _ in ls:\n",
    "    print(\"dss\")"
   ]
  },
  {
   "cell_type": "code",
   "execution_count": 3,
   "metadata": {},
   "outputs": [
    {
     "data": {
      "text/plain": [
       "range(0, 3)"
      ]
     },
     "execution_count": 3,
     "metadata": {},
     "output_type": "execute_result"
    }
   ],
   "source": [
    "range(3)"
   ]
  },
  {
   "cell_type": "code",
   "execution_count": 4,
   "metadata": {},
   "outputs": [
    {
     "name": "stdout",
     "output_type": "stream",
     "text": [
      "dss\n",
      "dss\n",
      "dss\n"
     ]
    }
   ],
   "source": [
    "for _ in range(3):\n",
    "    print(\"dss\")"
   ]
  },
  {
   "cell_type": "markdown",
   "metadata": {
    "slideshow": {
     "slide_type": "slide"
    }
   },
   "source": [
    "- range(end)\n",
    "- range(start, end)"
   ]
  },
  {
   "cell_type": "code",
   "execution_count": 5,
   "metadata": {
    "slideshow": {
     "slide_type": "-"
    }
   },
   "outputs": [
    {
     "data": {
      "text/plain": [
       "[0, 1, 2]"
      ]
     },
     "execution_count": 5,
     "metadata": {},
     "output_type": "execute_result"
    }
   ],
   "source": [
    "list(range(3))"
   ]
  },
  {
   "cell_type": "code",
   "execution_count": 7,
   "metadata": {},
   "outputs": [
    {
     "name": "stdout",
     "output_type": "stream",
     "text": [
      "0 <class 'int'>\n",
      "1 <class 'int'>\n",
      "2 <class 'int'>\n"
     ]
    }
   ],
   "source": [
    "for value in range(3):\n",
    "    print(value, type(value))"
   ]
  },
  {
   "cell_type": "code",
   "execution_count": 19,
   "metadata": {},
   "outputs": [
    {
     "data": {
      "text/plain": [
       "[2, 3, 4]"
      ]
     },
     "execution_count": 19,
     "metadata": {},
     "output_type": "execute_result"
    }
   ],
   "source": [
    "list(range(2, 5))"
   ]
  },
  {
   "cell_type": "markdown",
   "metadata": {
    "slideshow": {
     "slide_type": "slide"
    }
   },
   "source": [
    "- range(start, end, stride)"
   ]
  },
  {
   "cell_type": "code",
   "execution_count": 20,
   "metadata": {
    "slideshow": {
     "slide_type": "-"
    }
   },
   "outputs": [
    {
     "data": {
      "text/plain": [
       "[1, 3, 5, 7, 9]"
      ]
     },
     "execution_count": 20,
     "metadata": {},
     "output_type": "execute_result"
    }
   ],
   "source": [
    "list(range(1, 10, 2))"
   ]
  },
  {
   "cell_type": "code",
   "execution_count": 21,
   "metadata": {},
   "outputs": [
    {
     "data": {
      "text/plain": [
       "[10, 9, 8, 7, 6, 5, 4, 3, 2]"
      ]
     },
     "execution_count": 21,
     "metadata": {},
     "output_type": "execute_result"
    }
   ],
   "source": [
    "list(range(10, 1, -1))"
   ]
  },
  {
   "cell_type": "code",
   "execution_count": 8,
   "metadata": {},
   "outputs": [
    {
     "data": {
      "text/plain": [
       "3"
      ]
     },
     "execution_count": 8,
     "metadata": {},
     "output_type": "execute_result"
    }
   ],
   "source": [
    "a = 0\n",
    "for _ in range(3):\n",
    "    a += 1\n",
    "a"
   ]
  },
  {
   "cell_type": "markdown",
   "metadata": {},
   "source": [
    "##### Quiz 4\n",
    "- 5를 입력했을때 아래와 같이 별이 출력되도록 코드를 작성하세요.\n",
    "\n",
    "```\n",
    "*\n",
    "**\n",
    "***\n",
    "****\n",
    "*****\n",
    "```"
   ]
  },
  {
   "cell_type": "markdown",
   "metadata": {},
   "source": [
    "##### Quiz 5\n",
    "- 5를 입력했을때 아래와 같이 별이 출력되도록 코드를 작성하세요.\n",
    "\n",
    "```\n",
    "    *\n",
    "   **\n",
    "  ***\n",
    " ****\n",
    "*****\n",
    "```"
   ]
  },
  {
   "cell_type": "markdown",
   "metadata": {},
   "source": [
    "##### Quiz 6\n",
    "- 5를 입력했을때 아래와 같이 별이 출력되도록 코드를 작성하세요.\n",
    "- 홀수만 입력 가능합니다.\n",
    "\n",
    "```\n",
    "  *\n",
    " ***\n",
    "*****\n",
    "```"
   ]
  },
  {
   "cell_type": "markdown",
   "metadata": {},
   "source": [
    "##### Quiz 7\n",
    "- 5를 입력했을때 아래와 같이 별이 출력되도록 코드를 작성하세요.\n",
    "- 홀수만 입력 가능합니다.\n",
    "\n",
    "```\n",
    "*****\n",
    " ***\n",
    "  *\n",
    "```"
   ]
  },
  {
   "cell_type": "markdown",
   "metadata": {},
   "source": [
    "##### Quiz 8\n",
    "- 5를 입력했을때 아래와 같이 별이 출력되도록 코드를 작성하세요.\n",
    "- 홀수만 입력 가능합니다.\n",
    "\n",
    "```\n",
    "  *\n",
    " ***\n",
    "*****\n",
    " ***\n",
    "  *\n",
    "```"
   ]
  },
  {
   "cell_type": "markdown",
   "metadata": {
    "slideshow": {
     "slide_type": "skip"
    }
   },
   "source": [
    "##### Quiz 9\n",
    "- 구구단을 4단까지 세로로 출력하는 코드를 작성하세요.\n",
    "\n",
    "```\n",
    "2단\n",
    "2*1=2\n",
    "2*2=4\n",
    "2*3=6\n",
    "2*4=8\n",
    "2*5=10\n",
    "2*6=12\n",
    "2*7=14\n",
    "2*8=16\n",
    "2*9=18\n",
    "\n",
    "3단\n",
    "3*1=3\n",
    "3*2=6\n",
    "3*3=9\n",
    "3*4=12\n",
    "3*5=15\n",
    "3*6=18\n",
    "3*7=21\n",
    "3*8=24\n",
    "3*9=27\n",
    "\n",
    "4단\n",
    "4*1=4\n",
    "4*2=8\n",
    "4*3=12\n",
    "4*4=16\n",
    "4*5=20\n",
    "4*6=24\n",
    "4*7=28\n",
    "4*8=32\n",
    "4*9=36\n",
    "```"
   ]
  },
  {
   "cell_type": "markdown",
   "metadata": {
    "slideshow": {
     "slide_type": "skip"
    }
   },
   "source": [
    "##### Quiz 10\n",
    "- 구구단을 가로로 출력하는 코드를 작성하세요.\n",
    "```\n",
    "2*1=2   3*1=3   4*1=4   5*1=5   6*1=6   7*1=7   8*1=8   9*1=9 \n",
    "2*2=4   3*2=6   4*2=8   5*2=10  6*2=12  7*2=14  8*2=16  9*2=18 \n",
    "2*3=6   3*3=9   4*3=12  5*3=15  6*3=18  7*3=21  8*3=24  9*3=27 \n",
    "2*4=8   3*4=12  4*4=16  5*4=20  6*4=24  7*4=28  8*4=32  9*4=36 \n",
    "2*5=10  3*5=15  4*5=20  5*5=25  6*5=30  7*5=35  8*5=40  9*5=45 \n",
    "2*6=12  3*6=18  4*6=24  5*6=30  6*6=36  7*6=42  8*6=48  9*6=54 \n",
    "2*7=14  3*7=21  4*7=28  5*7=35  6*7=42  7*7=49  8*7=56  9*7=63 \n",
    "2*8=16  3*8=24  4*8=32  5*8=40  6*8=48  7*8=56  8*8=64  9*8=72 \n",
    "2*9=18  3*9=27  4*9=36  5*9=45  6*9=54  7*9=63  8*9=72  9*9=81 \n",
    "```"
   ]
  },
  {
   "cell_type": "markdown",
   "metadata": {
    "slideshow": {
     "slide_type": "skip"
    }
   },
   "source": [
    "##### Quiz 11\n",
    "- 아래의 2개의 리스트 데이터를\n",
    "```\n",
    "subjects = [\"korean\", \"english\", \"math\", \"science\"]\n",
    "points = [100, 80, 90, 60]\n",
    "```\n",
    "- 아래와 같이 딕셔너리 데이터로 만드는 코드를 작성하세요.\n",
    "```\n",
    "{'english': 80, 'korean': 100, 'math': 90, 'science': 60}\n",
    "```"
   ]
  },
  {
   "cell_type": "markdown",
   "metadata": {
    "slideshow": {
     "slide_type": "slide"
    }
   },
   "source": [
    "#### 4.4.2 enumerate\n",
    "- 리스트 데이터를 index와 value값을 동시에 사용할 수 있게 해주는 함수입니다."
   ]
  },
  {
   "cell_type": "code",
   "execution_count": 26,
   "metadata": {},
   "outputs": [
    {
     "name": "stdout",
     "output_type": "stream",
     "text": [
      "1 korean\n",
      "2 english\n",
      "3 math\n",
      "4 science\n"
     ]
    }
   ],
   "source": [
    "# 과목이름과 과목에 대한 순서를 출력\n",
    "subjects = [\"korean\", \"english\", \"math\", \"science\"]\n",
    "number = 1\n",
    "for value in subjects:\n",
    "    print(number, value)\n",
    "    number += 1"
   ]
  },
  {
   "cell_type": "code",
   "execution_count": 27,
   "metadata": {},
   "outputs": [
    {
     "name": "stdout",
     "output_type": "stream",
     "text": [
      "1 korean\n",
      "2 english\n",
      "3 math\n",
      "4 science\n"
     ]
    }
   ],
   "source": [
    "subjects = [\"korean\", \"english\", \"math\", \"science\"]\n",
    "for idx, value in enumerate(subjects):\n",
    "    print(idx + 1, value)"
   ]
  },
  {
   "cell_type": "code",
   "execution_count": 28,
   "metadata": {},
   "outputs": [
    {
     "data": {
      "text/plain": [
       "((0, 'korean'), (1, 'english'), (2, 'math'), (3, 'science'))"
      ]
     },
     "execution_count": 28,
     "metadata": {},
     "output_type": "execute_result"
    }
   ],
   "source": [
    "tuple(enumerate(subjects))"
   ]
  },
  {
   "cell_type": "markdown",
   "metadata": {
    "slideshow": {
     "slide_type": "slide"
    }
   },
   "source": [
    "#### 4.4.3 zip\n",
    "n개의 리스트를 같은 index끼리 묶어주는 함수"
   ]
  },
  {
   "cell_type": "code",
   "execution_count": 29,
   "metadata": {},
   "outputs": [
    {
     "data": {
      "text/plain": [
       "{'korean': 100, 'english': 80, 'math': 90, 'science': 60}"
      ]
     },
     "execution_count": 29,
     "metadata": {},
     "output_type": "execute_result"
    }
   ],
   "source": [
    "# zip을 이용하여 list를 dictionary로 묶어줍니다.\n",
    "subjects = [\"korean\", \"english\", \"math\", \"science\"]\n",
    "points = [100, 80, 90, 60]\n",
    "dict(zip(subjects, points))"
   ]
  },
  {
   "cell_type": "code",
   "execution_count": 30,
   "metadata": {},
   "outputs": [
    {
     "data": {
      "text/plain": [
       "(('korean', 100), ('english', 80), ('math', 90), ('science', 60))"
      ]
     },
     "execution_count": 30,
     "metadata": {},
     "output_type": "execute_result"
    }
   ],
   "source": [
    "tuple(zip(subjects, points))"
   ]
  },
  {
   "cell_type": "code",
   "execution_count": 31,
   "metadata": {},
   "outputs": [
    {
     "data": {
      "text/plain": [
       "(('korean', 100, 'A'),\n",
       " ('english', 80, 'C'),\n",
       " ('math', 90, 'B'),\n",
       " ('science', 60, 'D'))"
      ]
     },
     "execution_count": 31,
     "metadata": {},
     "output_type": "execute_result"
    }
   ],
   "source": [
    "# 3개의 데이터를 묶어줌 : dictionary로 생성되지 않음\n",
    "grades = [\"A\", \"C\", \"B\", \"D\"]\n",
    "tuple(zip(subjects, points, grades))"
   ]
  },
  {
   "cell_type": "markdown",
   "metadata": {
    "slideshow": {
     "slide_type": "slide"
    }
   },
   "source": [
    "### 4.5 list comprehension\n",
    "반복문의 결과를 바로 리스트로 만들어 주는 방법입니다. \n",
    "간단한 list 데이터를 만들때 for문 보다 속도가 빠름니다.\n",
    "```\n",
    "ls = [<value> for <value> in <list>]\n",
    "ls = [<value> for <value> in <list> if <condition>]\n",
    "```"
   ]
  },
  {
   "cell_type": "markdown",
   "metadata": {
    "slideshow": {
     "slide_type": "slide"
    }
   },
   "source": [
    "#### 4.5.1 기본 사용법\n",
    "- 리스트에 1~3까지 숫자를 대입하는 방법"
   ]
  },
  {
   "cell_type": "code",
   "execution_count": 9,
   "metadata": {},
   "outputs": [
    {
     "name": "stdout",
     "output_type": "stream",
     "text": [
      "[1, 2, 3]\n"
     ]
    }
   ],
   "source": [
    "# method 1\n",
    "ls = []\n",
    "ls = [1, 2, 3]\n",
    "print(ls)"
   ]
  },
  {
   "cell_type": "code",
   "execution_count": 10,
   "metadata": {},
   "outputs": [
    {
     "name": "stdout",
     "output_type": "stream",
     "text": [
      "[1, 2, 3]\n"
     ]
    }
   ],
   "source": [
    "# method 2\n",
    "ls = []\n",
    "ls.append(1)\n",
    "ls.append(2)\n",
    "ls.append(3)\n",
    "print(ls)"
   ]
  },
  {
   "cell_type": "code",
   "execution_count": 11,
   "metadata": {
    "slideshow": {
     "slide_type": "slide"
    }
   },
   "outputs": [
    {
     "name": "stdout",
     "output_type": "stream",
     "text": [
      "[1, 2, 3]\n"
     ]
    }
   ],
   "source": [
    "# method 3\n",
    "ls = []\n",
    "for num in range(1, 4):\n",
    "    ls.append(num)\n",
    "print(ls)"
   ]
  },
  {
   "cell_type": "code",
   "execution_count": 12,
   "metadata": {},
   "outputs": [
    {
     "name": "stdout",
     "output_type": "stream",
     "text": [
      "[1, 2, 3]\n"
     ]
    }
   ],
   "source": [
    "# method 4\n",
    "ls = []\n",
    "ls = [num for num in range(1, 4)]\n",
    "print(ls)"
   ]
  },
  {
   "cell_type": "markdown",
   "metadata": {
    "slideshow": {
     "slide_type": "slide"
    }
   },
   "source": [
    "#### 4.5.2 list comprehention과 for문의 속도 비교"
   ]
  },
  {
   "cell_type": "code",
   "execution_count": 36,
   "metadata": {},
   "outputs": [
    {
     "name": "stdout",
     "output_type": "stream",
     "text": [
      "791 µs ± 78.5 µs per loop (mean ± std. dev. of 7 runs, 1000 loops each)\n"
     ]
    }
   ],
   "source": [
    "%%timeit\n",
    "# for문 사용\n",
    "ls = []\n",
    "for num in range(1, 10000):\n",
    "    ls.append(num)"
   ]
  },
  {
   "cell_type": "code",
   "execution_count": 37,
   "metadata": {},
   "outputs": [
    {
     "name": "stdout",
     "output_type": "stream",
     "text": [
      "349 µs ± 17.7 µs per loop (mean ± std. dev. of 7 runs, 1000 loops each)\n"
     ]
    }
   ],
   "source": [
    "%%timeit\n",
    "# list comprehention 사용\n",
    "ls = [num for num in range(1, 10000)]"
   ]
  },
  {
   "cell_type": "markdown",
   "metadata": {
    "slideshow": {
     "slide_type": "slide"
    }
   },
   "source": [
    "#### 4.5.3 삼항 연산과 함께 사용"
   ]
  },
  {
   "cell_type": "code",
   "execution_count": 38,
   "metadata": {},
   "outputs": [
    {
     "data": {
      "text/plain": [
       "['1:odd',\n",
       " '2:even',\n",
       " '3:odd',\n",
       " '4:even',\n",
       " '5:odd',\n",
       " '6:even',\n",
       " '7:odd',\n",
       " '8:even',\n",
       " '9:odd',\n",
       " '10:even']"
      ]
     },
     "execution_count": 38,
     "metadata": {},
     "output_type": "execute_result"
    }
   ],
   "source": [
    "# 1 ~ 10 까지의 숫자를 출력하고 숫자뒤에 짝수인지 홀수 인지 출력하는 코드\n",
    "ls = [\n",
    "    str(num) + \":even\" if num % 2 == 0 else str(num) + \":odd\"\n",
    "    for num in range(1, 11)\n",
    "]\n",
    "ls"
   ]
  },
  {
   "cell_type": "markdown",
   "metadata": {
    "slideshow": {
     "slide_type": "slide"
    }
   },
   "source": [
    "#### 4.5.4 조건문과 함께 사용"
   ]
  },
  {
   "cell_type": "code",
   "execution_count": 39,
   "metadata": {},
   "outputs": [
    {
     "name": "stdout",
     "output_type": "stream",
     "text": [
      "[1, 2, 3, 4, 5, 6, 7, 8, 9, 10]\n"
     ]
    }
   ],
   "source": [
    "ls = [number for number in range(1, 11)]\n",
    "print(ls)"
   ]
  },
  {
   "cell_type": "code",
   "execution_count": 40,
   "metadata": {},
   "outputs": [
    {
     "name": "stdout",
     "output_type": "stream",
     "text": [
      "[2, 4, 6, 8, 10]\n"
     ]
    }
   ],
   "source": [
    "# 짝수 리스트 만들기\n",
    "ls = [number for number in range(1, 11) if number % 2 == 0]\n",
    "print(ls)"
   ]
  },
  {
   "cell_type": "markdown",
   "metadata": {
    "slideshow": {
     "slide_type": "skip"
    }
   },
   "source": [
    "##### Quiz 12\n",
    "- kim 씨 성을 가진 사람은 데이터에서 제거하고, lee 씨 성을 가진사람은 성을 삭제하는 코드를작성하세요\n",
    "```\n",
    "(입력) => [\"kim test\", \"park python\", \"lee data\", \"jung science\", \"lee school\"] \n",
    "(결과) => [\"park python\", \"data\", \"jung science\", \"school\"] \n",
    "```"
   ]
  },
  {
   "cell_type": "markdown",
   "metadata": {
    "slideshow": {
     "slide_type": "slide"
    }
   },
   "source": [
    "##### * 랜덤 함수"
   ]
  },
  {
   "cell_type": "code",
   "execution_count": 42,
   "metadata": {},
   "outputs": [],
   "source": [
    "import random"
   ]
  },
  {
   "cell_type": "code",
   "execution_count": 43,
   "metadata": {
    "scrolled": true
   },
   "outputs": [
    {
     "data": {
      "text/plain": [
       "5"
      ]
     },
     "execution_count": 43,
     "metadata": {},
     "output_type": "execute_result"
    }
   ],
   "source": [
    "# 1 ~ 10 중 하나의 정수가 랜덤하게 출력\n",
    "random.randint(1, 10)"
   ]
  },
  {
   "cell_type": "code",
   "execution_count": 44,
   "metadata": {},
   "outputs": [
    {
     "data": {
      "text/plain": [
       "5"
      ]
     },
     "execution_count": 44,
     "metadata": {},
     "output_type": "execute_result"
    }
   ],
   "source": [
    "# 1,5,9 중 하나의 데이터가가 랜덤하게 출력\n",
    "random.choice([1, 5, 9])"
   ]
  },
  {
   "cell_type": "markdown",
   "metadata": {
    "slideshow": {
     "slide_type": "skip"
    }
   },
   "source": [
    "##### Quiz 13\n",
    "- 로또번호를 출력하는 코드를 작성하세요. 1 ~ 45 사이의 숫자를 랜덤으로 뽑되 숫자가 중복되면 안됩니다.\n",
    "- while, break, if, in, list, append 사용\n",
    "\n",
    "```\n",
    "[3, 8, 15, 22, 27, 29]\n",
    "```"
   ]
  },
  {
   "cell_type": "markdown",
   "metadata": {
    "slideshow": {
     "slide_type": "skip"
    }
   },
   "source": [
    "##### Quiz 14\n",
    "- `random.choice` 를 이용하여 해결의 책을 코드로 작성하세요.\n",
    "- 해결의 책\n",
    "    - 어떤 질문을 하면 여러가지 답안중에서 랜덤하게 하나를 뽑아서 답해준다.\n",
    "    - 예시\n",
    "        - 질문 : 오늘은 지옥철을 탈까요?\n",
    "        - 답 : 네가 무엇을 상상하던 그 이상이 될것 이다."
   ]
  }
 ],
 "metadata": {
  "celltoolbar": "Slideshow",
  "kernelspec": {
   "display_name": "Python 3 (ipykernel)",
   "language": "python",
   "name": "python3"
  },
  "language_info": {
   "codemirror_mode": {
    "name": "ipython",
    "version": 3
   },
   "file_extension": ".py",
   "mimetype": "text/x-python",
   "name": "python",
   "nbconvert_exporter": "python",
   "pygments_lexer": "ipython3",
   "version": "3.7.6"
  },
  "toc": {
   "base_numbering": 1,
   "nav_menu": {},
   "number_sections": false,
   "sideBar": true,
   "skip_h1_title": false,
   "title_cell": "Table of Contents",
   "title_sidebar": "Contents",
   "toc_cell": false,
   "toc_position": {},
   "toc_section_display": true,
   "toc_window_display": false
  },
  "varInspector": {
   "cols": {
    "lenName": 16,
    "lenType": 16,
    "lenVar": 40
   },
   "kernels_config": {
    "python": {
     "delete_cmd_postfix": "",
     "delete_cmd_prefix": "del ",
     "library": "var_list.py",
     "varRefreshCmd": "print(var_dic_list())"
    },
    "r": {
     "delete_cmd_postfix": ") ",
     "delete_cmd_prefix": "rm(",
     "library": "var_list.r",
     "varRefreshCmd": "cat(var_dic_list()) "
    }
   },
   "types_to_exclude": [
    "module",
    "function",
    "builtin_function_or_method",
    "instance",
    "_Feature"
   ],
   "window_display": false
  }
 },
 "nbformat": 4,
 "nbformat_minor": 2
}
