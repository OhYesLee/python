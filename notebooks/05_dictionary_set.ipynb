{
 "cells": [
  {
   "cell_type": "markdown",
   "metadata": {
    "slideshow": {
     "slide_type": "slide"
    }
   },
   "source": [
    "## 자료형 : Datatype - Dictionary, Set\n",
    "\n",
    "1. Numbers\n",
    "\n",
    "2. Boolean\n",
    "\n",
    "3. String\n",
    "\n",
    "4. List\n",
    "\n",
    "5. Tuple\n",
    "\n",
    "6. Dictionary\n",
    "\n",
    "7. Set"
   ]
  },
  {
   "cell_type": "markdown",
   "metadata": {},
   "source": [
    "- collection \n",
    "    - List, Tuple, Dictionary, Set\n",
    "- iterable \n",
    "    - List, Tuple"
   ]
  },
  {
   "cell_type": "markdown",
   "metadata": {
    "slideshow": {
     "slide_type": "slide"
    }
   },
   "source": [
    "### 6. Dictionary\n",
    "딕셔너리는 데이터의 순서가 없고 key와 value의 쌍으로 데이터가 모여있는 데이터 타입니다."
   ]
  },
  {
   "cell_type": "markdown",
   "metadata": {
    "slideshow": {
     "slide_type": "slide"
    }
   },
   "source": [
    "#### 6.1 Dictionary 선언\n",
    "\n",
    "딕셔너리는 {} 기호 안에 키 : 값 형태로 선언합니다( { 키:값 } ). 키값에는 정수나 문자열의 데이터 타입이 사용 가능합니다."
   ]
  },
  {
   "cell_type": "code",
   "execution_count": 1,
   "metadata": {},
   "outputs": [
    {
     "data": {
      "text/plain": [
       "(dict, {1: 'one', 'A': ['data', 'science'], '숫자': 1234})"
      ]
     },
     "execution_count": 1,
     "metadata": {},
     "output_type": "execute_result"
    }
   ],
   "source": [
    "dic = {\n",
    "    1: \"one\",\n",
    "    \"A\": [\"data\", \"science\"],\n",
    "    \"숫자\": 1234,\n",
    "}\n",
    "type(dic), dic"
   ]
  },
  {
   "cell_type": "markdown",
   "metadata": {
    "slideshow": {
     "slide_type": "slide"
    }
   },
   "source": [
    "### Quiz 1\n",
    "\n",
    "- 아래의 데이터를 dictionary 데이터로 만드세요.\n",
    "\n",
    "| key | value |\n",
    "|-----|-------|\n",
    "|name |python |\n",
    "|addr |seoul  |\n",
    "|age  |25     |"
   ]
  },
  {
   "cell_type": "code",
   "execution_count": 2,
   "metadata": {
    "slideshow": {
     "slide_type": "skip"
    }
   },
   "outputs": [
    {
     "name": "stdout",
     "output_type": "stream",
     "text": [
      "{'name': 'python', 'addr': 'seoul', 'age': 25}\n"
     ]
    }
   ],
   "source": [
    "dic = {\n",
    "    \"name\": \"python\",\n",
    "    \"addr\": \"seoul\",\n",
    "    \"age\": 25,\n",
    "}\n",
    "\n",
    "print(dic)"
   ]
  },
  {
   "cell_type": "markdown",
   "metadata": {
    "slideshow": {
     "slide_type": "slide"
    }
   },
   "source": [
    "### Quiz 2\n",
    "\n",
    "- 아래의 데이터를 list와 dictionary 데이터 타입을 이용하여 표현하세요.\n",
    "\n",
    "| index | city  | population |\n",
    "|-------|-------|------------|\n",
    "| 0     |seoul  | 9,741,381  |\n",
    "| 1     |busan  | 3,416,918  |\n",
    "| 2     |daegu  | 2,453,041  |\n"
   ]
  },
  {
   "cell_type": "code",
   "execution_count": 3,
   "metadata": {
    "slideshow": {
     "slide_type": "skip"
    }
   },
   "outputs": [
    {
     "name": "stdout",
     "output_type": "stream",
     "text": [
      "{'city': ['seoul', 'busan', 'daegu'], 'population': [9741381, 3416918, 2453041]}\n"
     ]
    }
   ],
   "source": [
    "# 딕셔너리{리스트}로 표현\n",
    "city_info = {\n",
    "    \"city\": [\"seoul\", \"busan\", \"daegu\"],\n",
    "    \"population\": [9741381, 3416918, 2453041],\n",
    "}\n",
    "\n",
    "print(city_info)"
   ]
  },
  {
   "cell_type": "markdown",
   "metadata": {
    "slideshow": {
     "slide_type": "slide"
    }
   },
   "source": [
    "#### 6.2 Dictionary 데이터 수정\n",
    "딕셔너리는 키값으로 데이터를 수정할 수 있습니다."
   ]
  },
  {
   "cell_type": "code",
   "execution_count": 4,
   "metadata": {},
   "outputs": [
    {
     "data": {
      "text/plain": [
       "{'name': 'python', 'addr': 'seoul', 'age': 25, 1: '하나', 'A': '알파벳'}"
      ]
     },
     "execution_count": 4,
     "metadata": {},
     "output_type": "execute_result"
    }
   ],
   "source": [
    "dic[1] = \"하나\"\n",
    "dic[\"A\"] = \"알파벳\"\n",
    "dic"
   ]
  },
  {
   "cell_type": "markdown",
   "metadata": {
    "slideshow": {
     "slide_type": "slide"
    }
   },
   "source": [
    "순서가 없는 데이터 타입이므로 오프셋의 사용이 불가능합니다. \n",
    "\n",
    "아래의 코드는 에러가 발생합니다."
   ]
  },
  {
   "cell_type": "code",
   "execution_count": 5,
   "metadata": {},
   "outputs": [
    {
     "name": "stdout",
     "output_type": "stream",
     "text": [
      "unhashable type: 'slice'\n"
     ]
    }
   ],
   "source": [
    "try:\n",
    "    dic[1:3]\n",
    "except Exception as e:\n",
    "    print(e)"
   ]
  },
  {
   "cell_type": "markdown",
   "metadata": {
    "slideshow": {
     "slide_type": "slide"
    }
   },
   "source": [
    "#### 6.3 Dictionary Method\n",
    "\n",
    "딕셔너리 함수를 이용해 딕셔너리 데이터를 가공할수 있습니다.\n",
    "\n",
    "주요 딕셔너리 메서드\n",
    "\n",
    "- keys() : 키를 리턴\n",
    "- values() : 값을 리턴\n",
    "- items() : 키와 값을 리턴\n",
    "- clear() : dictionary 데이터를 모두 삭제\n",
    "- get() : 매개변수에 해당하는 값을 리턴\n",
    "- copy() : 리스트와 마찬가지로 다른 저장공간을 가지는 데이터를 대입\n",
    "- update() : 데이터를 업데이트"
   ]
  },
  {
   "cell_type": "markdown",
   "metadata": {
    "slideshow": {
     "slide_type": "slide"
    }
   },
   "source": [
    "딕셔너리의 keys 함수는 키 리스트를 리턴합니다.\n",
    "\n",
    "딕셔너리의 values 함수는 값 리스트를 리턴합니다.\n",
    "\n",
    "딕셔너리의 items 함수는 키와 값의 튜플을 리스트로 리턴합니다."
   ]
  },
  {
   "cell_type": "code",
   "execution_count": 6,
   "metadata": {
    "slideshow": {
     "slide_type": "-"
    }
   },
   "outputs": [
    {
     "name": "stdout",
     "output_type": "stream",
     "text": [
      "dict_keys(['name', 'addr', 'age', 1, 'A'])\n",
      "dict_values(['python', 'seoul', 25, '하나', '알파벳'])\n",
      "dict_items([('name', 'python'), ('addr', 'seoul'), ('age', 25), (1, '하나'), ('A', '알파벳')])\n"
     ]
    }
   ],
   "source": [
    "print(dic.keys())\n",
    "print(dic.values())\n",
    "print(dic.items())  # for 문에서 key value로 루프를 돌릴때 사용합니다."
   ]
  },
  {
   "cell_type": "markdown",
   "metadata": {
    "slideshow": {
     "slide_type": "slide"
    }
   },
   "source": [
    "딕셔너리의 clear 함수는 딕셔너리의 데이터를 초기화 합니다."
   ]
  },
  {
   "cell_type": "code",
   "execution_count": 7,
   "metadata": {},
   "outputs": [
    {
     "name": "stdout",
     "output_type": "stream",
     "text": [
      "{}\n"
     ]
    }
   ],
   "source": [
    "dic.clear()\n",
    "print(dic)"
   ]
  },
  {
   "cell_type": "markdown",
   "metadata": {
    "slideshow": {
     "slide_type": "slide"
    }
   },
   "source": [
    "딕셔너리의 get 함수는 딕셔너리의 키에 해당되는 값을 리턴합니다.\n",
    "\n",
    "get을 사용하면 error를 예방할수 있습니다."
   ]
  },
  {
   "cell_type": "code",
   "execution_count": 8,
   "metadata": {},
   "outputs": [
    {
     "name": "stdout",
     "output_type": "stream",
     "text": [
      "two\n",
      "None\n"
     ]
    }
   ],
   "source": [
    "dic = {1: \"one\", 2: \"two\", 3: \"three\"}\n",
    "print(dic.get(2))\n",
    "print(dic.get(4))"
   ]
  },
  {
   "cell_type": "code",
   "execution_count": 9,
   "metadata": {},
   "outputs": [],
   "source": [
    "# print(dic[4])"
   ]
  },
  {
   "cell_type": "code",
   "execution_count": 10,
   "metadata": {},
   "outputs": [
    {
     "name": "stdout",
     "output_type": "stream",
     "text": [
      "no_data\n"
     ]
    }
   ],
   "source": [
    "print(dic.get(4, \"no_data\"))"
   ]
  },
  {
   "cell_type": "markdown",
   "metadata": {
    "slideshow": {
     "slide_type": "slide"
    }
   },
   "source": [
    "깊은 복사를 위해서는 copy 함수를 사용해야 합니다."
   ]
  },
  {
   "cell_type": "code",
   "execution_count": 11,
   "metadata": {},
   "outputs": [
    {
     "name": "stdout",
     "output_type": "stream",
     "text": [
      "{1: '하나', 2: 'two', 3: 'three'} {1: '하나', 2: 'two', 3: 'three'} {1: 'one', 2: 'two', 3: 'three'}\n"
     ]
    }
   ],
   "source": [
    "dic = {1: \"one\", 2: \"two\", 3: \"three\"}\n",
    "dic2 = dic\n",
    "dic3 = dic.copy()\n",
    "dic[1] = \"하나\"\n",
    "print(dic, dic2, dic3)"
   ]
  },
  {
   "cell_type": "markdown",
   "metadata": {
    "slideshow": {
     "slide_type": "slide"
    }
   },
   "source": [
    "딕셔너리의 update 함수\n",
    "\n",
    "공통된 키값을 가지면 value가 업데이트되고 키값이 없으면 {키:값} 이 추가됩니다."
   ]
  },
  {
   "cell_type": "code",
   "execution_count": 12,
   "metadata": {},
   "outputs": [
    {
     "name": "stdout",
     "output_type": "stream",
     "text": [
      "{1: 'a', 2: 'b'}\n",
      "{2: 'c', 3: 'd'}\n"
     ]
    },
    {
     "data": {
      "text/plain": [
       "{1: 'a', 2: 'c', 3: 'd'}"
      ]
     },
     "execution_count": 12,
     "metadata": {},
     "output_type": "execute_result"
    }
   ],
   "source": [
    "dic1 = {1: \"a\", 2: \"b\"}\n",
    "dic2 = {2: \"c\", 3: \"d\"}\n",
    "print(dic1)\n",
    "print(dic2)\n",
    "dic1.update(dic2)\n",
    "dic1"
   ]
  },
  {
   "cell_type": "markdown",
   "metadata": {
    "slideshow": {
     "slide_type": "slide"
    }
   },
   "source": [
    "### Quiz 3\n",
    "- \"국어 점수는 80점, 영어 점수는 90점, 수학 점수는 70점, 과학 점수는 100점\"의 데이터를 리스트, 튜플, 딕셔너리 데이터 타입으로 나타내세요."
   ]
  },
  {
   "cell_type": "code",
   "execution_count": 13,
   "metadata": {
    "slideshow": {
     "slide_type": "skip"
    }
   },
   "outputs": [
    {
     "name": "stdout",
     "output_type": "stream",
     "text": [
      "('국어', '영어', '수학', '과학') (80, 90, 70, 100)\n",
      "[('국어', 80), ('영어', 90), ('수학', 70), ('과학', 100)]\n",
      "(('국어', 80), ('영어', 90), ('수학', 70), ('과학', 100))\n",
      "{'국어': 80, '영어': 90, '수학': 70, '과학': 100}\n"
     ]
    }
   ],
   "source": [
    "# List 1\n",
    "subjects = [\"국어\", \"영어\", \"수학\", \"과학\"]\n",
    "points = [80, 90, 70, 100]\n",
    "\n",
    "# List 2\n",
    "ls = [(\"국어\", 80), (\"영어\", 90), (\"수학\", 70), (\"과학\", 100)]\n",
    "\n",
    "# Tuple\n",
    "subjects = (\"국어\", \"영어\", \"수학\", \"과학\")\n",
    "points = (80, 90, 70, 100)\n",
    "tp = ((\"국어\", 80), (\"영어\", 90), (\"수학\", 70), (\"과학\", 100))\n",
    "\n",
    "# Dict\n",
    "dic = {\n",
    "    \"국어\": 80,\n",
    "    \"영어\": 90,\n",
    "    \"수학\": 70,\n",
    "    \"과학\": 100,\n",
    "}\n",
    "\n",
    "print(subjects, points)\n",
    "print(ls)\n",
    "print(tp)\n",
    "print(dic)"
   ]
  },
  {
   "cell_type": "markdown",
   "metadata": {
    "slideshow": {
     "slide_type": "slide"
    }
   },
   "source": [
    "### Quiz 4\n",
    "- data1에서 data2의 데이터를 업데이트 되도록 코드를 작성하세요.\n",
    "- data1과 data2를 출력 했을때 원래의 데이터가 남아있어야 합니다.\n",
    "```\n",
    "data1 = {'국어': 80, '영어': 90}\n",
    "data2 = {'영어': 95, '수학': 70, '과학': 100}\n",
    "```\n",
    "\n",
    "- 결과\n",
    "```\n",
    "data1 = {'국어': 80, '영어': 90}\n",
    "data2 = {'영어': 95, '수학': 70, '과학': 100}\n",
    "result = {'국어': 80, '영어': 95, '수학': 70, '과학': 100}\n",
    "```"
   ]
  },
  {
   "cell_type": "code",
   "execution_count": 14,
   "metadata": {
    "slideshow": {
     "slide_type": "skip"
    }
   },
   "outputs": [
    {
     "name": "stdout",
     "output_type": "stream",
     "text": [
      "{'국어': 80, '영어': 95, '수학': 70, '과학': 100}\n",
      "{'국어': 80, '영어': 90}\n",
      "{'영어': 95, '수학': 70, '과학': 100}\n"
     ]
    }
   ],
   "source": [
    "data1 = {'국어': 80, '영어': 90}\n",
    "result = data1.copy()\n",
    "data2 = {'영어': 95, '수학': 70, '과학': 100}\n",
    "result.update(data2)\n",
    "\n",
    "print(result)\n",
    "print(data1)\n",
    "print(data2)"
   ]
  },
  {
   "cell_type": "markdown",
   "metadata": {
    "slideshow": {
     "slide_type": "slide"
    }
   },
   "source": [
    "### 7. Set\n",
    "\n",
    "- 셋은 중복되는 데이터가 없는 집합 형태의 데이터 타입입니다. \n",
    "- 교집합, 합집합, 차집합과 같은 집합의 연산도 가능하며, 리스트 데이터에서 중복을 제거할때 사용하기도 합니다. \n",
    "- 또한 순서가 있는 데이터 타입이 아니기 때문에 오프셋을 이용한 특정 인덱스 값을 가져오거나 슬라이싱으로 데이터 수정이 불가능합니다. \n",
    "- 수정을 위해서는 리스트로 데이터 형변환후 데이터를 수정 하고 다시 셋 데이터 타입으로 바꿔 주어야 합니다."
   ]
  },
  {
   "cell_type": "markdown",
   "metadata": {
    "slideshow": {
     "slide_type": "slide"
    }
   },
   "source": [
    "#### 7.1 Set 선언\n",
    "셋은 리스트 형태의 데이터에 set() 으로 형변환를 해주는 방법으로 선언을 하며 중복된 데이터는 제거 됩니다."
   ]
  },
  {
   "cell_type": "code",
   "execution_count": 15,
   "metadata": {},
   "outputs": [
    {
     "data": {
      "text/plain": [
       "(set, {1, 2, 3, 4, 5})"
      ]
     },
     "execution_count": 15,
     "metadata": {},
     "output_type": "execute_result"
    }
   ],
   "source": [
    "ls = [1, 2, 3, 4, 5, 1, 2, 3]\n",
    "s = set(ls)\n",
    "type(s), s"
   ]
  },
  {
   "cell_type": "markdown",
   "metadata": {
    "slideshow": {
     "slide_type": "slide"
    }
   },
   "source": [
    "#### 7.2 집합의 연산\n",
    "- Set 데이터 타입은 교집합, 합집합, 차집합의 연산이 가능합니다."
   ]
  },
  {
   "cell_type": "markdown",
   "metadata": {
    "slideshow": {
     "slide_type": "slide"
    }
   },
   "source": [
    "Set (집합)의 선언"
   ]
  },
  {
   "cell_type": "code",
   "execution_count": 16,
   "metadata": {},
   "outputs": [
    {
     "data": {
      "text/plain": [
       "({1, 2, 3, 4}, {3, 4, 5, 6})"
      ]
     },
     "execution_count": 16,
     "metadata": {},
     "output_type": "execute_result"
    }
   ],
   "source": [
    "s1 = set([1, 2, 3, 4])\n",
    "s2 = set([3, 4, 5, 6])\n",
    "s1, s2"
   ]
  },
  {
   "cell_type": "markdown",
   "metadata": {
    "slideshow": {
     "slide_type": "slide"
    }
   },
   "source": [
    "intersection (교집합)"
   ]
  },
  {
   "cell_type": "code",
   "execution_count": 17,
   "metadata": {},
   "outputs": [
    {
     "name": "stdout",
     "output_type": "stream",
     "text": [
      "{3, 4}\n",
      "{3, 4}\n"
     ]
    }
   ],
   "source": [
    "# s1 = set([1, 2, 3, 4])\n",
    "# s2 = set([3, 4, 5, 6])\n",
    "\n",
    "print(s1 & s2)\n",
    "print(s1.intersection(s2))  # 함수로도 표현 가능"
   ]
  },
  {
   "cell_type": "markdown",
   "metadata": {
    "slideshow": {
     "slide_type": "slide"
    }
   },
   "source": [
    "union (합집합)"
   ]
  },
  {
   "cell_type": "code",
   "execution_count": 18,
   "metadata": {},
   "outputs": [
    {
     "name": "stdout",
     "output_type": "stream",
     "text": [
      "{1, 2, 3, 4, 5, 6}\n",
      "{1, 2, 3, 4, 5, 6}\n"
     ]
    }
   ],
   "source": [
    "# s1 = set([1, 2, 3, 4])\n",
    "# s2 = set([3, 4, 5, 6])\n",
    "\n",
    "print(s1 | s2)\n",
    "print(s1.union(s2))"
   ]
  },
  {
   "cell_type": "markdown",
   "metadata": {
    "slideshow": {
     "slide_type": "slide"
    }
   },
   "source": [
    "difference (차집합)"
   ]
  },
  {
   "cell_type": "code",
   "execution_count": 19,
   "metadata": {},
   "outputs": [
    {
     "name": "stdout",
     "output_type": "stream",
     "text": [
      "{1, 2}\n",
      "{1, 2}\n"
     ]
    }
   ],
   "source": [
    "# s1 = set([1, 2, 3, 4])\n",
    "# s2 = set([3, 4, 5, 6])\n",
    "\n",
    "print(s1 - s2)\n",
    "print(s1.difference(s2))"
   ]
  },
  {
   "cell_type": "markdown",
   "metadata": {
    "slideshow": {
     "slide_type": "slide"
    }
   },
   "source": [
    "#### 7.3 Set 데이터 수정\n",
    "\n",
    "- set 데이터 수정을 위해서는 list로 형변환 한 후에 수정후 다시 set으로 변환하는 방법으로 수정해야 합니다."
   ]
  },
  {
   "cell_type": "code",
   "execution_count": 20,
   "metadata": {},
   "outputs": [
    {
     "data": {
      "text/plain": [
       "{1, 2, 3, 4, 10}"
      ]
     },
     "execution_count": 20,
     "metadata": {},
     "output_type": "execute_result"
    }
   ],
   "source": [
    "s = list(s)\n",
    "s[4] = 10\n",
    "s = set(s)\n",
    "s"
   ]
  },
  {
   "cell_type": "markdown",
   "metadata": {
    "slideshow": {
     "slide_type": "slide"
    }
   },
   "source": [
    "### Quiz 5\n",
    "- 아래의 두 리스트에서 공통된 값을 출력하는 코드를 작성하세요.\n",
    "```\n",
    "keywords_1 = [\"데이터\", \"사이언스\", \"맥북\", \"윈도우\", \"애플\"]\n",
    "keywords_2 = [\"사이언스\", \"애플\", \"데이터\", \"커피\", \"패스트캠퍼트\"]\n",
    "```\n",
    "\n",
    "- 결과\n",
    "```\n",
    "{'데이터', '사이언스', '애플'}\n",
    "```"
   ]
  },
  {
   "cell_type": "code",
   "execution_count": 21,
   "metadata": {
    "slideshow": {
     "slide_type": "skip"
    }
   },
   "outputs": [
    {
     "name": "stdout",
     "output_type": "stream",
     "text": [
      "{'사이언스', '애플', '데이터'}\n"
     ]
    }
   ],
   "source": [
    "keywords_1 = [\"데이터\", \"사이언스\", \"맥북\", \"윈도우\", \"애플\"]\n",
    "keywords_2 = [\"사이언스\", \"애플\", \"데이터\", \"커피\", \"패스트캠퍼스\"]\n",
    "\n",
    "result = set(keywords_1) & set(keywords_2)\n",
    "print(result)"
   ]
  }
 ],
 "metadata": {
  "celltoolbar": "Slideshow",
  "kernelspec": {
   "display_name": "Python 3",
   "language": "python",
   "name": "python3"
  },
  "language_info": {
   "codemirror_mode": {
    "name": "ipython",
    "version": 3
   },
   "file_extension": ".py",
   "mimetype": "text/x-python",
   "name": "python",
   "nbconvert_exporter": "python",
   "pygments_lexer": "ipython3",
   "version": "3.7.6"
  },
  "varInspector": {
   "cols": {
    "lenName": 16,
    "lenType": 16,
    "lenVar": 40
   },
   "kernels_config": {
    "python": {
     "delete_cmd_postfix": "",
     "delete_cmd_prefix": "del ",
     "library": "var_list.py",
     "varRefreshCmd": "print(var_dic_list())"
    },
    "r": {
     "delete_cmd_postfix": ") ",
     "delete_cmd_prefix": "rm(",
     "library": "var_list.r",
     "varRefreshCmd": "cat(var_dic_list()) "
    }
   },
   "types_to_exclude": [
    "module",
    "function",
    "builtin_function_or_method",
    "instance",
    "_Feature"
   ],
   "window_display": false
  }
 },
 "nbformat": 4,
 "nbformat_minor": 2
}
