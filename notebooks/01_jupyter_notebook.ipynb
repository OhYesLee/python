{
 "cells": [
  {
   "cell_type": "markdown",
   "metadata": {
    "slideshow": {
     "slide_type": "slide"
    }
   },
   "source": [
    "# Jupyter Notebook"
   ]
  },
  {
   "cell_type": "markdown",
   "metadata": {
    "slideshow": {
     "slide_type": "slide"
    }
   },
   "source": [
    "### Index\n",
    "\n",
    "1. Mode\n",
    "\n",
    "2. Markdown\n",
    "\n",
    "3. Magic Command\n",
    "\n",
    "4. Shell Command\n",
    "\n",
    "5. Jupyter Notebook Expression"
   ]
  },
  {
   "cell_type": "markdown",
   "metadata": {
    "slideshow": {
     "slide_type": "slide"
    }
   },
   "source": [
    "### 1. Mode\n",
    "- 주피터 노트북에는 명령모드(command mode)와 편집모드(edit mode) 2가지 모드가 있습니다. \n",
    "- 명령모드(command mode)에서는 코드가 실행되는 셀을 편집\n",
    "- 편집모드(edit mode)에서는 셀안의 코드와 같은 내용을 편집\n",
    "- 명령모드 상태에서는 셀의 좌측 선이 파란색으로 표시되며 편집모드에서는 초록색으로 표시"
   ]
  },
  {
   "cell_type": "markdown",
   "metadata": {
    "slideshow": {
     "slide_type": "slide"
    }
   },
   "source": [
    "- 명령모드\n",
    "    - a : 현재 선택된 셀 위로 새로운 셀 생성\n",
    "    - b : 현재 선택된 셀 아래로 새로운 셀 생성\n",
    "    - m : 현재 선택된 셀을 마크다운 스타일로 변환\n",
    "    - y : 현재 선택된 셀을 코드 스타일로 변환\n",
    "    - l : 셀의 라인을 표시\n",
    "    - dd, x : 셀삭제   \n",
    "    - z : 이전 실행을 되돌림"
   ]
  },
  {
   "cell_type": "markdown",
   "metadata": {
    "slideshow": {
     "slide_type": "slide"
    }
   },
   "source": [
    "- 편집모드\n",
    "    - cmd(ctrl) + Enter : 현재 셀의 코드가 실행되고 다음 셀로 이동 하지 않음\n",
    "    - option(alt) + Enter : 현재 셀의 코드가 실행되고 아래 셀 생성\n",
    "    - shift + Enter : 현재 셀의 코드가 실행되고 다음 셀로 이동\n",
    "    - tab : 몇글자를 입력한 상태에서 tab키를 누르면 해당 글자가 포함된 명령어리스트가 표시되어 명령어를 자동완성이 가능\n",
    "    - shift + tab : 함수나 클래스 명 뒤에서 입력하면 내부 정보를 보여줌\n",
    "    - (function or class name)? : 내부정보를 보여줌\n",
    "    - (function or class name)?? : 코드를 보여줌"
   ]
  },
  {
   "cell_type": "code",
   "execution_count": 1,
   "metadata": {
    "slideshow": {
     "slide_type": "slide"
    }
   },
   "outputs": [],
   "source": [
    "def test():\n",
    "    \"\"\"\n",
    "    test docstring\n",
    "    \"\"\"\n",
    "    print(\"test\")"
   ]
  },
  {
   "cell_type": "code",
   "execution_count": 2,
   "metadata": {
    "slideshow": {
     "slide_type": "-"
    }
   },
   "outputs": [],
   "source": [
    "test?"
   ]
  },
  {
   "cell_type": "code",
   "execution_count": 3,
   "metadata": {
    "slideshow": {
     "slide_type": "-"
    }
   },
   "outputs": [],
   "source": [
    "test??"
   ]
  },
  {
   "cell_type": "markdown",
   "metadata": {
    "slideshow": {
     "slide_type": "slide"
    }
   },
   "source": [
    "### 2. Markdown\n",
    "- 주피터 노트북에서 코드에 대한 설명과 같은 문자열을 넣고 싶을때, 마크다운 문법을 이용하여 넣을수 있습니다.\n",
    "- 마크다운은 주피터 노트북 뿐만 아니라 블로그나 발표자료등을 만들때도 사용됩니다.\n",
    "- https://www.markdownguide.org/basic-syntax"
   ]
  },
  {
   "cell_type": "markdown",
   "metadata": {
    "slideshow": {
     "slide_type": "slide"
    }
   },
   "source": [
    "#### 2.1 머리말 : Head\n",
    "```\n",
    "# Head\n",
    "## Head\n",
    "### Head\n",
    "#### Head\n",
    "##### Head\n",
    "```"
   ]
  },
  {
   "cell_type": "markdown",
   "metadata": {
    "slideshow": {
     "slide_type": "slide"
    }
   },
   "source": [
    "# Head\n",
    "## Head\n",
    "### Head\n",
    "#### Head\n",
    "##### Head"
   ]
  },
  {
   "cell_type": "markdown",
   "metadata": {
    "slideshow": {
     "slide_type": "slide"
    }
   },
   "source": [
    "#### 2.2 인용 : Blockquotes\n",
    "```\n",
    "> dss\n",
    ">> datascience\n",
    "```"
   ]
  },
  {
   "cell_type": "markdown",
   "metadata": {
    "slideshow": {
     "slide_type": "-"
    }
   },
   "source": [
    "> dss\n",
    ">> datascience"
   ]
  },
  {
   "cell_type": "markdown",
   "metadata": {
    "slideshow": {
     "slide_type": "slide"
    }
   },
   "source": [
    "#### 2.3 리스트 : List\n",
    "\n",
    "```\n",
    "- data1\n",
    "    - data2\n",
    "* data3\n",
    "    * data4\n",
    "        * data5\n",
    "```"
   ]
  },
  {
   "cell_type": "markdown",
   "metadata": {
    "slideshow": {
     "slide_type": "-"
    }
   },
   "source": [
    "- data1\n",
    "    - data2-1\n",
    "    - data2-2\n",
    "* data3\n",
    "    * data4-1\n",
    "        * data5\n",
    "    * data4-2"
   ]
  },
  {
   "cell_type": "markdown",
   "metadata": {
    "slideshow": {
     "slide_type": "slide"
    }
   },
   "source": [
    "#### 2.4 코드 : Code Block\n",
    "- \\` 문자를 한번쓰면 단어를 코드블럭으로 생성할수 있고, 세번쓰면 멀티라인으로 코드블럭이 생성됩니다.\n",
    "```\n",
    "`> code`\n",
    "```\n",
    "\n",
    "`> code`\n",
    "\n",
    "```\n",
    "code 1\n",
    "code 2\n",
    "```"
   ]
  },
  {
   "cell_type": "markdown",
   "metadata": {
    "slideshow": {
     "slide_type": "-"
    }
   },
   "source": [
    "#### 2.5 링크 : Link\n",
    "- `[text](link)`의 형태로 URL이 숨겨진 링크를 나타낼수 있습니다.\n",
    "```\n",
    "[Go Fastcampus!](http://www.fastcampus.co.kr/)\n",
    "```\n",
    "\n",
    "[Go Fastcampus!](http://www.fastcampus.co.kr/)"
   ]
  },
  {
   "cell_type": "markdown",
   "metadata": {
    "slideshow": {
     "slide_type": "slide"
    }
   },
   "source": [
    "#### 2.6 가로선 : Horizontal line\n",
    "```\n",
    "---\n",
    "```\n",
    "\n",
    "---"
   ]
  },
  {
   "cell_type": "markdown",
   "metadata": {
    "slideshow": {
     "slide_type": "-"
    }
   },
   "source": [
    "#### 2.7 강조 : Emphasis\n",
    "```\n",
    "**Emphasis**\n",
    "```\n",
    "\n",
    "**Emphasis**"
   ]
  },
  {
   "cell_type": "markdown",
   "metadata": {
    "slideshow": {
     "slide_type": "slide"
    }
   },
   "source": [
    "### 3. Magic Command\n",
    "셀 내부에서 특별한 동작을 할수 있는 커멘드를 의미하며 커멘드에 대한 내용은 ipython 매직커멘드에 대한 웹 페이지 (http://ipython.readthedocs.io/en/stable/interactive/magics.html) 를 참고하시면 됩니다. \n",
    "\n",
    "여기에서는 주로 사용되는 커멘드를 정리하였습니다."
   ]
  },
  {
   "cell_type": "markdown",
   "metadata": {
    "slideshow": {
     "slide_type": "slide"
    }
   },
   "source": [
    "#### 3.1 사용 방법\n",
    "- %(command) : 한줄을 매직커멘드로 사용할때 사용\n",
    "- %%(command) : 여러줄을 매직커멘드로 사용할때 사용\n",
    "- %(command)? : 매직키워드 뒤에 ? 를 붙여서 실행하면 키워드에 대한 상세 설명이 나옴"
   ]
  },
  {
   "cell_type": "markdown",
   "metadata": {
    "slideshow": {
     "slide_type": "slide"
    }
   },
   "source": [
    "#### 3.2 주요 Magic Command\n",
    "- pwd : 현재 디렉토리의 위치 확인\n",
    "- ls : 현재 디렉토리 파일 조회\n",
    "- whos : 현재 정의된 변수 확인\n",
    "- reset : 현재 정의된 변수 삭제\n",
    "- time : 실행시간을 알려줌\n",
    "- timeit : 평균실행 시간을 알려줌\n",
    "- writefile : 파일작성\n",
    "- run : python file code 실행\n",
    "- load : 파일로드\n",
    "- history : 지금까지 사용한 명령들을 출력\n",
    "- magic : 매직 커멘드의 상세 도움말 출력\n",
    "- lsmagic : magic 리스트 출력"
   ]
  },
  {
   "cell_type": "markdown",
   "metadata": {
    "slideshow": {
     "slide_type": "slide"
    }
   },
   "source": [
    "#### 3.3 사용 예시"
   ]
  },
  {
   "cell_type": "code",
   "execution_count": 4,
   "metadata": {
    "slideshow": {
     "slide_type": "-"
    }
   },
   "outputs": [
    {
     "data": {
      "text/plain": [
       "'/Users/radajin/Documents/fastcampus/miraeasset/day1/notebook'"
      ]
     },
     "execution_count": 4,
     "metadata": {},
     "output_type": "execute_result"
    }
   ],
   "source": [
    "# 현재 디렉토리의 위치를 확인\n",
    "%pwd"
   ]
  },
  {
   "cell_type": "code",
   "execution_count": 5,
   "metadata": {
    "slideshow": {
     "slide_type": "-"
    }
   },
   "outputs": [
    {
     "name": "stdout",
     "output_type": "stream",
     "text": [
      "01_jupyter_notebook.ipynb       05_dictionary_set.ipynb\r\n",
      "02_basic_syntax.ipynb           06_change_datatype.ipynb\r\n",
      "03_number_boolean_string.ipynb  07_operators.ipynb\r\n",
      "04_list_tuple.ipynb\r\n"
     ]
    }
   ],
   "source": [
    "# 현재 디렉토리 파일 조회\n",
    "%ls"
   ]
  },
  {
   "cell_type": "code",
   "execution_count": 6,
   "metadata": {
    "slideshow": {
     "slide_type": "-"
    }
   },
   "outputs": [
    {
     "name": "stdout",
     "output_type": "stream",
     "text": [
      "Variable   Type        Data/Info\n",
      "--------------------------------\n",
      "autopep8   module      <module 'autopep8' from '<...>te-packages/autopep8.py'>\n",
      "json       module      <module 'json' from '/Use<...>hon3.7/json/__init__.py'>\n",
      "test       function    <function test at 0x1083b6f28>\n"
     ]
    }
   ],
   "source": [
    "# 현재 정의된 변수 확인\n",
    "%whos"
   ]
  },
  {
   "cell_type": "code",
   "execution_count": 7,
   "metadata": {
    "slideshow": {
     "slide_type": "slide"
    }
   },
   "outputs": [
    {
     "name": "stdout",
     "output_type": "stream",
     "text": [
      "Once deleted, variables cannot be recovered. Proceed (y/[n])? y\n"
     ]
    }
   ],
   "source": [
    "# 현재 정의된 변수 삭제\n",
    "%reset"
   ]
  },
  {
   "cell_type": "markdown",
   "metadata": {
    "slideshow": {
     "slide_type": "notes"
    }
   },
   "source": [
    "- `%reset`을 했을때 아래와 같은 에러가 발생하면 ipython을 7.2.0 버전으로 인스톨 합니다.\n",
    "```\n",
    "ERROR:root:Invalid alias: The name clear can't be aliased because it is another magic command.\n",
    "ERROR:root:Invalid alias: The name more can't be aliased because it is another magic command.\n",
    "ERROR:root:Invalid alias: The name less can't be aliased because it is another magic command.\n",
    "ERROR:root:Invalid alias: The name man can't be aliased because it is another magic command.\n",
    "```\n",
    "\n",
    "- ipython을 7.2.0 버전 인스톨하는 방법\n",
    "```\n",
    "$ conda install ipython=7.2.0\n",
    "```"
   ]
  },
  {
   "cell_type": "code",
   "execution_count": 8,
   "metadata": {
    "slideshow": {
     "slide_type": "-"
    }
   },
   "outputs": [
    {
     "name": "stdout",
     "output_type": "stream",
     "text": [
      "Interactive namespace is empty.\n"
     ]
    }
   ],
   "source": [
    "# 현재 정의된 변수 확인\n",
    "%whos"
   ]
  },
  {
   "cell_type": "code",
   "execution_count": 9,
   "metadata": {
    "slideshow": {
     "slide_type": "-"
    }
   },
   "outputs": [
    {
     "name": "stdout",
     "output_type": "stream",
     "text": [
      "CPU times: user 5.01 ms, sys: 476 µs, total: 5.49 ms\n",
      "Wall time: 5.58 ms\n"
     ]
    }
   ],
   "source": [
    "%%time \n",
    "# 실행시간을 알려줌\n",
    "r = 2**1000000"
   ]
  },
  {
   "cell_type": "code",
   "execution_count": 10,
   "metadata": {
    "slideshow": {
     "slide_type": "-"
    }
   },
   "outputs": [
    {
     "name": "stdout",
     "output_type": "stream",
     "text": [
      "3.37 ms ± 98.6 µs per loop (mean ± std. dev. of 7 runs, 100 loops each)\n"
     ]
    }
   ],
   "source": [
    "%%timeit\n",
    "# 평균실행 시간을 알려줌\n",
    "r = 2**1000000"
   ]
  },
  {
   "cell_type": "code",
   "execution_count": 11,
   "metadata": {
    "slideshow": {
     "slide_type": "-"
    }
   },
   "outputs": [
    {
     "name": "stdout",
     "output_type": "stream",
     "text": [
      "Writing test.py\n"
     ]
    }
   ],
   "source": [
    "%%writefile test.py\n",
    "# 파일작성\n",
    "print(\"test python\")\n",
    "print(2 + 3)"
   ]
  },
  {
   "cell_type": "code",
   "execution_count": 12,
   "metadata": {
    "slideshow": {
     "slide_type": "slide"
    }
   },
   "outputs": [
    {
     "name": "stdout",
     "output_type": "stream",
     "text": [
      "01_jupyter_notebook.ipynb       05_dictionary_set.ipynb\r\n",
      "02_basic_syntax.ipynb           06_change_datatype.ipynb\r\n",
      "03_number_boolean_string.ipynb  07_operators.ipynb\r\n",
      "04_list_tuple.ipynb             test.py\r\n"
     ]
    }
   ],
   "source": [
    "# 현재 디렉토리 파일 조회\n",
    "%ls"
   ]
  },
  {
   "cell_type": "code",
   "execution_count": 13,
   "metadata": {
    "slideshow": {
     "slide_type": "-"
    }
   },
   "outputs": [
    {
     "name": "stdout",
     "output_type": "stream",
     "text": [
      "test python\n",
      "5\n"
     ]
    }
   ],
   "source": [
    "# 파이썬 파일의 코드를 실행\n",
    "%run test.py"
   ]
  },
  {
   "cell_type": "code",
   "execution_count": 14,
   "metadata": {
    "slideshow": {
     "slide_type": "-"
    }
   },
   "outputs": [
    {
     "name": "stdout",
     "output_type": "stream",
     "text": [
      "test python\n",
      "5\n"
     ]
    }
   ],
   "source": [
    "# %load test.py\n",
    "# 파일작성\n",
    "print(\"test python\")\n",
    "print(2 + 3)"
   ]
  },
  {
   "cell_type": "markdown",
   "metadata": {
    "slideshow": {
     "slide_type": "slide"
    }
   },
   "source": [
    "### 4. Shell Command\n",
    "쉘 명령어는 셀 가장 앞에 `!` 기호를 붙여서 노트북 내에서 쉘 명령어를 사용할수 있습니다."
   ]
  },
  {
   "cell_type": "markdown",
   "metadata": {
    "slideshow": {
     "slide_type": "-"
    }
   },
   "source": [
    "#### 4.1 주요 Shell Command\n",
    "- ls : 파일 리스트 출력\n",
    "- echo : 문자열 출력\n",
    "- touch : 파일 생성\n",
    "- cat : 파일 출력\n",
    "- mkdir : 디렉토리 생성\n",
    "- mv : 파일 이동\n",
    "- rmdir : 디렉토리 삭제\n",
    "- rm : 파일 삭제\n",
    "- cp : 파일 복사"
   ]
  },
  {
   "cell_type": "code",
   "execution_count": 15,
   "metadata": {
    "slideshow": {
     "slide_type": "slide"
    }
   },
   "outputs": [
    {
     "name": "stdout",
     "output_type": "stream",
     "text": [
      "01_jupyter_notebook.ipynb      05_dictionary_set.ipynb\r\n",
      "02_basic_syntax.ipynb          06_change_datatype.ipynb\r\n",
      "03_number_boolean_string.ipynb 07_operators.ipynb\r\n",
      "04_list_tuple.ipynb            test.py\r\n"
     ]
    }
   ],
   "source": [
    "# 현재 디렉토리의 파일 리스트 출력\n",
    "!ls"
   ]
  },
  {
   "cell_type": "code",
   "execution_count": 16,
   "metadata": {
    "slideshow": {
     "slide_type": "-"
    }
   },
   "outputs": [
    {
     "name": "stdout",
     "output_type": "stream",
     "text": [
      "python\r\n"
     ]
    }
   ],
   "source": [
    "# echo 명령 뒤에 오는 문자열 출력\n",
    "!echo python"
   ]
  },
  {
   "cell_type": "code",
   "execution_count": 17,
   "metadata": {
    "slideshow": {
     "slide_type": "-"
    }
   },
   "outputs": [],
   "source": [
    "# fc.py라는 이름의 파일 생성\n",
    "!touch fc.py"
   ]
  },
  {
   "cell_type": "code",
   "execution_count": 18,
   "metadata": {
    "slideshow": {
     "slide_type": "slide"
    }
   },
   "outputs": [
    {
     "name": "stdout",
     "output_type": "stream",
     "text": [
      "01_jupyter_notebook.ipynb      06_change_datatype.ipynb\r\n",
      "02_basic_syntax.ipynb          07_operators.ipynb\r\n",
      "03_number_boolean_string.ipynb fc.py\r\n",
      "04_list_tuple.ipynb            test.py\r\n",
      "05_dictionary_set.ipynb\r\n"
     ]
    }
   ],
   "source": [
    "# 파일 리스트 출력\n",
    "!ls"
   ]
  },
  {
   "cell_type": "code",
   "execution_count": 19,
   "metadata": {
    "slideshow": {
     "slide_type": "-"
    }
   },
   "outputs": [
    {
     "name": "stdout",
     "output_type": "stream",
     "text": [
      "# 파일작성\r\n",
      "print(\"test python\")\r\n",
      "print(2 + 3)\r\n"
     ]
    }
   ],
   "source": [
    "# 파일 내용 출력\n",
    "!cat test.py"
   ]
  },
  {
   "cell_type": "code",
   "execution_count": 20,
   "metadata": {
    "slideshow": {
     "slide_type": "-"
    }
   },
   "outputs": [],
   "source": [
    "# dss 디렉토리 생성\n",
    "!mkdir dss"
   ]
  },
  {
   "cell_type": "code",
   "execution_count": 21,
   "metadata": {
    "slideshow": {
     "slide_type": "slide"
    }
   },
   "outputs": [
    {
     "name": "stdout",
     "output_type": "stream",
     "text": [
      "01_jupyter_notebook.ipynb      06_change_datatype.ipynb\r\n",
      "02_basic_syntax.ipynb          07_operators.ipynb\r\n",
      "03_number_boolean_string.ipynb \u001b[1m\u001b[36mdss\u001b[m\u001b[m\r\n",
      "04_list_tuple.ipynb            fc.py\r\n",
      "05_dictionary_set.ipynb        test.py\r\n"
     ]
    }
   ],
   "source": [
    "# 파일 리스트 출력\n",
    "!ls"
   ]
  },
  {
   "cell_type": "code",
   "execution_count": 22,
   "metadata": {
    "slideshow": {
     "slide_type": "-"
    }
   },
   "outputs": [],
   "source": [
    "# fc.py파일을 dss 디렉토리로 파일 이동\n",
    "!mv fc.py dss"
   ]
  },
  {
   "cell_type": "code",
   "execution_count": 23,
   "metadata": {
    "slideshow": {
     "slide_type": "-"
    }
   },
   "outputs": [
    {
     "name": "stdout",
     "output_type": "stream",
     "text": [
      "01_jupyter_notebook.ipynb      06_change_datatype.ipynb\r\n",
      "02_basic_syntax.ipynb          07_operators.ipynb\r\n",
      "03_number_boolean_string.ipynb \u001b[1m\u001b[36mdss\u001b[m\u001b[m\r\n",
      "04_list_tuple.ipynb            test.py\r\n",
      "05_dictionary_set.ipynb\r\n"
     ]
    }
   ],
   "source": [
    "# 현재 디렉토리의 파일 리스트 출력\n",
    "!ls"
   ]
  },
  {
   "cell_type": "code",
   "execution_count": 24,
   "metadata": {
    "slideshow": {
     "slide_type": "-"
    }
   },
   "outputs": [
    {
     "name": "stdout",
     "output_type": "stream",
     "text": [
      "fc.py\r\n"
     ]
    }
   ],
   "source": [
    "# dss 디렉토리 안의 파일 리스트를 출력\n",
    "!ls dss"
   ]
  },
  {
   "cell_type": "markdown",
   "metadata": {
    "slideshow": {
     "slide_type": "slide"
    }
   },
   "source": [
    "디렉토리 삭제 1\n",
    "- rmdir\n",
    "- 디렉토리가 비어있지 않으면 삭제가 안됨"
   ]
  },
  {
   "cell_type": "code",
   "execution_count": 25,
   "metadata": {
    "slideshow": {
     "slide_type": "slide"
    }
   },
   "outputs": [
    {
     "name": "stdout",
     "output_type": "stream",
     "text": [
      "rmdir: dss: Directory not empty\r\n"
     ]
    }
   ],
   "source": [
    "# dss 디렉토리 삭제\n",
    "# dss 디렉토리가 비어있지 않아 삭제가 안됨\n",
    "!rmdir dss"
   ]
  },
  {
   "cell_type": "code",
   "execution_count": 26,
   "metadata": {
    "slideshow": {
     "slide_type": "-"
    }
   },
   "outputs": [
    {
     "name": "stdout",
     "output_type": "stream",
     "text": [
      "01_jupyter_notebook.ipynb      06_change_datatype.ipynb\r\n",
      "02_basic_syntax.ipynb          07_operators.ipynb\r\n",
      "03_number_boolean_string.ipynb \u001b[1m\u001b[36mdss\u001b[m\u001b[m\r\n",
      "04_list_tuple.ipynb            test.py\r\n",
      "05_dictionary_set.ipynb\r\n"
     ]
    }
   ],
   "source": [
    "# 현재 디렉토리의 파일 리스트 출력\n",
    "!ls"
   ]
  },
  {
   "cell_type": "code",
   "execution_count": 27,
   "metadata": {
    "slideshow": {
     "slide_type": "-"
    }
   },
   "outputs": [],
   "source": [
    "# dss 디렉토리의 fc.py 파일 삭제\n",
    "!rm dss/fc.py"
   ]
  },
  {
   "cell_type": "code",
   "execution_count": 28,
   "metadata": {
    "slideshow": {
     "slide_type": "-"
    }
   },
   "outputs": [],
   "source": [
    "# dss 디렉토리의 파일 리스트 확인\n",
    "!ls dss"
   ]
  },
  {
   "cell_type": "code",
   "execution_count": 29,
   "metadata": {
    "slideshow": {
     "slide_type": "-"
    }
   },
   "outputs": [],
   "source": [
    "# dss 디렉토리 삭제\n",
    "!rmdir dss"
   ]
  },
  {
   "cell_type": "code",
   "execution_count": 30,
   "metadata": {
    "slideshow": {
     "slide_type": "-"
    }
   },
   "outputs": [
    {
     "name": "stdout",
     "output_type": "stream",
     "text": [
      "01_jupyter_notebook.ipynb      05_dictionary_set.ipynb\r\n",
      "02_basic_syntax.ipynb          06_change_datatype.ipynb\r\n",
      "03_number_boolean_string.ipynb 07_operators.ipynb\r\n",
      "04_list_tuple.ipynb            test.py\r\n"
     ]
    }
   ],
   "source": [
    "# 현재 디렉토리의 파일 리스트 확인\n",
    "!ls"
   ]
  },
  {
   "cell_type": "markdown",
   "metadata": {
    "slideshow": {
     "slide_type": "slide"
    }
   },
   "source": [
    "디렉토리 삭제 2\n",
    "- rm -rf\n",
    "- r(recursive removal), f(force)\n",
    "- 디렉토리내의 파일이 있어도 삭제 가능"
   ]
  },
  {
   "cell_type": "code",
   "execution_count": 31,
   "metadata": {
    "slideshow": {
     "slide_type": "slide"
    }
   },
   "outputs": [],
   "source": [
    "# dss 디렉토리 생성\n",
    "!mkdir dss"
   ]
  },
  {
   "cell_type": "code",
   "execution_count": 32,
   "metadata": {
    "slideshow": {
     "slide_type": "-"
    }
   },
   "outputs": [
    {
     "name": "stdout",
     "output_type": "stream",
     "text": [
      "01_jupyter_notebook.ipynb      06_change_datatype.ipynb\r\n",
      "02_basic_syntax.ipynb          07_operators.ipynb\r\n",
      "03_number_boolean_string.ipynb \u001b[1m\u001b[36mdss\u001b[m\u001b[m\r\n",
      "04_list_tuple.ipynb            test.py\r\n",
      "05_dictionary_set.ipynb\r\n"
     ]
    }
   ],
   "source": [
    "# 현재 디렉토리의 파일 리스트 확인\n",
    "!ls"
   ]
  },
  {
   "cell_type": "code",
   "execution_count": 33,
   "metadata": {
    "slideshow": {
     "slide_type": "-"
    }
   },
   "outputs": [],
   "source": [
    "# test.py 파일을 dss 디렉토리로 이동\n",
    "!mv test.py dss"
   ]
  },
  {
   "cell_type": "code",
   "execution_count": 34,
   "metadata": {
    "slideshow": {
     "slide_type": "-"
    }
   },
   "outputs": [
    {
     "name": "stdout",
     "output_type": "stream",
     "text": [
      "01_jupyter_notebook.ipynb      05_dictionary_set.ipynb\r\n",
      "02_basic_syntax.ipynb          06_change_datatype.ipynb\r\n",
      "03_number_boolean_string.ipynb 07_operators.ipynb\r\n",
      "04_list_tuple.ipynb            \u001b[1m\u001b[36mdss\u001b[m\u001b[m\r\n"
     ]
    }
   ],
   "source": [
    "# 현재 디렉토리의 파일 리스트 확인\n",
    "!ls"
   ]
  },
  {
   "cell_type": "code",
   "execution_count": 35,
   "metadata": {
    "slideshow": {
     "slide_type": "-"
    }
   },
   "outputs": [
    {
     "name": "stdout",
     "output_type": "stream",
     "text": [
      "test.py\r\n"
     ]
    }
   ],
   "source": [
    "# dss 디렉토리 내의 파일리스트를 확인\n",
    "!ls dss"
   ]
  },
  {
   "cell_type": "markdown",
   "metadata": {
    "slideshow": {
     "slide_type": "slide"
    }
   },
   "source": [
    "`-rf` 옵션을 사용하면 파일이 비어있지 않아도 디렉토리 삭제가 가능"
   ]
  },
  {
   "cell_type": "code",
   "execution_count": 36,
   "metadata": {
    "slideshow": {
     "slide_type": "-"
    }
   },
   "outputs": [],
   "source": [
    "# 디렉토리내의 파일이이 있어도 삭제 가능\n",
    "# rf 옵션을 추가하여 디렉토리를 삭제\n",
    "!rm -rf dss"
   ]
  },
  {
   "cell_type": "code",
   "execution_count": 37,
   "metadata": {
    "slideshow": {
     "slide_type": "-"
    }
   },
   "outputs": [
    {
     "name": "stdout",
     "output_type": "stream",
     "text": [
      "01_jupyter_notebook.ipynb      05_dictionary_set.ipynb\r\n",
      "02_basic_syntax.ipynb          06_change_datatype.ipynb\r\n",
      "03_number_boolean_string.ipynb 07_operators.ipynb\r\n",
      "04_list_tuple.ipynb\r\n"
     ]
    }
   ],
   "source": [
    "# 현재 디렉토리의 파일 리스트 확인\n",
    "# dss 디렉토리가 삭제됨\n",
    "!ls"
   ]
  },
  {
   "cell_type": "markdown",
   "metadata": {
    "slideshow": {
     "slide_type": "slide"
    }
   },
   "source": [
    "#### 4.2 Shell Command 결과를 변수로 할당 및 출력\n",
    "쉘 명령어의 결과를 노트북 내에서 변수로 받아서 사용할수 있으며, 노트북 내의 변수를 쉘 명령어에도 사용 할수 있습니다. `{}`를 사용하여 주피터 노트북에서 사용하는 변수를 쉘커멘드에서 사용이 가능합니다."
   ]
  },
  {
   "cell_type": "code",
   "execution_count": 38,
   "metadata": {
    "scrolled": true,
    "slideshow": {
     "slide_type": "-"
    }
   },
   "outputs": [
    {
     "data": {
      "text/plain": [
       "['01_jupyter_notebook.ipynb',\n",
       " '02_basic_syntax.ipynb',\n",
       " '03_number_boolean_string.ipynb',\n",
       " '04_list_tuple.ipynb',\n",
       " '05_dictionary_set.ipynb',\n",
       " '06_change_datatype.ipynb',\n",
       " '07_operators.ipynb']"
      ]
     },
     "execution_count": 38,
     "metadata": {},
     "output_type": "execute_result"
    }
   ],
   "source": [
    "# shell command로 현재 디렉토리의 파일 리스트를 불러와 python의 file_list 변수에 저장\n",
    "file_list = !ls\n",
    "file_list"
   ]
  },
  {
   "cell_type": "code",
   "execution_count": 39,
   "metadata": {
    "slideshow": {
     "slide_type": "-"
    }
   },
   "outputs": [
    {
     "name": "stdout",
     "output_type": "stream",
     "text": [
      "[01_jupyter_notebook.ipynb, 02_basic_syntax.ipynb, 03_number_boolean_string.ipynb, 04_list_tuple.ipynb, 05_dictionary_set.ipynb, 06_change_datatype.ipynb, 07_operators.ipynb]\r\n"
     ]
    }
   ],
   "source": [
    "# python의 file_list 변수를 shell command에서 출력\n",
    "!echo {file_list}"
   ]
  },
  {
   "cell_type": "markdown",
   "metadata": {
    "slideshow": {
     "slide_type": "slide"
    }
   },
   "source": [
    "### 5. Jupyter Notebook Expression\n",
    "바로 앞의 셀에서 실행한 결과를 다음 셀에서 사용하고자 할때 사용합니다. _(Underscore)를 사용하면 이전 셀의 결과를 가져와서 사용할수 있습니다."
   ]
  },
  {
   "cell_type": "code",
   "execution_count": 40,
   "metadata": {
    "slideshow": {
     "slide_type": "-"
    }
   },
   "outputs": [
    {
     "data": {
      "text/plain": [
       "4"
      ]
     },
     "execution_count": 40,
     "metadata": {},
     "output_type": "execute_result"
    }
   ],
   "source": [
    "1 + 3"
   ]
  },
  {
   "cell_type": "code",
   "execution_count": 41,
   "metadata": {
    "slideshow": {
     "slide_type": "-"
    }
   },
   "outputs": [
    {
     "data": {
      "text/plain": [
       "8"
      ]
     },
     "execution_count": 41,
     "metadata": {},
     "output_type": "execute_result"
    }
   ],
   "source": [
    "# 이전에 실행된 셀에서의 결과를 현재 셀에서 가져와서 사용\n",
    "_ * 2"
   ]
  }
 ],
 "metadata": {
  "celltoolbar": "Slideshow",
  "kernelspec": {
   "display_name": "Python 3",
   "language": "python",
   "name": "python3"
  },
  "language_info": {
   "codemirror_mode": {
    "name": "ipython",
    "version": 3
   },
   "file_extension": ".py",
   "mimetype": "text/x-python",
   "name": "python",
   "nbconvert_exporter": "python",
   "pygments_lexer": "ipython3",
   "version": "3.7.6"
  },
  "varInspector": {
   "cols": {
    "lenName": 16,
    "lenType": 16,
    "lenVar": 40
   },
   "kernels_config": {
    "python": {
     "delete_cmd_postfix": "",
     "delete_cmd_prefix": "del ",
     "library": "var_list.py",
     "varRefreshCmd": "print(var_dic_list())"
    },
    "r": {
     "delete_cmd_postfix": ") ",
     "delete_cmd_prefix": "rm(",
     "library": "var_list.r",
     "varRefreshCmd": "cat(var_dic_list()) "
    }
   },
   "types_to_exclude": [
    "module",
    "function",
    "builtin_function_or_method",
    "instance",
    "_Feature"
   ],
   "window_display": false
  }
 },
 "nbformat": 4,
 "nbformat_minor": 2
}
