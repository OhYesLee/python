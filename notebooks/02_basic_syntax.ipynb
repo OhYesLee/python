{
 "cells": [
  {
   "cell_type": "markdown",
   "metadata": {
    "slideshow": {
     "slide_type": "slide"
    }
   },
   "source": [
    "# Python Basic Syntax\n",
    "\n",
    "파이썬의 기초 문법으로는 식별자, 변수, 자료형, 데이터 형변환, 연산자에 대해서 학습합니다.\n",
    "\n",
    "1. PEP : Python Enhance Proposal\n",
    "\n",
    "2. 주석과 출력 : Comment & Print\n",
    "\n",
    "3. 식별자 : Identifiers\n",
    "\n",
    "4. 변수 : Variable"
   ]
  },
  {
   "cell_type": "markdown",
   "metadata": {
    "slideshow": {
     "slide_type": "slide"
    }
   },
   "source": [
    "## 1. PEP(Python Enhance Proposal)\n",
    "- python을 향상시키기 위한 제안\n",
    "- Zen of Python : PEP20 : https://www.python.org/dev/peps/pep-0020/   \n",
    "- Style Guide for Python Code : PEP8 : https://www.python.org/dev/peps/pep-0008/"
   ]
  },
  {
   "cell_type": "markdown",
   "metadata": {
    "slideshow": {
     "slide_type": "slide"
    }
   },
   "source": [
    "## 2. 주석과 출력 : Comment & Print\n",
    "코드에 대한 설명을 하는 comment와 값을 출력하는 print에 대해서 알아봅니다."
   ]
  },
  {
   "cell_type": "markdown",
   "metadata": {},
   "source": [
    "### 2.1 comment\n",
    "코드에 대한 설명인 주석을 입력할때는 해당 줄의 가장 앞에 #을 넣어줍니다. 가장 앞 라인에 #이 들어가면 해당 라인은 코드 로 인식되지 않아 실행되지 않습니다.\n",
    "\n",
    "단축키 : `cmd(ctrl) + /`"
   ]
  },
  {
   "cell_type": "code",
   "execution_count": 1,
   "metadata": {},
   "outputs": [
    {
     "name": "stdout",
     "output_type": "stream",
     "text": [
      "5678\n"
     ]
    }
   ],
   "source": [
    "# comment\n",
    "# print(1234)\n",
    "print(5678)"
   ]
  },
  {
   "cell_type": "markdown",
   "metadata": {
    "slideshow": {
     "slide_type": "slide"
    }
   },
   "source": [
    "### 2.2 print\n",
    "데이터를 출력할때는 `print` 함수를 사용합니다."
   ]
  },
  {
   "cell_type": "code",
   "execution_count": 2,
   "metadata": {},
   "outputs": [
    {
     "name": "stdout",
     "output_type": "stream",
     "text": [
      "123\n"
     ]
    }
   ],
   "source": [
    "print(123)"
   ]
  },
  {
   "cell_type": "code",
   "execution_count": 3,
   "metadata": {},
   "outputs": [
    {
     "data": {
      "text/plain": [
       "123"
      ]
     },
     "execution_count": 3,
     "metadata": {},
     "output_type": "execute_result"
    }
   ],
   "source": [
    "123"
   ]
  },
  {
   "cell_type": "markdown",
   "metadata": {
    "slideshow": {
     "slide_type": "slide"
    }
   },
   "source": [
    "파이썬에서 코드의 길이가 길어 여러줄을 사용해야 할때는 `\\` 를 사용합니다.\n",
    "\n",
    "`\\` 뒤에는 공백을 포함한 아무런 문자가 오면 안됩니다."
   ]
  },
  {
   "cell_type": "code",
   "execution_count": 4,
   "metadata": {},
   "outputs": [],
   "source": [
    "# print(12345\n",
    "#       67890)"
   ]
  },
  {
   "cell_type": "code",
   "execution_count": 5,
   "metadata": {},
   "outputs": [
    {
     "name": "stdout",
     "output_type": "stream",
     "text": [
      "a b c\n"
     ]
    }
   ],
   "source": [
    "print(\"a\", \"b\",\\\n",
    "      \"c\")"
   ]
  },
  {
   "cell_type": "markdown",
   "metadata": {
    "slideshow": {
     "slide_type": "slide"
    }
   },
   "source": [
    "## 3. 식별자 : Identifiers\n",
    "\n",
    "변수, 함수, 클래스, 모듈 등을 구분하기 위해 사용되는 이름을 식별자라고 합니다. 이 식별자는 몇가지의 규칙이 있습니다.\n",
    "\n",
    "\n",
    "- 대소문자를 구분\n",
    "- 소문자(a ~ z), 대문자(A ~ Z), 숫자(0 ~ 9), 언더스코어(_) 사용 가능\n",
    "- (_)를 제외한 특수문자는 사용 불가\n",
    "- 가장 앞에 (__) 사용 지양 (reserved global variable)\n",
    "- 가장앞에숫자사용불가\n",
    "- 예약어사용불가\n",
    "- 예약어\n",
    "    - Fasle, class, finally, is, return, None, continue, for, lambda, try, True, def, from, nonlocal, while, and, del, global, not, with, as, elif, if, or, yield, assert, else, import, pass, break, except, in, raise"
   ]
  },
  {
   "cell_type": "markdown",
   "metadata": {
    "slideshow": {
     "slide_type": "slide"
    }
   },
   "source": [
    "## 4. 변수 : Variable\n",
    "변수는 메모리에 데이터를 저장하기 위한 저장공간의 이름으로 변수에는 값을 가지게 됩니다.\n",
    "1. 변수선언\n",
    "1. 식별자의 규칙에 맞지 않는 변수 할당\n",
    "1. 다중할당"
   ]
  },
  {
   "cell_type": "markdown",
   "metadata": {
    "slideshow": {
     "slide_type": "slide"
    }
   },
   "source": [
    "### 4.1 변수 선언"
   ]
  },
  {
   "cell_type": "code",
   "execution_count": 6,
   "metadata": {},
   "outputs": [],
   "source": [
    "# a 라는 이름의 변수를 만들고 변수에 1 이라는 숫자를 값(value)을 넣어줍니다.\n",
    "a = 1"
   ]
  },
  {
   "cell_type": "code",
   "execution_count": 7,
   "metadata": {},
   "outputs": [],
   "source": [
    "# b 라는 이름의 변수를 만들고 “python” 이라는 문자열을 값으로 넣어줍니다.\n",
    "b = \"python\""
   ]
  },
  {
   "cell_type": "code",
   "execution_count": 8,
   "metadata": {},
   "outputs": [
    {
     "data": {
      "text/plain": [
       "(1, 'python')"
      ]
     },
     "execution_count": 8,
     "metadata": {},
     "output_type": "execute_result"
    }
   ],
   "source": [
    "a, b"
   ]
  },
  {
   "cell_type": "markdown",
   "metadata": {
    "slideshow": {
     "slide_type": "slide"
    }
   },
   "source": [
    "### 4.2 식별자의 규칙에 맞지 않는 변수 할당"
   ]
  },
  {
   "cell_type": "code",
   "execution_count": 9,
   "metadata": {},
   "outputs": [],
   "source": [
    "# _ 를 제외한 특수문자 사용불가\n",
    "# abc% = 10"
   ]
  },
  {
   "cell_type": "code",
   "execution_count": 10,
   "metadata": {},
   "outputs": [],
   "source": [
    "# 가장 앞에 숫자 사용 불가\n",
    "# 1_abc = 10"
   ]
  },
  {
   "cell_type": "code",
   "execution_count": 11,
   "metadata": {},
   "outputs": [],
   "source": [
    "# 예약어 사용 불가\n",
    "# class = 10"
   ]
  },
  {
   "cell_type": "markdown",
   "metadata": {
    "slideshow": {
     "slide_type": "slide"
    }
   },
   "source": [
    "### 4.3 다중할당\n",
    "\n",
    "변수의 할당은 한줄에 여러개의 변수에 값을 할당할수 있으며 같은 값을 여러개의 변수에 할당할수 있습니다."
   ]
  },
  {
   "cell_type": "markdown",
   "metadata": {
    "slideshow": {
     "slide_type": "slide"
    }
   },
   "source": [
    "#### 4.3.1 한줄에 여러개의 변수 할당"
   ]
  },
  {
   "cell_type": "code",
   "execution_count": 12,
   "metadata": {},
   "outputs": [
    {
     "data": {
      "text/plain": [
       "(5, 'dss')"
      ]
     },
     "execution_count": 12,
     "metadata": {},
     "output_type": "execute_result"
    }
   ],
   "source": [
    "# c 변수에 5라는 정수 값을 할당하고, d 변수에 “dss” 라는 문자열 값을 할당합니다.\n",
    "c, d = 5, \"dss\"\n",
    "c, d"
   ]
  },
  {
   "cell_type": "code",
   "execution_count": 13,
   "metadata": {},
   "outputs": [
    {
     "data": {
      "text/plain": [
       "(5, 'dss')"
      ]
     },
     "execution_count": 13,
     "metadata": {},
     "output_type": "execute_result"
    }
   ],
   "source": [
    "c = 5\n",
    "d = \"dss\"\n",
    "c, d"
   ]
  },
  {
   "cell_type": "markdown",
   "metadata": {
    "slideshow": {
     "slide_type": "slide"
    }
   },
   "source": [
    "#### 4.3.2 한줄에 같은 값을 여러개의 변수에 할당"
   ]
  },
  {
   "cell_type": "code",
   "execution_count": 14,
   "metadata": {},
   "outputs": [
    {
     "data": {
      "text/plain": [
       "('datascience', 'datascience', 'datascience')"
      ]
     },
     "execution_count": 14,
     "metadata": {},
     "output_type": "execute_result"
    }
   ],
   "source": [
    "# e, f, g 변수에 \"datascience\" 라는 값을 할당합니다.\n",
    "e = f = g = \"datascience\"\n",
    "e, f, g"
   ]
  },
  {
   "cell_type": "code",
   "execution_count": 15,
   "metadata": {},
   "outputs": [
    {
     "data": {
      "text/plain": [
       "('dss', 'datascience', 'datascience')"
      ]
     },
     "execution_count": 15,
     "metadata": {},
     "output_type": "execute_result"
    }
   ],
   "source": [
    "e = \"dss\"\n",
    "e, f, g"
   ]
  },
  {
   "cell_type": "code",
   "execution_count": 16,
   "metadata": {},
   "outputs": [
    {
     "data": {
      "text/plain": [
       "([1, 2, 3, 4], [1, 2, 3, 4], [1, 2, 3, 4])"
      ]
     },
     "execution_count": 16,
     "metadata": {},
     "output_type": "execute_result"
    }
   ],
   "source": [
    "e = f = g = [1, 2, 3, 4]\n",
    "e, f, g"
   ]
  },
  {
   "cell_type": "code",
   "execution_count": 17,
   "metadata": {},
   "outputs": [
    {
     "data": {
      "text/plain": [
       "([5, 2, 3, 4], [5, 2, 3, 4], [5, 2, 3, 4])"
      ]
     },
     "execution_count": 17,
     "metadata": {},
     "output_type": "execute_result"
    }
   ],
   "source": [
    "e[0] = 5\n",
    "e, f, g"
   ]
  },
  {
   "cell_type": "markdown",
   "metadata": {
    "slideshow": {
     "slide_type": "slide"
    }
   },
   "source": [
    "### Quiz 1\n",
    "\n",
    "- 아래와 같은 결과가 출력되도록 변수를 선언하고 print함수를 이용하여 코드를 작성하세요.\n",
    "- 여러개의 답이 있을수 있습니다.\n",
    "\n",
    "    `fastcampus fastcampus programing python`"
   ]
  },
  {
   "cell_type": "code",
   "execution_count": 18,
   "metadata": {
    "slideshow": {
     "slide_type": "skip"
    }
   },
   "outputs": [
    {
     "name": "stdout",
     "output_type": "stream",
     "text": [
      "fastcampus programing fastcampus python\n"
     ]
    }
   ],
   "source": [
    "data1 = data2 = \"fastcampus\"\n",
    "data3, data4 = \"programing\", \"python\"\n",
    "print(data1, data3, data2, data4)"
   ]
  },
  {
   "cell_type": "markdown",
   "metadata": {
    "slideshow": {
     "slide_type": "slide"
    }
   },
   "source": [
    "### Quiz 2\n",
    "\n",
    "- 아래와 같은 결과가 출력되도록 변수를 선언하고 print함수를 이용하여 코드를 작성하세요.\n",
    "- 여러개의 답이 있을수 있습니다.\n",
    "\n",
    "    `hello world hello python`"
   ]
  },
  {
   "cell_type": "code",
   "execution_count": 19,
   "metadata": {
    "slideshow": {
     "slide_type": "skip"
    }
   },
   "outputs": [
    {
     "name": "stdout",
     "output_type": "stream",
     "text": [
      "hello world hello python\n"
     ]
    }
   ],
   "source": [
    "data1, data2, data3 = \"hello\", \"world\", \"python\"\n",
    "print(data1, data2, data1, data3)"
   ]
  }
 ],
 "metadata": {
  "celltoolbar": "Slideshow",
  "kernelspec": {
   "display_name": "Python 3",
   "language": "python",
   "name": "python3"
  },
  "language_info": {
   "codemirror_mode": {
    "name": "ipython",
    "version": 3
   },
   "file_extension": ".py",
   "mimetype": "text/x-python",
   "name": "python",
   "nbconvert_exporter": "python",
   "pygments_lexer": "ipython3",
   "version": "3.7.6"
  },
  "varInspector": {
   "cols": {
    "lenName": 16,
    "lenType": 16,
    "lenVar": 40
   },
   "kernels_config": {
    "python": {
     "delete_cmd_postfix": "",
     "delete_cmd_prefix": "del ",
     "library": "var_list.py",
     "varRefreshCmd": "print(var_dic_list())"
    },
    "r": {
     "delete_cmd_postfix": ") ",
     "delete_cmd_prefix": "rm(",
     "library": "var_list.r",
     "varRefreshCmd": "cat(var_dic_list()) "
    }
   },
   "types_to_exclude": [
    "module",
    "function",
    "builtin_function_or_method",
    "instance",
    "_Feature"
   ],
   "window_display": false
  }
 },
 "nbformat": 4,
 "nbformat_minor": 2
}
