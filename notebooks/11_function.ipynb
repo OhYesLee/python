{
 "cells": [
  {
   "cell_type": "markdown",
   "metadata": {
    "slideshow": {
     "slide_type": "slide"
    }
   },
   "source": [
    "# Function - 함수\n",
    "함수의 구조와 종류, 사용방법등에 대해서 학습합니다. 함수는 반복되는 코드를 묶음으로 효율적인 코드작성이 가능하도록 해주는 기능입니다.\n",
    "\n",
    "1. Basic Function - 기본함수\n",
    "1. Parameter & Argument - 파라미터와 아규먼트\n",
    "1. Return - 리턴\n",
    "1. `*args`, `**kwargs` - 아규먼트들과 키워드 아규먼트들\n",
    "1. Docstring - 함수설명\n",
    "1. Scope - 범위\n",
    "1. Inner Function\n",
    "1. Lambda Function - 람다 함수\n",
    "1. Map, Filter, Reduce\n",
    "1. Decorlator"
   ]
  },
  {
   "cell_type": "markdown",
   "metadata": {
    "slideshow": {
     "slide_type": "slide"
    }
   },
   "source": [
    "## 1. 기본 함수 - Basic Function\n",
    "함수는 Definition의 약자인 `def` 예약어를 사용하여 선언 합니다. `def` 예약어를 작성후 한칸 띄고 앞에서 배운 식별자 규칙에 따라서 함수 이름을 작성합니다. 함수 이름 작성후 바로 뒤에 파라미터를 넣어줄 `()` 특수문자를 써주고 `()` 안에는 함수에서 사용할 파라미터 이름을 작성합니다. 그리고 함수 선언을 하는 라인의 마지막에는 `:` 문자를 붙임으로 함수 선언의 마지막을 나타냅니다. 함수가 호출되면 함수 안에 있는 코드가 실행 됩니다.\n",
    "\n",
    "선언\n",
    "```\n",
    "def <function_name>():\n",
    "\tcode\n",
    "```\n",
    "\n",
    "호출\n",
    "```\n",
    "<function_name>()\n",
    "```"
   ]
  },
  {
   "cell_type": "markdown",
   "metadata": {
    "slideshow": {
     "slide_type": "slide"
    }
   },
   "source": [
    "함수의 선언"
   ]
  },
  {
   "cell_type": "code",
   "execution_count": 1,
   "metadata": {},
   "outputs": [],
   "source": [
    "def data_science():\n",
    "    print(\"dss plus 1\")"
   ]
  },
  {
   "cell_type": "code",
   "execution_count": 2,
   "metadata": {},
   "outputs": [
    {
     "name": "stdout",
     "output_type": "stream",
     "text": [
      "Variable       Type        Data/Info\n",
      "------------------------------------\n",
      "data_science   function    <function data_science at 0x121838e18>\n"
     ]
    }
   ],
   "source": [
    "%whos"
   ]
  },
  {
   "cell_type": "markdown",
   "metadata": {
    "slideshow": {
     "slide_type": "slide"
    }
   },
   "source": [
    "함수의 호출"
   ]
  },
  {
   "cell_type": "code",
   "execution_count": 3,
   "metadata": {},
   "outputs": [
    {
     "name": "stdout",
     "output_type": "stream",
     "text": [
      "dss plus 1\n"
     ]
    }
   ],
   "source": [
    "data_science()"
   ]
  },
  {
   "cell_type": "markdown",
   "metadata": {
    "slideshow": {
     "slide_type": "slide"
    }
   },
   "source": [
    "## 2. 파라미터와 아규먼트 - Parameter &  Argument"
   ]
  },
  {
   "cell_type": "markdown",
   "metadata": {
    "slideshow": {
     "slide_type": "slide"
    }
   },
   "source": [
    "### 2.1 Parameter\n",
    "파라미터는 함수를 호출할때 전달 하는 데이터를 받아서 함수 내에서 사용되는 변수 명입니다.\n",
    "```\n",
    "def <function_name>(<parameter_name_1>,<parameter_name_2>):\n",
    "\tcode\n",
    "```"
   ]
  },
  {
   "cell_type": "code",
   "execution_count": 4,
   "metadata": {},
   "outputs": [],
   "source": [
    "def data_science(string):\n",
    "    print(string)"
   ]
  },
  {
   "cell_type": "markdown",
   "metadata": {
    "slideshow": {
     "slide_type": "slide"
    }
   },
   "source": [
    "### 2.2 Argument\n",
    "아규먼트는 함수를 호출할때 데이터를 전달하는 것으로 아래와 같이 사용합니다.\n",
    "```            \n",
    "<function_name>(<argument_1>, <argument_2>):\n",
    "```"
   ]
  },
  {
   "cell_type": "code",
   "execution_count": 5,
   "metadata": {},
   "outputs": [
    {
     "name": "stdout",
     "output_type": "stream",
     "text": [
      "dss plus 1\n"
     ]
    }
   ],
   "source": [
    "arg = \"dss plus 1\"\n",
    "data_science(arg)"
   ]
  },
  {
   "cell_type": "markdown",
   "metadata": {
    "slideshow": {
     "slide_type": "slide"
    }
   },
   "source": [
    "### 2.3 Default Parameter\n",
    "함수의 파라미터에 아래와 같이 디폴트값을 설정해 줄수 있습니다. 디폴트값이 설정된 파라미터 변수는 함수를 호출할때 해당 파라미터에 대한 아규먼트가 없으면 디폴트로 설정된 값이 파라미터 변수로 들어가게 됩니다.\n",
    "```\n",
    "def <function_name>(<key_name_1>=<value_1>,  <key_name_2>=<value_2>):\n",
    "\tcode\n",
    "```"
   ]
  },
  {
   "cell_type": "markdown",
   "metadata": {},
   "source": [
    "아래의 코드는 minus 함수를 호출할때 아규먼트 5만 설정이 되어 함수의 num1 파라미터에는 아규먼트 값이 5가 num2 파라미터에는 디폴트 값이 2가 들어갑니다."
   ]
  },
  {
   "cell_type": "code",
   "execution_count": 6,
   "metadata": {},
   "outputs": [
    {
     "name": "stdout",
     "output_type": "stream",
     "text": [
      "0\n"
     ]
    }
   ],
   "source": [
    "def minus(num1=3, num2=2):\n",
    "    print(num1 - num2)\n",
    "\n",
    "\n",
    "minus(2)"
   ]
  },
  {
   "cell_type": "markdown",
   "metadata": {
    "slideshow": {
     "slide_type": "slide"
    }
   },
   "source": [
    "디폴트 파라미터를 사용할때는 디폴트로 설정된 파라미터가 항상 뒤쪽에 사용해야 합니다. 그러므로 아래의 코드는 에러가 발생됩니다."
   ]
  },
  {
   "cell_type": "code",
   "execution_count": 7,
   "metadata": {},
   "outputs": [],
   "source": [
    "# def minus(num1=3, num2=2, num3):\n",
    "#     print(num1 - num2 - num3)\n",
    "\n",
    "\n",
    "# minus(5)"
   ]
  },
  {
   "cell_type": "markdown",
   "metadata": {},
   "source": [
    "위의 코드는 아래와 같이 사용해야 에러 없이 사용이 가능 합니다."
   ]
  },
  {
   "cell_type": "code",
   "execution_count": 8,
   "metadata": {},
   "outputs": [
    {
     "name": "stdout",
     "output_type": "stream",
     "text": [
      "-4\n",
      "-6\n",
      "-8\n"
     ]
    }
   ],
   "source": [
    "def minus(num3, num1=3, num2=2):\n",
    "    print(num1 - num2 - num3)\n",
    "\n",
    "\n",
    "minus(5)\n",
    "minus(5, 1)\n",
    "minus(5, 1, 4)"
   ]
  },
  {
   "cell_type": "markdown",
   "metadata": {
    "slideshow": {
     "slide_type": "slide"
    }
   },
   "source": [
    "### 2.4 keyword Argument\n",
    "키워드 아규먼트를 사용하는것은 아래와 같이 사용합니다. 아규먼트가 들어가는 부분에 (key=value) 값이 들거 갑니다. 아규먼트의 키값고 함수 파라미터의 변수명이 같은 변수에 value 값이 들어가게 됩니다.\n",
    "```\n",
    "def <function_name>(<key_1>, <key_2>):\n",
    "\tcode\n",
    "<function_name>(<key_1>=<value_1>, <key_2>=<value_2>)\n",
    "```"
   ]
  },
  {
   "cell_type": "markdown",
   "metadata": {},
   "source": [
    "아래의 코드는 num1과 num2를 파라미터로 받아 num1에서 num2를 뺀 결과를 출력하는 함수를 선언하였습니다. 함수를 호출할때 keyword argument를 사용하여 순서에 의해서 함수의 parameter에 대입되는것이 아니고 parameter의 변수명과 함수 호출시 설정한 argument의 keyword에 의해서 대입됩니다."
   ]
  },
  {
   "cell_type": "code",
   "execution_count": 9,
   "metadata": {},
   "outputs": [
    {
     "name": "stdout",
     "output_type": "stream",
     "text": [
      "-1\n",
      "-1\n"
     ]
    }
   ],
   "source": [
    "def minus(num1, num2):\n",
    "    print(num1 - num2)\n",
    "\n",
    "\n",
    "minus(2, 3)\n",
    "minus(num2=3, num1=2)"
   ]
  },
  {
   "cell_type": "markdown",
   "metadata": {
    "slideshow": {
     "slide_type": "slide"
    }
   },
   "source": [
    "## 3. return \n",
    "리턴은 함수를 호출했을때 결과 데이터를 반환하는 용도로 사용됩니다. 함수에는 리턴이 있는 함수가 있고 리턴이 없는 함수가 있습니다."
   ]
  },
  {
   "cell_type": "markdown",
   "metadata": {},
   "source": [
    "아래의 코드는 plus이라는 두개의 파라미터를 받아 더한 결과를 리턴하는 함수와 1과 2라는 숫자 값을 아규먼트로 사용하여 plus 함수를 호출한후 함수의 리턴값(결과값)을 result라는 이름의 변수에 저장한후 result 변수를 출력하는 코드 입니다."
   ]
  },
  {
   "cell_type": "code",
   "execution_count": 10,
   "metadata": {},
   "outputs": [
    {
     "name": "stdout",
     "output_type": "stream",
     "text": [
      "3\n"
     ]
    }
   ],
   "source": [
    "def plus(a, b):\n",
    "    return a + b\n",
    "\n",
    "\n",
    "result = plus(1, 2)\n",
    "\n",
    "print(result)"
   ]
  },
  {
   "cell_type": "code",
   "execution_count": 11,
   "metadata": {
    "slideshow": {
     "slide_type": "slide"
    }
   },
   "outputs": [
    {
     "name": "stdout",
     "output_type": "stream",
     "text": [
      "1 2\n"
     ]
    }
   ],
   "source": [
    "def echo(a, b):\n",
    "    return a, b\n",
    "\n",
    "\n",
    "result1, result2 = echo(1, 2)\n",
    "\n",
    "print(result1, result2)"
   ]
  },
  {
   "cell_type": "code",
   "execution_count": 12,
   "metadata": {},
   "outputs": [],
   "source": [
    "def dss(number):\n",
    "    if number > 10:\n",
    "        return\n",
    "    print(\"dss\")\n",
    "\n",
    "\n",
    "dss(11)"
   ]
  },
  {
   "cell_type": "code",
   "execution_count": 13,
   "metadata": {},
   "outputs": [
    {
     "name": "stdout",
     "output_type": "stream",
     "text": [
      "dss\n"
     ]
    }
   ],
   "source": [
    "dss(8)"
   ]
  },
  {
   "cell_type": "markdown",
   "metadata": {
    "slideshow": {
     "slide_type": "slide"
    }
   },
   "source": [
    "### 4. `*args`, `**kwargs`\n",
    "`*args`, `**kwargs`는 함수를 호출할때 보내는 아규먼트의 갯수를 특정할수 없을 때, 함수의 파라미터를 넣는 영역에 사용됩니다. `*args`, `**kwargs`를 사용하면 함수 호출시 파라미터로 전달하는 아규먼트의 갯수에 상관 없이 파라미터를 받아올수 있습니다."
   ]
  },
  {
   "cell_type": "markdown",
   "metadata": {
    "slideshow": {
     "slide_type": "slide"
    }
   },
   "source": [
    "### 4.1 `*args`\n",
    "함수에서 여러개의 파라미터를 한꺼번에 받아올때 사용합니다. 파라미터로 받는 데이터는 tuple 데이터 타입으로 받습니다. `*`은 코드에서 all(전부)를 의미하기 때문에 `*args`는 모든 아규먼트를 받아온다는 의미로 사용합니다."
   ]
  },
  {
   "cell_type": "code",
   "execution_count": 14,
   "metadata": {},
   "outputs": [
    {
     "name": "stdout",
     "output_type": "stream",
     "text": [
      "(1, 2, 3, 'fast', 'campus', ['data', 'science'])\n",
      "<class 'tuple'>\n",
      "campus\n",
      "science\n"
     ]
    }
   ],
   "source": [
    "def print_args(*args):\n",
    "    print(args)\n",
    "    print(type(args))\n",
    "    print(args[4])\n",
    "    print(args[5][1])\n",
    "\n",
    "\n",
    "print_args(1, 2, 3, \"fast\", \"campus\", [\"data\", \"science\"])"
   ]
  },
  {
   "cell_type": "markdown",
   "metadata": {
    "slideshow": {
     "slide_type": "slide"
    }
   },
   "source": [
    "아래의 코드는 `*args`를 이용하여 평균을 구하는 코드 입니다. 이와같이 `*args`는 아규먼트로 몇개의 데이터가 설정될지 모를때 사용하면 좋습니다"
   ]
  },
  {
   "cell_type": "code",
   "execution_count": 15,
   "metadata": {},
   "outputs": [
    {
     "name": "stdout",
     "output_type": "stream",
     "text": [
      "avg : 82.0\n"
     ]
    }
   ],
   "source": [
    "def avg_func(*args):\n",
    "    return sum(args) / len(args)\n",
    "\n",
    "\n",
    "a = avg_func(100, 70, 80, 99, 85, 60, 80)\n",
    "\n",
    "print(\"avg : {}\".format(round(a, 2)))"
   ]
  },
  {
   "cell_type": "markdown",
   "metadata": {
    "slideshow": {
     "slide_type": "slide"
    }
   },
   "source": [
    "iterable 데이터 앞에 `*`을 붙여 데이터를 묶어서 아규먼트로 사용하여 함수를 호출할수도 있습니다. 호출하는하는 함수가 `*args`를 파라미터를 사용해야 합니다."
   ]
  },
  {
   "cell_type": "code",
   "execution_count": 16,
   "metadata": {},
   "outputs": [
    {
     "name": "stdout",
     "output_type": "stream",
     "text": [
      "(100, 70, 80, 99, 85, 65, 80)\n",
      "avg : 82.7143\n"
     ]
    }
   ],
   "source": [
    "def avg_func(*args):\n",
    "    print(args)\n",
    "    return sum(args) / len(args)\n",
    "\n",
    "\n",
    "ls = [100, 70, 80, 99, 85, 65, 80]\n",
    "\n",
    "# a = avg_func([100, 70, 80, 99, 85, 65, 80])\n",
    "# a = avg_func(ls)\n",
    "\n",
    "# a = avg_func(100, 70, 80, 99, 85, 65, 80)\n",
    "a = avg_func(*ls)\n",
    "\n",
    "print(\"avg : {}\".format(round(a, 4)))"
   ]
  },
  {
   "cell_type": "code",
   "execution_count": 17,
   "metadata": {
    "slideshow": {
     "slide_type": "slide"
    }
   },
   "outputs": [
    {
     "name": "stdout",
     "output_type": "stream",
     "text": [
      "<class 'tuple'> ([1, 2, 3],) [1, 2, 3]\n",
      "<class 'tuple'> (1, 2, 3) 1\n"
     ]
    }
   ],
   "source": [
    "# data(list)(args:1 - [1, 2, 3], )\n",
    "# *args(tuple(args))(args:1 - [1, 2, 3])\n",
    "# args(list(args:1 - [1, 2, 3])\n",
    "\n",
    "\n",
    "def test(*args):\n",
    "    print(type(args), args, args[0])\n",
    "\n",
    "\n",
    "data = [1, 2, 3]\n",
    "test(data)  # test([1, 2, 3])\n",
    "test(*data)  # *를 사용하면 [1, 2, 3] -> (1, 2, 3) -> test(1, 2, 3)"
   ]
  },
  {
   "cell_type": "markdown",
   "metadata": {
    "slideshow": {
     "slide_type": "slide"
    }
   },
   "source": [
    "### 4.2 `**kwargs`\n",
    "앞에서 함수를 호출할때 아규먼트에 키워드를 넣을수 있다고 설명하였습니다. `**kwargs`는 함수에서 파라미터로 모든 키워드 아규먼트를 받습니다. `**kwargs` 모든 키워드와 아규먼트를 받아온다는 의미로 사용됩니다. key값이 있는 아규먼트이기 때문에 파라미터로 받는 데이터는 dictionary 데이터 타입으로 받습니다."
   ]
  },
  {
   "cell_type": "code",
   "execution_count": 18,
   "metadata": {},
   "outputs": [],
   "source": [
    "def avg_func(**kwargs):\n",
    "    print(kwargs)\n",
    "    print(type(kwargs))\n",
    "    total, count = 0, 0\n",
    "    for subject, point in kwargs.items():\n",
    "        print(subject, point)\n",
    "        total += point\n",
    "        count += 1\n",
    "    return total / count"
   ]
  },
  {
   "cell_type": "code",
   "execution_count": 19,
   "metadata": {},
   "outputs": [
    {
     "name": "stdout",
     "output_type": "stream",
     "text": [
      "{'korean': 100, 'english': 70, 'math': 80, 'science': 90}\n",
      "<class 'dict'>\n",
      "korean 100\n",
      "english 70\n",
      "math 80\n",
      "science 90\n",
      "avg : 85.0\n"
     ]
    }
   ],
   "source": [
    "a = avg_func(korean=100, english=70, math=80, science=90)\n",
    "print(\"avg : {}\".format(round(a, 2)))"
   ]
  },
  {
   "cell_type": "markdown",
   "metadata": {
    "slideshow": {
     "slide_type": "slide"
    }
   },
   "source": [
    "아래의 코드와 같이 `*args`, `**kwargs`를 함께 사용할수 있습니다."
   ]
  },
  {
   "cell_type": "code",
   "execution_count": 20,
   "metadata": {},
   "outputs": [
    {
     "name": "stdout",
     "output_type": "stream",
     "text": [
      "(1, 2, 3, 'fastcampus', 'datascience')\n",
      "{'korean': 100, 'english': 70, 'math': 80}\n"
     ]
    }
   ],
   "source": [
    "def test_func(*args, **kwargs):\n",
    "    print(args)\n",
    "    print(kwargs)\n",
    "\n",
    "\n",
    "test_func(1, 2, 3, \"fastcampus\", \"datascience\",\n",
    "          korean=100, english=70, math=80)"
   ]
  },
  {
   "cell_type": "markdown",
   "metadata": {
    "slideshow": {
     "slide_type": "slide"
    }
   },
   "source": [
    "## 5. docstring\n",
    "PEP 20 : Zen of Python에  readablity counts(가독성은 중요하다)라는 문장이 있습니다. docstring은 함수를 사용할때 함수에 대한 설명을 넣는것을 의미합니다. "
   ]
  },
  {
   "cell_type": "markdown",
   "metadata": {
    "slideshow": {
     "slide_type": "slide"
    }
   },
   "source": [
    "### 5.1 single line docstring"
   ]
  },
  {
   "cell_type": "markdown",
   "metadata": {},
   "source": [
    "docstring의 위치는 아래의 코드와 같이 함수를 선언한 코드 아래에 문자열로 넣습니다. "
   ]
  },
  {
   "cell_type": "code",
   "execution_count": 21,
   "metadata": {},
   "outputs": [],
   "source": [
    "def echo(anything):\n",
    "    'echo returns its input argument'\n",
    "    return anything"
   ]
  },
  {
   "cell_type": "code",
   "execution_count": 22,
   "metadata": {},
   "outputs": [
    {
     "data": {
      "text/plain": [
       "'data_science'"
      ]
     },
     "execution_count": 22,
     "metadata": {},
     "output_type": "execute_result"
    }
   ],
   "source": [
    "result1 = echo(\"data_science\")\n",
    "result1"
   ]
  },
  {
   "cell_type": "code",
   "execution_count": 23,
   "metadata": {},
   "outputs": [],
   "source": [
    "echo?"
   ]
  },
  {
   "cell_type": "code",
   "execution_count": 24,
   "metadata": {},
   "outputs": [],
   "source": [
    "echo??"
   ]
  },
  {
   "cell_type": "markdown",
   "metadata": {
    "slideshow": {
     "slide_type": "slide"
    }
   },
   "source": [
    "### 5.2 multy lines docstring"
   ]
  },
  {
   "cell_type": "markdown",
   "metadata": {},
   "source": [
    "여러줄의 docstring을 넣을때는 멀티라인 문자열을 사용하여 작성 합니다."
   ]
  },
  {
   "cell_type": "code",
   "execution_count": 25,
   "metadata": {},
   "outputs": [
    {
     "name": "stdout",
     "output_type": "stream",
     "text": [
      "echo2 function : data_science\n"
     ]
    },
    {
     "data": {
      "text/plain": [
       "'data_science'"
      ]
     },
     "execution_count": 25,
     "metadata": {},
     "output_type": "execute_result"
    }
   ],
   "source": [
    "def echo2(anything):\n",
    "    \"\"\"\n",
    "    echo returns its input argument\n",
    "    The operation is:\n",
    "        1. print anything parameter\n",
    "        2. return anything parameter\n",
    "    param : anything : string\n",
    "    return string\n",
    "    \"\"\"\n",
    "    print(\"echo2 function : {}\".format(anything))\n",
    "    return anything\n",
    "\n",
    "\n",
    "result2 = echo2(\"data_science\")\n",
    "result2"
   ]
  },
  {
   "cell_type": "code",
   "execution_count": 26,
   "metadata": {},
   "outputs": [],
   "source": [
    "echo2?"
   ]
  },
  {
   "cell_type": "markdown",
   "metadata": {
    "slideshow": {
     "slide_type": "slide"
    }
   },
   "source": [
    "### 5.3 help\n",
    "help 함수를 사용하면 함수 선언과 docstring을 확인할수 있습니다."
   ]
  },
  {
   "cell_type": "code",
   "execution_count": 27,
   "metadata": {},
   "outputs": [
    {
     "name": "stdout",
     "output_type": "stream",
     "text": [
      "Help on function echo in module __main__:\n",
      "\n",
      "echo(anything)\n",
      "    echo returns its input argument\n",
      "\n"
     ]
    }
   ],
   "source": [
    "help(echo)"
   ]
  },
  {
   "cell_type": "markdown",
   "metadata": {},
   "source": [
    "docstring만 확인 하고 싶으시면 아래와 같이 코딩하여 실행 하시면 됩니다."
   ]
  },
  {
   "cell_type": "code",
   "execution_count": 28,
   "metadata": {
    "scrolled": true
   },
   "outputs": [
    {
     "name": "stdout",
     "output_type": "stream",
     "text": [
      "echo returns its input argument\n"
     ]
    }
   ],
   "source": [
    "print(echo.__doc__)"
   ]
  },
  {
   "cell_type": "markdown",
   "metadata": {
    "slideshow": {
     "slide_type": "slide"
    }
   },
   "source": [
    "## 6. Scope - 범위\n",
    "프로그램상에서 변수나 함수를 선언할 때 해당 함수는 변수를 사용할수 있는 영역 스코프가 존재 합니다. 스코프는 크게 두가지 영역으로 나뉘는데 어디에서나 사용이 가능한 global과 특정 영역에서만 사용이 가능한 local이 존재 합니다. global 변수를 전역 변수, local 변수를 지역 변수라고도 합니다."
   ]
  },
  {
   "cell_type": "markdown",
   "metadata": {},
   "source": [
    "### 6.1 Global"
   ]
  },
  {
   "cell_type": "markdown",
   "metadata": {},
   "source": [
    "함수 밖에서 변수를 선언을 한후에 함수 안에서 출력하면 선언된 변수값이 나옵니다."
   ]
  },
  {
   "cell_type": "code",
   "execution_count": 29,
   "metadata": {},
   "outputs": [
    {
     "name": "stdout",
     "output_type": "stream",
     "text": [
      "10\n"
     ]
    }
   ],
   "source": [
    "gv = 10\n",
    "\n",
    "\n",
    "def print_gv():\n",
    "    print(gv)\n",
    "\n",
    "\n",
    "print_gv()"
   ]
  },
  {
   "cell_type": "markdown",
   "metadata": {
    "slideshow": {
     "slide_type": "slide"
    }
   },
   "source": [
    "함수 밖에 변수를 선언하면 global 영역에 선언이 되고 함수 안에 변수를 선언을 하면 local영역에 변수가 선언됩니다."
   ]
  },
  {
   "cell_type": "code",
   "execution_count": 30,
   "metadata": {},
   "outputs": [
    {
     "name": "stdout",
     "output_type": "stream",
     "text": [
      "10 20\n"
     ]
    },
    {
     "data": {
      "text/plain": [
       "(1, 2)"
      ]
     },
     "execution_count": 30,
     "metadata": {},
     "output_type": "execute_result"
    }
   ],
   "source": [
    "gv1, gv2 = 1, 2\n",
    "\n",
    "\n",
    "def print_variable():\n",
    "    gv1 = 10\n",
    "    gv2 = 20\n",
    "    print(gv1, gv2)\n",
    "\n",
    "    # 리턴을 통해서 글로벌 영역에서 로컬 영역에있는 변수나 함수를 가져올수 있습니다.\n",
    "    return gv1, gv2\n",
    "\n",
    "\n",
    "print_variable()\n",
    "\n",
    "gv1, gv2"
   ]
  },
  {
   "cell_type": "markdown",
   "metadata": {
    "slideshow": {
     "slide_type": "slide"
    }
   },
   "source": [
    "global 변수를 보기 위해서는 globals()라는 함수를 사용하시면 볼수 있습니다."
   ]
  },
  {
   "cell_type": "code",
   "execution_count": 31,
   "metadata": {},
   "outputs": [
    {
     "name": "stdout",
     "output_type": "stream",
     "text": [
      "Once deleted, variables cannot be recovered. Proceed (y/[n])? y\n"
     ]
    }
   ],
   "source": [
    "%reset"
   ]
  },
  {
   "cell_type": "code",
   "execution_count": 32,
   "metadata": {},
   "outputs": [
    {
     "name": "stdout",
     "output_type": "stream",
     "text": [
      "1 2 <function print_globals at 0x121876510>\n"
     ]
    }
   ],
   "source": [
    "gv1, gv2 = 1, 2\n",
    "\n",
    "\n",
    "def print_globals():\n",
    "    gv1 = 10\n",
    "    gv2 = 20\n",
    "#     print(globals())\n",
    "    print(globals()[\"gv1\"], globals()[\"gv2\"], globals()[\"print_globals\"])\n",
    "\n",
    "\n",
    "print_globals()"
   ]
  },
  {
   "cell_type": "markdown",
   "metadata": {
    "slideshow": {
     "slide_type": "slide"
    }
   },
   "source": [
    "### 6.2 Local"
   ]
  },
  {
   "cell_type": "markdown",
   "metadata": {},
   "source": [
    "local 변수를 보기 위해서는 locals 함수를 사용하시면 됩니다. "
   ]
  },
  {
   "cell_type": "code",
   "execution_count": 33,
   "metadata": {},
   "outputs": [
    {
     "name": "stdout",
     "output_type": "stream",
     "text": [
      "{'gv1': 10, 'gv2': 20, 'plus': <function print_locals.<locals>.plus at 0x1218459d8>}\n",
      "20\n"
     ]
    }
   ],
   "source": [
    "gv1, gv2 = 1, 2\n",
    "\n",
    "\n",
    "def print_locals():\n",
    "    gv1 = 10\n",
    "    gv2 = 20\n",
    "\n",
    "    def plus(a, b):\n",
    "        return a + b\n",
    "    print(locals())\n",
    "    print(locals()[\"gv2\"])  # gv2 - 20\n",
    "\n",
    "\n",
    "print_locals()"
   ]
  },
  {
   "cell_type": "markdown",
   "metadata": {
    "slideshow": {
     "slide_type": "subslide"
    }
   },
   "source": [
    "함수도 지역 함수로 선언이 가능합니다. 지역 함수로 선언이 되면 선언된 영역에서만 사용이 가능하고, global 영역에서는 사용이 불가능 합니다."
   ]
  },
  {
   "cell_type": "code",
   "execution_count": 34,
   "metadata": {},
   "outputs": [],
   "source": [
    "# plus(a, b)"
   ]
  },
  {
   "cell_type": "markdown",
   "metadata": {
    "slideshow": {
     "slide_type": "slide"
    }
   },
   "source": [
    "### 6.3 local 영역에서 global 변수의 변경\n",
    "local 영역에서 global 변수의 변경 하기 위해서는 `global`이라는 예약어를 사용하시면 됩니다. 아래 코드는 함수내에서 전역 변수를 변경하는 코드 입니다."
   ]
  },
  {
   "cell_type": "code",
   "execution_count": 35,
   "metadata": {},
   "outputs": [],
   "source": [
    "gv = 10\n",
    "\n",
    "\n",
    "def change_gv(data):\n",
    "    print(\"change_gv\")\n",
    "    gv = data\n",
    "    print(\"local gv : {}\".format(locals()[\"gv\"]))\n",
    "    print(\"global gv : {}\".format(globals()[\"gv\"]))"
   ]
  },
  {
   "cell_type": "markdown",
   "metadata": {
    "slideshow": {
     "slide_type": "slide"
    }
   },
   "source": [
    "아래와 같이 결과를 출력해보면 지역변수로 gv:100이 생성되었고 gv global 변수는 수정이 되지 않음을 확인 할수 있습니다."
   ]
  },
  {
   "cell_type": "code",
   "execution_count": 36,
   "metadata": {},
   "outputs": [
    {
     "name": "stdout",
     "output_type": "stream",
     "text": [
      "10\n",
      "change_gv\n",
      "local gv : 100\n",
      "global gv : 10\n",
      "10\n"
     ]
    }
   ],
   "source": [
    "print(gv)\n",
    "\n",
    "change_gv(100)\n",
    "\n",
    "print(gv)"
   ]
  },
  {
   "cell_type": "markdown",
   "metadata": {
    "slideshow": {
     "slide_type": "slide"
    }
   },
   "source": [
    "`global` 예약어를 사용하시면 함수 내에서 전역 변수의 값 변경이 가능합니다."
   ]
  },
  {
   "cell_type": "code",
   "execution_count": 37,
   "metadata": {},
   "outputs": [
    {
     "name": "stdout",
     "output_type": "stream",
     "text": [
      "12\n",
      "100\n"
     ]
    }
   ],
   "source": [
    "gv = 12\n",
    "\n",
    "# 글로벌 영역에는 변수를 잘 선언하지 않고 상수를 선언하여 사용합니다.\n",
    "PIE = 3.14  # 상수는 주로 대문자로 표기를 합니다.\n",
    "\n",
    "\n",
    "def change_gv(data):\n",
    "    global gv\n",
    "    gv = data\n",
    "\n",
    "\n",
    "print(gv)\n",
    "\n",
    "change_gv(100)\n",
    "\n",
    "print(gv)"
   ]
  },
  {
   "cell_type": "markdown",
   "metadata": {
    "slideshow": {
     "slide_type": "slide"
    }
   },
   "source": [
    "## 7. Inner Function\n",
    "위에서 설명한것 처럼 전역 함수 내에 지역 함수를 선언할수 있습니다. 이때 전역 함수 내부에 선언된 진역 함수는 전역 함수 안에서만 사용이 가능합니다. 지역 함수의 실행 결과를 리턴 할수 있습니다. 이와 같은 방법으로 사용하는 이유는 전역 함수 외부에서 지역 함수를 사용할수 없게 만들어 함수의 기능을 숨길수 있으며(class에서 더 자세히 배웁니다.), 특정 함수가 전역으로 선언을 하지 않고 지역으로 선언을 하면 메모리를 절약 할 수 있습니다."
   ]
  },
  {
   "cell_type": "code",
   "execution_count": 38,
   "metadata": {
    "slideshow": {
     "slide_type": "slide"
    }
   },
   "outputs": [
    {
     "data": {
      "text/plain": [
       "11"
      ]
     },
     "execution_count": 38,
     "metadata": {},
     "output_type": "execute_result"
    }
   ],
   "source": [
    "def outer(a, b):\n",
    "\n",
    "    def inner(c, d):\n",
    "        return c + d\n",
    "\n",
    "    return inner(a, b)\n",
    "\n",
    "\n",
    "outer(4, 7)"
   ]
  },
  {
   "cell_type": "code",
   "execution_count": 39,
   "metadata": {},
   "outputs": [
    {
     "data": {
      "text/plain": [
       "3"
      ]
     },
     "execution_count": 39,
     "metadata": {},
     "output_type": "execute_result"
    }
   ],
   "source": [
    "def outer():\n",
    "\n",
    "    def inner(c, d):\n",
    "        return c + d\n",
    "\n",
    "    return inner\n",
    "\n",
    "\n",
    "# inner(1, 2)\n",
    "outer()(1, 2)"
   ]
  },
  {
   "cell_type": "markdown",
   "metadata": {
    "slideshow": {
     "slide_type": "slide"
    }
   },
   "source": [
    "### 8. Lambda Function - 람다 함수\n",
    "파라미터를 간단한 계산으로 리턴하는 함수는 람다함수를 이용하여 간단하게 만들수 있습니다.\n",
    "```\n",
    "lambda <parameters> : <return_value>\n",
    "```"
   ]
  },
  {
   "cell_type": "code",
   "execution_count": 40,
   "metadata": {},
   "outputs": [
    {
     "data": {
      "text/plain": [
       "11"
      ]
     },
     "execution_count": 40,
     "metadata": {},
     "output_type": "execute_result"
    }
   ],
   "source": [
    "def sum_func(x, y):\n",
    "    return x + y\n",
    "\n",
    "\n",
    "sum_func(5, 6)"
   ]
  },
  {
   "cell_type": "code",
   "execution_count": 41,
   "metadata": {},
   "outputs": [
    {
     "name": "stdout",
     "output_type": "stream",
     "text": [
      "<function sum_func2 at 0x1218c96a8>\n"
     ]
    },
    {
     "data": {
      "text/plain": [
       "11"
      ]
     },
     "execution_count": 41,
     "metadata": {},
     "output_type": "execute_result"
    }
   ],
   "source": [
    "def sum_func2(x, y): return x + y\n",
    "\n",
    "\n",
    "print(sum_func2)\n",
    "sum_func2(5, 6)"
   ]
  },
  {
   "cell_type": "markdown",
   "metadata": {
    "slideshow": {
     "slide_type": "slide"
    }
   },
   "source": [
    "람다 함수의 파라미터를 디폴트 파라미터로 설정할 수 있습니다."
   ]
  },
  {
   "cell_type": "code",
   "execution_count": 42,
   "metadata": {},
   "outputs": [
    {
     "data": {
      "text/plain": [
       "(3, 7, 14)"
      ]
     },
     "execution_count": 42,
     "metadata": {},
     "output_type": "execute_result"
    }
   ],
   "source": [
    "def sum_func3(x=1, y=2): return x + y\n",
    "\n",
    "\n",
    "sum_func3(), sum_func3(5), sum_func3(5, 9)"
   ]
  },
  {
   "cell_type": "markdown",
   "metadata": {
    "slideshow": {
     "slide_type": "slide"
    }
   },
   "source": [
    "람다 함수를 함수 호출시 아규먼트로 설정하여 함수의 파라미터로 사용이 가능합니다."
   ]
  },
  {
   "cell_type": "code",
   "execution_count": 43,
   "metadata": {},
   "outputs": [
    {
     "data": {
      "text/plain": [
       "12"
      ]
     },
     "execution_count": 43,
     "metadata": {},
     "output_type": "execute_result"
    }
   ],
   "source": [
    "# callback\n",
    "def sum_func4(f, x, y):\n",
    "    # logic code\n",
    "    return f(x, y)\n",
    "\n",
    "\n",
    "sum_func4(lambda x, y: x + y, 5, 7)"
   ]
  },
  {
   "cell_type": "markdown",
   "metadata": {},
   "source": [
    "람다 함수를 안쓰고 구현합니다."
   ]
  },
  {
   "cell_type": "code",
   "execution_count": 44,
   "metadata": {},
   "outputs": [
    {
     "data": {
      "text/plain": [
       "12"
      ]
     },
     "execution_count": 44,
     "metadata": {},
     "output_type": "execute_result"
    }
   ],
   "source": [
    "def sum_f(x, y):\n",
    "    return x + y\n",
    "\n",
    "\n",
    "def sum_func4(f, x, y):\n",
    "    return f(x, y)\n",
    "\n",
    "\n",
    "sum_func4(sum_f, 5, 7)"
   ]
  },
  {
   "cell_type": "markdown",
   "metadata": {
    "slideshow": {
     "slide_type": "slide"
    }
   },
   "source": [
    "### 9. Map, Filter, Reduce"
   ]
  },
  {
   "cell_type": "markdown",
   "metadata": {
    "slideshow": {
     "slide_type": "slide"
    }
   },
   "source": [
    "### 9.1 Map\n",
    "map은 함수와 리스트 자료형을 받아 리스트의 각 요소에 함수를 적용한 결과를 리스트로 리턴하는 함수입니다. 사용은 `map( <function>, <list>)`와 같이 사용하며 결과는 리스트를 리턴 합니다."
   ]
  },
  {
   "cell_type": "markdown",
   "metadata": {
    "slideshow": {
     "slide_type": "slide"
    }
   },
   "source": [
    "1~10까지의 숫자 데이터가 있는 리스트의 모든 value에 3으로 나눈 나머지 리스트를 만드는 코드입니다."
   ]
  },
  {
   "cell_type": "code",
   "execution_count": 45,
   "metadata": {},
   "outputs": [
    {
     "data": {
      "text/plain": [
       "[1, 2, 3, 4, 5, 6, 7, 8, 9, 10]"
      ]
     },
     "execution_count": 45,
     "metadata": {},
     "output_type": "execute_result"
    }
   ],
   "source": [
    "number_list = list(range(1, 11))\n",
    "number_list"
   ]
  },
  {
   "cell_type": "code",
   "execution_count": 46,
   "metadata": {
    "slideshow": {
     "slide_type": "slide"
    }
   },
   "outputs": [
    {
     "data": {
      "text/plain": [
       "[1, 2, 0, 1, 2, 0, 1, 2, 0, 1]"
      ]
     },
     "execution_count": 46,
     "metadata": {},
     "output_type": "execute_result"
    }
   ],
   "source": [
    "# function, for 사용\n",
    "\n",
    "\n",
    "def div_three(number):\n",
    "    return number % 3\n",
    "\n",
    "\n",
    "result = []\n",
    "\n",
    "for number in number_list:\n",
    "    result.append(div_three(number))\n",
    "\n",
    "result"
   ]
  },
  {
   "cell_type": "code",
   "execution_count": 47,
   "metadata": {
    "slideshow": {
     "slide_type": "slide"
    }
   },
   "outputs": [
    {
     "data": {
      "text/plain": [
       "[1, 2, 0, 1, 2, 0, 1, 2, 0, 1]"
      ]
     },
     "execution_count": 47,
     "metadata": {},
     "output_type": "execute_result"
    }
   ],
   "source": [
    "# function, map 사용\n",
    "\n",
    "list(map(div_three, number_list))"
   ]
  },
  {
   "cell_type": "code",
   "execution_count": 48,
   "metadata": {},
   "outputs": [
    {
     "data": {
      "text/plain": [
       "[1, 2, 0, 1, 2, 0, 1, 2, 0, 1]"
      ]
     },
     "execution_count": 48,
     "metadata": {},
     "output_type": "execute_result"
    }
   ],
   "source": [
    "# lambda, map 사용\n",
    "\n",
    "list(map(lambda number: number % 3, number_list))"
   ]
  },
  {
   "cell_type": "code",
   "execution_count": 49,
   "metadata": {
    "slideshow": {
     "slide_type": "slide"
    }
   },
   "outputs": [
    {
     "data": {
      "text/plain": [
       "[6, 8, 10, 12]"
      ]
     },
     "execution_count": 49,
     "metadata": {},
     "output_type": "execute_result"
    }
   ],
   "source": [
    "# map에 여러개의 파라미터 사용\n",
    "ls1 = [1, 2, 3, 4]\n",
    "ls2 = [5, 6, 7, 8]\n",
    "\n",
    "\n",
    "def sum_func(a, b):\n",
    "    return a + b\n",
    "\n",
    "\n",
    "list(map(sum_func, ls1, ls2))"
   ]
  },
  {
   "cell_type": "code",
   "execution_count": 50,
   "metadata": {},
   "outputs": [
    {
     "data": {
      "text/plain": [
       "[6, 8, 10, 12]"
      ]
     },
     "execution_count": 50,
     "metadata": {},
     "output_type": "execute_result"
    }
   ],
   "source": [
    "# sum_func 람다 function으로 변경하세요.\n",
    "ls1 = [1, 2, 3, 4]\n",
    "ls2 = [5, 6, 7, 8]\n",
    "\n",
    "list(map(lambda x, y: x + y, ls1, ls2))"
   ]
  },
  {
   "cell_type": "markdown",
   "metadata": {
    "slideshow": {
     "slide_type": "skip"
    }
   },
   "source": [
    "##### Quiz 1\n",
    "- map을 이용하여 사람의 성만 결과로 출력하는 코드를 작성하세요.\n",
    "\n",
    "```\n",
    "name_list = [\"Kim kildong\", \"Lee jeawoo\", \"Park sangjin\", \"Kim kilsoo\", \"Lee sungsim\"]\n",
    "\n",
    "result = ['Kim', 'Lee', 'Park', 'Kim', 'Lee']\n",
    "\n",
    "```"
   ]
  },
  {
   "cell_type": "code",
   "execution_count": 51,
   "metadata": {
    "slideshow": {
     "slide_type": "skip"
    }
   },
   "outputs": [
    {
     "data": {
      "text/plain": [
       "['Kim', 'Lee', 'Park', 'Kim', 'Lee']"
      ]
     },
     "execution_count": 51,
     "metadata": {},
     "output_type": "execute_result"
    }
   ],
   "source": [
    "# TODO\n",
    "name_list = [\"Kim kildong\", \"Lee jeawoo\",\n",
    "             \"Park sangjin\", \"Kim kilsoo\", \"Lee sungsim\"]\n",
    "list(map(lambda name: name.split(\" \")[0], name_list))"
   ]
  },
  {
   "cell_type": "markdown",
   "metadata": {
    "slideshow": {
     "slide_type": "skip"
    }
   },
   "source": [
    "##### Quiz 2\n",
    "- 1~10까지의 숫자 리스트에서 홀수는 odd 짝수는 even을 출력하고 key, value 형태의 dictionary 데이터 타입으로 출력하는 코드를 작성 하세요.\n",
    "```\n",
    "{1: 'odd', 2: 'even', 3: 'odd', 4: 'even', 5: 'odd', 6: 'even', 7: 'odd', 8: 'even', 9: 'odd', 10: 'even'}\n",
    "```"
   ]
  },
  {
   "cell_type": "code",
   "execution_count": 52,
   "metadata": {
    "slideshow": {
     "slide_type": "skip"
    }
   },
   "outputs": [
    {
     "data": {
      "text/plain": [
       "{1: 'odd',\n",
       " 2: 'even',\n",
       " 3: 'odd',\n",
       " 4: 'even',\n",
       " 5: 'odd',\n",
       " 6: 'even',\n",
       " 7: 'odd',\n",
       " 8: 'even',\n",
       " 9: 'odd',\n",
       " 10: 'even'}"
      ]
     },
     "execution_count": 52,
     "metadata": {},
     "output_type": "execute_result"
    }
   ],
   "source": [
    "# TODO\n",
    "ls = range(1, 11)\n",
    "dict(map(lambda number: (number, \"odd\") if number % 2 else (number, \"even\"), ls))"
   ]
  },
  {
   "cell_type": "markdown",
   "metadata": {
    "slideshow": {
     "slide_type": "skip"
    }
   },
   "source": [
    "##### Quiz 3\n",
    "- map 함수를 map_func 함수의 이름으로 구현하세요.\n",
    "- 리스트의 데이터를 아래의 예제와 같이 더하는 함수를 만드는데 따로 함수를 선언해서 사용하지 말고 map의 첫번째 파라미터에 lambda 함수로 구현하세요.\n",
    "\n",
    "```\n",
    "ls1 = [1,2,3,4]\n",
    "ls2 = [5,6,7]\n",
    "ls3 = [9,10,11,12]\n",
    "\n",
    "result = [15, 18, 21]\n",
    "```"
   ]
  },
  {
   "cell_type": "code",
   "execution_count": 3,
   "metadata": {
    "scrolled": false,
    "slideshow": {
     "slide_type": "skip"
    }
   },
   "outputs": [
    {
     "name": "stdout",
     "output_type": "stream",
     "text": [
      "(1, 5, 9)\n",
      "(2, 6, 10)\n",
      "(3, 7, 11)\n"
     ]
    },
    {
     "data": {
      "text/plain": [
       "[15, 18, 21]"
      ]
     },
     "execution_count": 3,
     "metadata": {},
     "output_type": "execute_result"
    }
   ],
   "source": [
    "ls1 = [1, 2, 3, 4]\n",
    "ls2 = [5, 6, 7]\n",
    "ls3 = [9, 10, 11, 12]\n",
    "\n",
    "def map_func(func, *args):\n",
    "\n",
    "    for datas in zip(*args):\n",
    "        print(datas)\n",
    "        \n",
    "    return [func(datas) for datas in zip(*args)]\n",
    "\n",
    "# TODO\n",
    "result = map_func(lambda args: sum(args), ls1, ls2, ls3)\n",
    "\n",
    "result  # [15, 18, 21]"
   ]
  },
  {
   "cell_type": "markdown",
   "metadata": {
    "slideshow": {
     "slide_type": "slide"
    }
   },
   "source": [
    "### 9.2 Filter\n",
    "리스트 데이터에서 조건에 맞는 value 데이터만 남기는 Filter의 기능을 하는 함수입니다. Filter에 사용되는 함수는 bool 데이터 타입을 리턴 값으로 사용합니다. Filter에 사용되는 함수의 리턴 값이 True이면 값이 남아 있고 False이면 값을 제거 합니다.\n",
    "사용은 `filter( <function>, <list>)`와 같이 사용하며 결과는 리스트를 리턴 합니다."
   ]
  },
  {
   "cell_type": "markdown",
   "metadata": {},
   "source": [
    "리스트에서 짝수 데이터만 가져오는 코드입니다."
   ]
  },
  {
   "cell_type": "code",
   "execution_count": 54,
   "metadata": {},
   "outputs": [
    {
     "name": "stdout",
     "output_type": "stream",
     "text": [
      "[0, 1, 2, 3, 4, 5, 6, 7, 8, 9]\n"
     ]
    },
    {
     "data": {
      "text/plain": [
       "[0, 2, 4, 6, 8]"
      ]
     },
     "execution_count": 54,
     "metadata": {},
     "output_type": "execute_result"
    }
   ],
   "source": [
    "def get_even(number_list):\n",
    "    result = []\n",
    "    for number in number_list:\n",
    "        if not number % 2:\n",
    "            result.append(number)\n",
    "    return result\n",
    "\n",
    "\n",
    "number_list = list(range(10))\n",
    "\n",
    "print(number_list)\n",
    "\n",
    "get_even(number_list)"
   ]
  },
  {
   "cell_type": "markdown",
   "metadata": {
    "slideshow": {
     "slide_type": "slide"
    }
   },
   "source": [
    "Filter를 사용한 리스트에서 짝수 데이터만 가져오는 코드 입니다."
   ]
  },
  {
   "cell_type": "code",
   "execution_count": 55,
   "metadata": {},
   "outputs": [
    {
     "name": "stdout",
     "output_type": "stream",
     "text": [
      "[0, 1, 2, 3, 4, 5, 6, 7, 8, 9]\n"
     ]
    },
    {
     "data": {
      "text/plain": [
       "[0, 2, 4, 6, 8]"
      ]
     },
     "execution_count": 55,
     "metadata": {},
     "output_type": "execute_result"
    }
   ],
   "source": [
    "def even(number):\n",
    "    return number % 2 == 0\n",
    "\n",
    "\n",
    "number_list = list(range(10))\n",
    "\n",
    "print(number_list)\n",
    "\n",
    "list(filter(even, number_list))"
   ]
  },
  {
   "cell_type": "markdown",
   "metadata": {
    "slideshow": {
     "slide_type": "slide"
    }
   },
   "source": [
    "help 명령을 사용하여 map과 filter의 docstring을 보면 아래와 같이 들어가는 아규먼트가 다른것을 확인 할수 있습니다. map은 여러개의 리스트가 아규먼트로 사용될수 있지만 filter는 하나의 리스트만 사용가능합니다.\n",
    "```\n",
    "map(func, *iterables) --> map object\n",
    "filter(function or None, iterable) --> filter object\n",
    "```"
   ]
  },
  {
   "cell_type": "code",
   "execution_count": 56,
   "metadata": {
    "slideshow": {
     "slide_type": "slide"
    }
   },
   "outputs": [
    {
     "name": "stdout",
     "output_type": "stream",
     "text": [
      "Help on class map in module builtins:\n",
      "\n",
      "class map(object)\n",
      " |  map(func, *iterables) --> map object\n",
      " |  \n",
      " |  Make an iterator that computes the function using arguments from\n",
      " |  each of the iterables.  Stops when the shortest iterable is exhausted.\n",
      " |  \n",
      " |  Methods defined here:\n",
      " |  \n",
      " |  __getattribute__(self, name, /)\n",
      " |      Return getattr(self, name).\n",
      " |  \n",
      " |  __iter__(self, /)\n",
      " |      Implement iter(self).\n",
      " |  \n",
      " |  __next__(self, /)\n",
      " |      Implement next(self).\n",
      " |  \n",
      " |  __reduce__(...)\n",
      " |      Return state information for pickling.\n",
      " |  \n",
      " |  ----------------------------------------------------------------------\n",
      " |  Static methods defined here:\n",
      " |  \n",
      " |  __new__(*args, **kwargs) from builtins.type\n",
      " |      Create and return a new object.  See help(type) for accurate signature.\n",
      "\n"
     ]
    }
   ],
   "source": [
    "help(map)"
   ]
  },
  {
   "cell_type": "code",
   "execution_count": 57,
   "metadata": {
    "slideshow": {
     "slide_type": "slide"
    }
   },
   "outputs": [
    {
     "name": "stdout",
     "output_type": "stream",
     "text": [
      "Help on class filter in module builtins:\n",
      "\n",
      "class filter(object)\n",
      " |  filter(function or None, iterable) --> filter object\n",
      " |  \n",
      " |  Return an iterator yielding those items of iterable for which function(item)\n",
      " |  is true. If function is None, return the items that are true.\n",
      " |  \n",
      " |  Methods defined here:\n",
      " |  \n",
      " |  __getattribute__(self, name, /)\n",
      " |      Return getattr(self, name).\n",
      " |  \n",
      " |  __iter__(self, /)\n",
      " |      Implement iter(self).\n",
      " |  \n",
      " |  __next__(self, /)\n",
      " |      Implement next(self).\n",
      " |  \n",
      " |  __reduce__(...)\n",
      " |      Return state information for pickling.\n",
      " |  \n",
      " |  ----------------------------------------------------------------------\n",
      " |  Static methods defined here:\n",
      " |  \n",
      " |  __new__(*args, **kwargs) from builtins.type\n",
      " |      Create and return a new object.  See help(type) for accurate signature.\n",
      "\n"
     ]
    }
   ],
   "source": [
    "help(filter)"
   ]
  },
  {
   "cell_type": "markdown",
   "metadata": {
    "slideshow": {
     "slide_type": "skip"
    }
   },
   "source": [
    "##### Quiz 4\n",
    "- map을 이용하여 리스트에 있는 성의 가장 앞 문자를 대문자로 수정하고, filter를 사용하여 사람 이름에서 성이 Lee인 사람의 이름만 결과로 출력하는 코드 작성하세요.\n",
    "```\n",
    "name_list = [\"Kim kildong\", \"lee jeawoo\", \"Park sangjin\", \"Kim kilsoo\", \"Lee sungsim\"]\n",
    "result = [\"lee jeawoo\", \"Lee sungsim\"]\n",
    "```"
   ]
  },
  {
   "cell_type": "code",
   "execution_count": 58,
   "metadata": {
    "slideshow": {
     "slide_type": "skip"
    }
   },
   "outputs": [
    {
     "data": {
      "text/plain": [
       "['Lee jeawoo', 'Lee sungsim']"
      ]
     },
     "execution_count": 58,
     "metadata": {},
     "output_type": "execute_result"
    }
   ],
   "source": [
    "name_list = [\"Kim kildong\", \"lee jeawoo\",\n",
    "             \"Park sangjin\", \"Kim kilsoo\", \"Lee sungsim\"]\n",
    "family_name = \"Lee\"\n",
    "\n",
    "# TODO - map, filter\n",
    "# map - 사람성의 가장 앞글자를 대문자로 만드는 코드를 작성\n",
    "# filter - Lee 성을 필터링\n",
    "name_list = list(map(lambda name: name[0].upper() + name[1:], name_list))\n",
    "result = list(filter(lambda name: name.split(\" \")\n",
    "                     [0] == family_name, name_list))\n",
    "\n",
    "result"
   ]
  },
  {
   "cell_type": "markdown",
   "metadata": {
    "slideshow": {
     "slide_type": "skip"
    }
   },
   "source": [
    "##### Quiz 5\n",
    "- filter 함수를 구현하여 1 ~ 10까지의 숫자가 있는 리스트에서 홀수만 필터링하여 출력하는 코드를 작성하세요.\n",
    "```\n",
    "ls = range(1,11)\n",
    "result = [1, 3, 5, 7, 9]\n",
    "```"
   ]
  },
  {
   "cell_type": "code",
   "execution_count": 59,
   "metadata": {
    "slideshow": {
     "slide_type": "skip"
    }
   },
   "outputs": [
    {
     "data": {
      "text/plain": [
       "[1, 3, 5, 7, 9]"
      ]
     },
     "execution_count": 59,
     "metadata": {},
     "output_type": "execute_result"
    }
   ],
   "source": [
    "ls = range(1, 11)\n",
    "\n",
    "# TODO\n",
    "\n",
    "\n",
    "def filter_func(func, data_list):\n",
    "    result = []\n",
    "    for data in data_list:\n",
    "        if func(data):\n",
    "            result.append(data)\n",
    "    return result\n",
    "\n",
    "\n",
    "# TODO\n",
    "list(filter_func(lambda number: number % 2, ls))"
   ]
  },
  {
   "cell_type": "markdown",
   "metadata": {
    "slideshow": {
     "slide_type": "slide"
    }
   },
   "source": [
    "### 9.3 Reduce\n",
    "리스트 데이터를 처음 부터 순서대로 특정 함수로 실행하여 결과를 누적시켜주는 함수입니다.\n",
    "사용은 `reduce( <function>, <list>)`와 같이 사용하며 결과는 하나의 값으로 리턴 됩니다."
   ]
  },
  {
   "cell_type": "code",
   "execution_count": 60,
   "metadata": {},
   "outputs": [],
   "source": [
    "# functools 패키지에 reduce 모듈을 호출해야 사용이 가능합니다.\n",
    "from functools import reduce"
   ]
  },
  {
   "cell_type": "markdown",
   "metadata": {},
   "source": [
    "reduce를 사용하여 리스트의 숫자를 모두 더해주는 코드 입니다."
   ]
  },
  {
   "cell_type": "code",
   "execution_count": 61,
   "metadata": {},
   "outputs": [
    {
     "data": {
      "text/plain": [
       "15"
      ]
     },
     "execution_count": 61,
     "metadata": {},
     "output_type": "execute_result"
    }
   ],
   "source": [
    "ls = [3, 1, 5, 2, 4]\n",
    "\n",
    "reduce(lambda x, y: x + y, ls)"
   ]
  },
  {
   "cell_type": "markdown",
   "metadata": {
    "slideshow": {
     "slide_type": "slide"
    }
   },
   "source": [
    "reduce를 사용하여 가장 큰수를 구하는 코드 입니다."
   ]
  },
  {
   "cell_type": "code",
   "execution_count": 62,
   "metadata": {},
   "outputs": [
    {
     "data": {
      "text/plain": [
       "5"
      ]
     },
     "execution_count": 62,
     "metadata": {},
     "output_type": "execute_result"
    }
   ],
   "source": [
    "a = [3, 1, 5, 2, 4]\n",
    "\n",
    "reduce(lambda x, y: x if x > y else y, a)"
   ]
  },
  {
   "cell_type": "markdown",
   "metadata": {
    "slideshow": {
     "slide_type": "skip"
    }
   },
   "source": [
    "##### Quiz 6\n",
    "- reduce를 사용하여 사람의 이름 길이가 가장 긴 사람 1명을 출력하세요.\n",
    "```\n",
    "name_list = [\"Kim kildong\", \"Lee jeawoo\", \"Park sangjin\", \"Kim kilsoo\", \"Lee sungsim\"]\n",
    "```"
   ]
  },
  {
   "cell_type": "code",
   "execution_count": 63,
   "metadata": {
    "slideshow": {
     "slide_type": "skip"
    }
   },
   "outputs": [
    {
     "data": {
      "text/plain": [
       "'Park sangjin'"
      ]
     },
     "execution_count": 63,
     "metadata": {},
     "output_type": "execute_result"
    }
   ],
   "source": [
    "name_list = [\"Kim kildong\", \"Lee jeawoo\",\n",
    "             \"Park sangjin\", \"Kim kilsoo\", \"Lee sungsim\"]\n",
    "\n",
    "# TODO\n",
    "reduce(\n",
    "    lambda name1, name2: name1 if len(name1) > len(name2) else name2,\n",
    "    name_list,\n",
    ")"
   ]
  },
  {
   "cell_type": "markdown",
   "metadata": {
    "slideshow": {
     "slide_type": "skip"
    }
   },
   "source": [
    "##### Quiz 7\n",
    "- reduce 함수를 직접 구현하세요.\n",
    "\n",
    "```\n",
    "ls = [1,2,3,4,5]\n",
    "\n",
    "def reduce_func():\n",
    "    # TODO\n",
    "\n",
    "reduce_func(lambda num1, num2: num1 + num2, ls)\n",
    "```"
   ]
  },
  {
   "cell_type": "code",
   "execution_count": 64,
   "metadata": {
    "slideshow": {
     "slide_type": "skip"
    }
   },
   "outputs": [
    {
     "data": {
      "text/plain": [
       "15"
      ]
     },
     "execution_count": 64,
     "metadata": {},
     "output_type": "execute_result"
    }
   ],
   "source": [
    "ls = [1, 2, 3, 4, 5]\n",
    "\n",
    "# TODO\n",
    "\n",
    "\n",
    "def reduce_func(func, ls):\n",
    "\n",
    "    result = ls[0]\n",
    "\n",
    "    del ls[0]  # [2, 3, 4, 5]\n",
    "\n",
    "    for data in ls:\n",
    "        result = func(result, data)\n",
    "\n",
    "    return result\n",
    "\n",
    "\n",
    "reduce_func(lambda num1, num2: num1 + num2, ls)"
   ]
  },
  {
   "cell_type": "markdown",
   "metadata": {
    "slideshow": {
     "slide_type": "slide"
    }
   },
   "source": [
    "## 10. Decorlator\n",
    "코드를 바꾸지 않고 함수의 기능을 추가하거나 수정 싶을때 사용합니다. decorlator를 사용하여 공통되는 코드를 따로 묶어서 사용할수 있습니다. `*args`와 `**kwargs`를 이용하여 내부함수와 내부 인자로 사용합니다.\n",
    "\n",
    "예를 들어 아래와 같은 함수를 만들때 code_1, code_3은 공통적인 코드로 공통적인 코드부분을 묶고 싶을때 사용할수 있습니다.\n",
    "\n",
    "```\n",
    "def A():\n",
    "    code_1\n",
    "    code_2\n",
    "    code_3\n",
    "\n",
    "def B():\n",
    "    code_1\n",
    "    code_4\n",
    "    code_3\n",
    "```"
   ]
  },
  {
   "cell_type": "markdown",
   "metadata": {
    "slideshow": {
     "slide_type": "slide"
    }
   },
   "source": [
    "C() 함수는 데코레이터로 사용하기 위해 만든 함수로 위의 코드에서 A()와 B() 함수의 공통 코드인 code_1, code_3을 가지고 있습니다.\n",
    "\n",
    "```\n",
    "def C(func):\n",
    "    def get_data():\n",
    "        print(\"data\")\n",
    "    def wrapper(*args, *kwargs)\n",
    "        code_1\n",
    "        get_data()\n",
    "        result = func(*args, *kwargs) \n",
    "        code_3\n",
    "        return result\n",
    "    return wrapper\n",
    "\n",
    "@C\n",
    "def A():\n",
    "    code_2\n",
    "\n",
    "@C\n",
    "def B():\n",
    "    code_4\n",
    "```"
   ]
  },
  {
   "cell_type": "markdown",
   "metadata": {
    "slideshow": {
     "slide_type": "slide"
    }
   },
   "source": [
    "위에서 A 코드인 숫자 데이터 두개를 받아서 두 수를 더해서 리턴하는 함수를 작성하였습니다."
   ]
  },
  {
   "cell_type": "code",
   "execution_count": 65,
   "metadata": {},
   "outputs": [],
   "source": [
    "# A\n",
    "def sum_int(a, b):\n",
    "    return a + b"
   ]
  },
  {
   "cell_type": "markdown",
   "metadata": {
    "slideshow": {
     "slide_type": "slide"
    }
   },
   "source": [
    "함수이름, 파라미터, 결과를 출력하고 결과를 리턴해주는 함수를 만들었습니다."
   ]
  },
  {
   "cell_type": "code",
   "execution_count": 66,
   "metadata": {},
   "outputs": [],
   "source": [
    "# C\n",
    "def disp_func(func):\n",
    "    def wrapper(*args, **kwargs):\n",
    "        print(\"running function :\", func.__name__)\n",
    "        print(\"args :\", args)\n",
    "        print(\"kwargs :\", kwargs)\n",
    "        result = func(*args, **kwargs)  # running func\n",
    "        print(\"result :\", result)\n",
    "        return result\n",
    "    return wrapper"
   ]
  },
  {
   "cell_type": "markdown",
   "metadata": {
    "slideshow": {
     "slide_type": "slide"
    }
   },
   "source": [
    "데코레이터를 안쓰고 수동으로 선언하려면 아래와 같이 사용해야 합니다. 사용할때마다 disp_func에 함수를 넣어서 사용할수 있습니다."
   ]
  },
  {
   "cell_type": "code",
   "execution_count": 67,
   "metadata": {},
   "outputs": [
    {
     "name": "stdout",
     "output_type": "stream",
     "text": [
      "running function : sum_int\n",
      "args : (5, 7)\n",
      "kwargs : {}\n",
      "result : 12\n"
     ]
    },
    {
     "data": {
      "text/plain": [
       "12"
      ]
     },
     "execution_count": 67,
     "metadata": {},
     "output_type": "execute_result"
    }
   ],
   "source": [
    "new_sum_int = disp_func(sum_int)\n",
    "new_sum_int(5, 7)"
   ]
  },
  {
   "cell_type": "markdown",
   "metadata": {
    "slideshow": {
     "slide_type": "slide"
    }
   },
   "source": [
    "하지만 sum_int 함수는 항상 데이터가 디스플레이 되게 하려면 아래 코드와 같이 데코레이터를 사용하는것이 더 심플합니다. sum_int() 함수를 호출할때 disp_func이 추가되어 실행 됩니다."
   ]
  },
  {
   "cell_type": "code",
   "execution_count": 68,
   "metadata": {},
   "outputs": [
    {
     "name": "stdout",
     "output_type": "stream",
     "text": [
      "running function : sum_int\n",
      "args : (5, 7)\n",
      "kwargs : {}\n",
      "result : 12\n"
     ]
    },
    {
     "data": {
      "text/plain": [
       "12"
      ]
     },
     "execution_count": 68,
     "metadata": {},
     "output_type": "execute_result"
    }
   ],
   "source": [
    "@disp_func\n",
    "def sum_int(a, b):\n",
    "    return a + b\n",
    "\n",
    "\n",
    "sum_int(5, 7)"
   ]
  },
  {
   "cell_type": "markdown",
   "metadata": {
    "slideshow": {
     "slide_type": "slide"
    }
   },
   "source": [
    "데코레이터를 사용하여 함수의 실행시간을 알려주는 timer 함수를 작성하는 코드 입니다."
   ]
  },
  {
   "cell_type": "code",
   "execution_count": 69,
   "metadata": {},
   "outputs": [],
   "source": [
    "import time\n",
    "\n",
    "\n",
    "def timer(func):\n",
    "    def wrapper(*args, **kwargs):  # 함수 정의부 packing\n",
    "        start_time = time.time()\n",
    "        result = func(*args, **kwargs)  # 함수 호출부 unpacking\n",
    "        end_time = time.time()\n",
    "        print(\"time : {time}\".format(time=end_time - start_time))\n",
    "        return result\n",
    "    return wrapper  # 새로운 함수를 만들고, 그 함수를 return 하는 함수 => decorator 함수"
   ]
  },
  {
   "cell_type": "markdown",
   "metadata": {
    "slideshow": {
     "slide_type": "slide"
    }
   },
   "source": [
    "위에서 만든 timer 데코레이터로 사용할 함수를 이용하여 세가지 방법의 리스트의 숫자를 더하는 함수가 실행되는데 걸리는 시간을 확인하는 코드 입니다."
   ]
  },
  {
   "cell_type": "code",
   "execution_count": 70,
   "metadata": {},
   "outputs": [],
   "source": [
    "@timer\n",
    "def sum_func_1(start_number, last_number):\n",
    "    data = range(start_number, last_number + 1)\n",
    "    return sum(data)\n",
    "\n",
    "\n",
    "@timer\n",
    "def sum_func_2(start_number, last_number):\n",
    "    result = 0\n",
    "    for num in range(start_number, last_number + 1):\n",
    "        result += num\n",
    "    return result\n",
    "\n",
    "\n",
    "def sum_func_3(start_number, last_number):\n",
    "    number_list = [num for num in range(start_number, last_number + 1)]\n",
    "    return sum(number_list)"
   ]
  },
  {
   "cell_type": "code",
   "execution_count": 71,
   "metadata": {},
   "outputs": [
    {
     "name": "stdout",
     "output_type": "stream",
     "text": [
      "time : 0.00023484230041503906\n"
     ]
    },
    {
     "data": {
      "text/plain": [
       "50005000"
      ]
     },
     "execution_count": 71,
     "metadata": {},
     "output_type": "execute_result"
    }
   ],
   "source": [
    "sum_func_1(1, 10000)"
   ]
  },
  {
   "cell_type": "markdown",
   "metadata": {
    "slideshow": {
     "slide_type": "slide"
    }
   },
   "source": [
    "데코레이터를 사용하여 관리자 계정이면 패스워드를 출력해주는 코드입니다."
   ]
  },
  {
   "cell_type": "code",
   "execution_count": 72,
   "metadata": {},
   "outputs": [],
   "source": [
    "admin_ls = [\"pdj\", \"dss\"]\n",
    "pw = \"asdfqwer\"\n",
    "\n",
    "\n",
    "def admin(func):\n",
    "    def wrapper(*args, **kwargs):\n",
    "        flag = False\n",
    "        result = func(*args, **kwargs)\n",
    "        if result in admin_ls:\n",
    "            print(\"allow permission!\")\n",
    "            print(\"password :\", pw)\n",
    "            flag = True\n",
    "        else:\n",
    "            print(\"you are not admin!\")\n",
    "        return flag\n",
    "    return wrapper"
   ]
  },
  {
   "cell_type": "code",
   "execution_count": 73,
   "metadata": {
    "slideshow": {
     "slide_type": "slide"
    }
   },
   "outputs": [],
   "source": [
    "@admin\n",
    "def input_id():\n",
    "    return input(\"insert id : \")"
   ]
  },
  {
   "cell_type": "code",
   "execution_count": 74,
   "metadata": {
    "scrolled": true
   },
   "outputs": [
    {
     "name": "stdout",
     "output_type": "stream",
     "text": [
      "insert id : pdj\n",
      "allow permission!\n",
      "password : asdfqwer\n"
     ]
    },
    {
     "data": {
      "text/plain": [
       "True"
      ]
     },
     "execution_count": 74,
     "metadata": {},
     "output_type": "execute_result"
    }
   ],
   "source": [
    "input_id()"
   ]
  },
  {
   "cell_type": "code",
   "execution_count": 75,
   "metadata": {},
   "outputs": [
    {
     "name": "stdout",
     "output_type": "stream",
     "text": [
      "insert id : test\n",
      "you are not admin!\n"
     ]
    },
    {
     "data": {
      "text/plain": [
       "False"
      ]
     },
     "execution_count": 75,
     "metadata": {},
     "output_type": "execute_result"
    }
   ],
   "source": [
    "input_id()"
   ]
  }
 ],
 "metadata": {
  "celltoolbar": "Slideshow",
  "kernelspec": {
   "display_name": "Python 3 (ipykernel)",
   "language": "python",
   "name": "python3"
  },
  "language_info": {
   "codemirror_mode": {
    "name": "ipython",
    "version": 3
   },
   "file_extension": ".py",
   "mimetype": "text/x-python",
   "name": "python",
   "nbconvert_exporter": "python",
   "pygments_lexer": "ipython3",
   "version": "3.7.6"
  },
  "toc": {
   "base_numbering": 1,
   "nav_menu": {},
   "number_sections": false,
   "sideBar": true,
   "skip_h1_title": false,
   "title_cell": "Table of Contents",
   "title_sidebar": "Contents",
   "toc_cell": false,
   "toc_position": {},
   "toc_section_display": true,
   "toc_window_display": false
  },
  "varInspector": {
   "cols": {
    "lenName": 16,
    "lenType": 16,
    "lenVar": 40
   },
   "kernels_config": {
    "python": {
     "delete_cmd_postfix": "",
     "delete_cmd_prefix": "del ",
     "library": "var_list.py",
     "varRefreshCmd": "print(var_dic_list())"
    },
    "r": {
     "delete_cmd_postfix": ") ",
     "delete_cmd_prefix": "rm(",
     "library": "var_list.r",
     "varRefreshCmd": "cat(var_dic_list()) "
    }
   },
   "types_to_exclude": [
    "module",
    "function",
    "builtin_function_or_method",
    "instance",
    "_Feature"
   ],
   "window_display": false
  }
 },
 "nbformat": 4,
 "nbformat_minor": 2
}
