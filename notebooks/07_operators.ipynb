{
 "cells": [
  {
   "cell_type": "markdown",
   "metadata": {
    "slideshow": {
     "slide_type": "slide"
    }
   },
   "source": [
    "## 연산자 : Operators\n",
    "\n",
    "1. 산술 연산자\n",
    "1. 비교 연산자\n",
    "1. 할당 연산자\n",
    "1. 비트 연산자\n",
    "1. 논리 연산자\n",
    "1. 멤버 연산자\n",
    "1. 식별 연산자"
   ]
  },
  {
   "cell_type": "markdown",
   "metadata": {
    "slideshow": {
     "slide_type": "slide"
    }
   },
   "source": [
    "### 1. 산술 연산자 (Arithmetic Operators) \n",
    "\n",
    "`+, -, *, /, //, %, **`"
   ]
  },
  {
   "cell_type": "code",
   "execution_count": 1,
   "metadata": {},
   "outputs": [
    {
     "name": "stdout",
     "output_type": "stream",
     "text": [
      "6\n",
      "-2\n",
      "8\n",
      "3.3333333333333335\n",
      "3\n",
      "1\n",
      "81\n"
     ]
    }
   ],
   "source": [
    "print(2 + 4)\n",
    "print(2 - 4)\n",
    "print(2 * 4)\n",
    "print(10 / 3)\n",
    "print(10 // 3)  # 몫을 구함\n",
    "print(10 % 3)  # 나머지를 구함\n",
    "print(3 ** 4)  # 제곱"
   ]
  },
  {
   "cell_type": "markdown",
   "metadata": {
    "slideshow": {
     "slide_type": "slide"
    }
   },
   "source": [
    "부동 소수점 문제 : 10 진수를 2진수로 변환할때 발생하는 문제 (정확성은 16 ~ 17자리)\n",
    "\n",
    "- [부동소수점 표현 방법 영상](https://www.youtube.com/watch?v=8afbTaA-gOQ)"
   ]
  },
  {
   "cell_type": "code",
   "execution_count": 2,
   "metadata": {},
   "outputs": [
    {
     "data": {
      "text/plain": [
       "0.30000000000000004"
      ]
     },
     "execution_count": 2,
     "metadata": {},
     "output_type": "execute_result"
    }
   ],
   "source": [
    "0.1 + 0.2"
   ]
  },
  {
   "cell_type": "code",
   "execution_count": 3,
   "metadata": {},
   "outputs": [
    {
     "data": {
      "text/plain": [
       "False"
      ]
     },
     "execution_count": 3,
     "metadata": {},
     "output_type": "execute_result"
    }
   ],
   "source": [
    "(0.1 + 0.2) == 0.3"
   ]
  },
  {
   "cell_type": "markdown",
   "metadata": {
    "slideshow": {
     "slide_type": "slide"
    }
   },
   "source": [
    "해결 방법 1 : 반올림"
   ]
  },
  {
   "cell_type": "code",
   "execution_count": 4,
   "metadata": {},
   "outputs": [
    {
     "data": {
      "text/plain": [
       "0.3"
      ]
     },
     "execution_count": 4,
     "metadata": {},
     "output_type": "execute_result"
    }
   ],
   "source": [
    "round(0.1 + 0.2, 1)"
   ]
  },
  {
   "cell_type": "markdown",
   "metadata": {
    "slideshow": {
     "slide_type": "-"
    }
   },
   "source": [
    "해결 방법 2: 고정 소수점으로 표현"
   ]
  },
  {
   "cell_type": "code",
   "execution_count": 5,
   "metadata": {},
   "outputs": [
    {
     "data": {
      "text/plain": [
       "0.3"
      ]
     },
     "execution_count": 5,
     "metadata": {},
     "output_type": "execute_result"
    }
   ],
   "source": [
    "from decimal import Decimal\n",
    "float(Decimal('0.1') + Decimal('0.2'))"
   ]
  },
  {
   "cell_type": "markdown",
   "metadata": {
    "slideshow": {
     "slide_type": "slide"
    }
   },
   "source": [
    "### Quiz 1\n",
    "- 아래의 데이터의 총점과 평균을 구하세요.\n",
    "\n",
    "```\n",
    "data = { \"korean\": 96.3 , \"english\": 78.4, \"science\": 87.2, \"math\": 92.1 }\n",
    "```\n",
    "\n",
    "- sum 함수와 len 함수를 이용\n",
    "- 아래의 세가지 방법으로 해결\n",
    "    - 소수점을 없애서 해결\n",
    "    - 반올림으로 해결 (round 함수)\n",
    "    - 고정 소수점으로 해결 (Decimal 이용)\n",
    "\n",
    "\n",
    "- sum 함수\n",
    "\n",
    "```\n",
    "ls = [1, 2, 3, 4, 5]\n",
    "result = sum(ls)\n",
    "result => 15\n",
    "```\n",
    "\n",
    "- 결과\n",
    "\n",
    "```\n",
    "total => 354.3\n",
    "avg => 88.575\n",
    "\n",
    "# 출력\n",
    "total: 354.3 , avg: 88.575\n",
    "```"
   ]
  },
  {
   "cell_type": "code",
   "execution_count": 6,
   "metadata": {
    "slideshow": {
     "slide_type": "skip"
    }
   },
   "outputs": [
    {
     "name": "stdout",
     "output_type": "stream",
     "text": [
      "total: 354.3 , avg: 88.575\n"
     ]
    }
   ],
   "source": [
    "# 소수점을 없애고 해결\n",
    "data = {\"korean\": 96.3, \"english\": 78.4, \"science\": 87.2, \"math\": 92.4}\n",
    "total = 0\n",
    "total = total + list(data.values())[0] * 10\n",
    "total = total + list(data.values())[1] * 10\n",
    "total = total + list(data.values())[2] * 10\n",
    "total = total + list(data.values())[3] * 10\n",
    "total = total / 10\n",
    "avg = total / len(data)\n",
    "print(\"total:\", total, \", avg:\", avg)"
   ]
  },
  {
   "cell_type": "code",
   "execution_count": 7,
   "metadata": {
    "slideshow": {
     "slide_type": "skip"
    }
   },
   "outputs": [
    {
     "name": "stdout",
     "output_type": "stream",
     "text": [
      "total: 354.3 , avg: 88.575\n"
     ]
    }
   ],
   "source": [
    "# 반올림으로 해결\n",
    "data = {\"korean\": 96.3, \"english\": 78.4, \"science\": 87.2, \"math\": 92.4}\n",
    "total = round(sum(data.values()), 1)\n",
    "avg = total / len(data)\n",
    "print(\"total:\", total, \", avg:\", avg)"
   ]
  },
  {
   "cell_type": "code",
   "execution_count": 8,
   "metadata": {
    "slideshow": {
     "slide_type": "skip"
    }
   },
   "outputs": [
    {
     "name": "stdout",
     "output_type": "stream",
     "text": [
      "total: 354.3 , avg: 88.575\n"
     ]
    }
   ],
   "source": [
    "# 고정 소수점으로 해결\n",
    "from decimal import Decimal\n",
    "total = Decimal(str(list(data.values())[0]))\n",
    "total = total + Decimal(str(list(data.values())[1]))\n",
    "total = total + Decimal(str(list(data.values())[2]))\n",
    "total = total + Decimal(str(list(data.values())[3]))\n",
    "total = float(total)\n",
    "avg = total / len(data)\n",
    "print(\"total:\", total, \", avg:\", avg)"
   ]
  },
  {
   "cell_type": "markdown",
   "metadata": {
    "slideshow": {
     "slide_type": "slide"
    }
   },
   "source": [
    "### 2. 비교 연산자 (Comparison Operators)\n",
    "\n",
    "- `==, !=, >, <, >=, <=`"
   ]
  },
  {
   "cell_type": "code",
   "execution_count": 9,
   "metadata": {},
   "outputs": [
    {
     "name": "stdout",
     "output_type": "stream",
     "text": [
      "False\n",
      "True\n",
      "False\n",
      "True\n",
      "False\n",
      "True\n"
     ]
    }
   ],
   "source": [
    "a, b = 10, 20\n",
    "\n",
    "print(a == b)\n",
    "print(a != b)\n",
    "print(a > b)\n",
    "print(a < b)\n",
    "print(a >= b)\n",
    "print(a <= b)"
   ]
  },
  {
   "cell_type": "markdown",
   "metadata": {
    "slideshow": {
     "slide_type": "slide"
    }
   },
   "source": [
    "### Quiz 2\n",
    "- 산술연산과 비교연산을 사용하여 변수 data가 홀수 일때 True를 출력하는 코드를 작성하세요.\n",
    "```\n",
    "data = 3 # True\n",
    "data = 4 # False\n",
    "```"
   ]
  },
  {
   "cell_type": "code",
   "execution_count": 10,
   "metadata": {
    "slideshow": {
     "slide_type": "skip"
    }
   },
   "outputs": [
    {
     "name": "stdout",
     "output_type": "stream",
     "text": [
      "True\n",
      "False\n"
     ]
    }
   ],
   "source": [
    "data = 3\n",
    "result = data % 2 == 1\n",
    "print(result)  # True\n",
    "\n",
    "data = 4\n",
    "result = data % 2 == 1\n",
    "print(result)  # False"
   ]
  },
  {
   "cell_type": "markdown",
   "metadata": {
    "slideshow": {
     "slide_type": "slide"
    }
   },
   "source": [
    "### 3. 할당 연산자 (Assignment Operators)\n",
    "\n",
    "- `=, +=, -=, *=, /=, %=, //=, **=`\n",
    "- 대입 연산자와 산술 연산자를 함께 사용하여 이전에 있던 변수의 값에서 추가로 계산한 결과를 저장할때 사용합니다."
   ]
  },
  {
   "cell_type": "code",
   "execution_count": 11,
   "metadata": {
    "slideshow": {
     "slide_type": "slide"
    }
   },
   "outputs": [
    {
     "name": "stdout",
     "output_type": "stream",
     "text": [
      "5\n"
     ]
    }
   ],
   "source": [
    "data = 5\n",
    "print(data)"
   ]
  },
  {
   "cell_type": "code",
   "execution_count": 12,
   "metadata": {},
   "outputs": [
    {
     "name": "stdout",
     "output_type": "stream",
     "text": [
      "15\n"
     ]
    }
   ],
   "source": [
    "data += 10\n",
    "print(data)"
   ]
  },
  {
   "cell_type": "code",
   "execution_count": 13,
   "metadata": {},
   "outputs": [
    {
     "name": "stdout",
     "output_type": "stream",
     "text": [
      "10\n"
     ]
    }
   ],
   "source": [
    "data -= 5\n",
    "print(data)"
   ]
  },
  {
   "cell_type": "code",
   "execution_count": 14,
   "metadata": {},
   "outputs": [
    {
     "name": "stdout",
     "output_type": "stream",
     "text": [
      "100\n"
     ]
    }
   ],
   "source": [
    "data *= 10\n",
    "print(data)"
   ]
  },
  {
   "cell_type": "code",
   "execution_count": 15,
   "metadata": {},
   "outputs": [
    {
     "name": "stdout",
     "output_type": "stream",
     "text": [
      "20.0\n"
     ]
    }
   ],
   "source": [
    "data /= 5\n",
    "print(data)"
   ]
  },
  {
   "cell_type": "code",
   "execution_count": 16,
   "metadata": {
    "slideshow": {
     "slide_type": "slide"
    }
   },
   "outputs": [
    {
     "name": "stdout",
     "output_type": "stream",
     "text": [
      "4.0\n"
     ]
    }
   ],
   "source": [
    "data %= 8\n",
    "print(data)"
   ]
  },
  {
   "cell_type": "code",
   "execution_count": 17,
   "metadata": {},
   "outputs": [
    {
     "name": "stdout",
     "output_type": "stream",
     "text": [
      "2.0\n"
     ]
    }
   ],
   "source": [
    "data //= 2\n",
    "print(data)"
   ]
  },
  {
   "cell_type": "code",
   "execution_count": 18,
   "metadata": {},
   "outputs": [
    {
     "name": "stdout",
     "output_type": "stream",
     "text": [
      "8.0\n"
     ]
    }
   ],
   "source": [
    "data **= 3\n",
    "print(data)"
   ]
  },
  {
   "cell_type": "markdown",
   "metadata": {
    "slideshow": {
     "slide_type": "slide"
    }
   },
   "source": [
    "### Quiz 3\n",
    "- 할당 연산자를 이용하여 아래의 리스트에 들어있는 수의 평균을 구하세요.\n",
    "```\n",
    "ls = [87, 76, 98, 69]\n",
    "```\n",
    "- 결과\n",
    "```\n",
    "result => 82.5\n",
    "```"
   ]
  },
  {
   "cell_type": "code",
   "execution_count": 19,
   "metadata": {
    "slideshow": {
     "slide_type": "skip"
    }
   },
   "outputs": [
    {
     "data": {
      "text/plain": [
       "82.5"
      ]
     },
     "execution_count": 19,
     "metadata": {},
     "output_type": "execute_result"
    }
   ],
   "source": [
    "ls = [87, 76, 98, 69]\n",
    "result = ls[0]\n",
    "result += ls[1]\n",
    "result += ls[2]\n",
    "result += ls[3]\n",
    "result /= len(ls)\n",
    "result"
   ]
  },
  {
   "cell_type": "markdown",
   "metadata": {
    "slideshow": {
     "slide_type": "slide"
    }
   },
   "source": [
    "### 4. 비트 연산자 (Bitwise Operators) \n",
    "\n",
    "- `&, |, ^, ~, <<, >>`\n",
    "- bit 단위의 연산을 할때 사용합니다."
   ]
  },
  {
   "cell_type": "code",
   "execution_count": 20,
   "metadata": {},
   "outputs": [],
   "source": [
    "data1 = 3  # 011\n",
    "data2 = 5  # 101"
   ]
  },
  {
   "cell_type": "code",
   "execution_count": 21,
   "metadata": {},
   "outputs": [
    {
     "name": "stdout",
     "output_type": "stream",
     "text": [
      "1 0b1\n",
      "7 0b111\n"
     ]
    }
   ],
   "source": [
    "print(data1 & data2, bin(data1 & data2))\n",
    "print(data1 | data2, bin(data1 | data2))"
   ]
  },
  {
   "cell_type": "markdown",
   "metadata": {
    "slideshow": {
     "slide_type": "slide"
    }
   },
   "source": [
    "XOR 연산\n",
    "- 다르면 1, 같으면 0"
   ]
  },
  {
   "cell_type": "code",
   "execution_count": 22,
   "metadata": {},
   "outputs": [
    {
     "name": "stdout",
     "output_type": "stream",
     "text": [
      "6 0b110\n"
     ]
    }
   ],
   "source": [
    "data1 = 3  # 011\n",
    "data2 = 5  # 101\n",
    "print(data1 ^ data2, bin(data1 ^ data2))"
   ]
  },
  {
   "cell_type": "markdown",
   "metadata": {
    "slideshow": {
     "slide_type": "slide"
    }
   },
   "source": [
    "NOT 연산\n",
    "- 2의 보수로 만든 후 부호비트를 바꿔줌 (1을 더하고 부호비트를 바꿔줌)\n",
    "- 보수 연산 : 3의 보수는 -4\n",
    "- 보수 연산 : 5의 보수는 -6"
   ]
  },
  {
   "cell_type": "markdown",
   "metadata": {
    "slideshow": {
     "slide_type": "slide"
    }
   },
   "source": [
    "- 1의 보수의 음수 표현\n",
    "    - 2진수에서 1은 0으로 0은 1로 바꾼수\n",
    "    - +0과 -0이 두개\n",
    "- 2의 보수의 음수 표현\n",
    "    - 1의 보수에서 +1을 함\n",
    "    - 0이 두개 되는것을 피함"
   ]
  },
  {
   "cell_type": "markdown",
   "metadata": {
    "slideshow": {
     "slide_type": "-"
    }
   },
   "source": [
    "- 3bit 예시\n",
    "- 가장 앞은 부호 비트\n",
    "- 2의 보수는 음수를 하나더 표현할수 있습니다.\n",
    "\n",
    "| 10 | 2진수 | 1보수 | 2보수 |\n",
    "|----|-------|-------|-------|\n",
    "| 3  |011    |011    |011    |\n",
    "| 2  |010    |010    |010    |\n",
    "| 1  |001    |001    |001    |\n",
    "|+0  |000    |000    |000    |\n",
    "|-0  |000    |100    |000    |\n",
    "|-1  |101    |110    |111    |\n",
    "|-2  |110    |101    |110    |\n",
    "|-3  |111    |100    |101    |\n",
    "|-4  |x      |x      |100    |\n",
    "\n",
    "\n",
    "- 2 - 3\n",
    "    - 2(2의 보수) + -3(2의 보수) = -1(2의 보수)\n",
    "    - 010(2) + 101(-3) = 111(-1)"
   ]
  },
  {
   "cell_type": "markdown",
   "metadata": {
    "slideshow": {
     "slide_type": "slide"
    }
   },
   "source": [
    "not 연산 진행 과정"
   ]
  },
  {
   "cell_type": "code",
   "execution_count": 23,
   "metadata": {
    "slideshow": {
     "slide_type": "-"
    }
   },
   "outputs": [
    {
     "name": "stdout",
     "output_type": "stream",
     "text": [
      "3 0b11\n",
      "-4 -0b100\n",
      "\n",
      "5 0b101\n",
      "-6 -0b110\n"
     ]
    }
   ],
   "source": [
    "# data1 = 3  # 0(양수)011 -> 100(1더해줌) -> 1(음수)100 -> -4\n",
    "# data2 = 5  # 0(양수)101 -> 110(1더해줌) -> 1(음수)110 -> -6\n",
    "print(data1, bin(data1))\n",
    "print(~data1, bin(~data1))\n",
    "print()\n",
    "print(data2, bin(data2))\n",
    "print(~data2, bin(~data2))"
   ]
  },
  {
   "cell_type": "code",
   "execution_count": 24,
   "metadata": {
    "slideshow": {
     "slide_type": "-"
    }
   },
   "outputs": [
    {
     "name": "stdout",
     "output_type": "stream",
     "text": [
      "-2 -0b10\n",
      "1 0b1\n"
     ]
    }
   ],
   "source": [
    "# -2 에서 1을 더해준 후 부호를 바꿔줌 1010(-2) -> 1001(-1) -> 0001(1)\n",
    "data3 = -2\n",
    "print(data3, bin(data3))\n",
    "print(~data3, bin(~data3))"
   ]
  },
  {
   "cell_type": "markdown",
   "metadata": {
    "slideshow": {
     "slide_type": "slide"
    }
   },
   "source": [
    "shift 연산\n",
    "- 왼쪽이나 오른쪽으로 비트단위로 이동시키고 빈곳은 0으로 채워집니다."
   ]
  },
  {
   "cell_type": "code",
   "execution_count": 25,
   "metadata": {},
   "outputs": [
    {
     "name": "stdout",
     "output_type": "stream",
     "text": [
      "12 0b1100\n",
      "2 0b10\n"
     ]
    }
   ],
   "source": [
    "# data1 = 3  # 011\n",
    "# data2 = 5  # 101\n",
    "print(data1 << 2, bin(data1 << 2))  # * 2**n\n",
    "print(data2 >> 1, bin(data2 >> 1))  # / 2**n"
   ]
  },
  {
   "cell_type": "markdown",
   "metadata": {
    "slideshow": {
     "slide_type": "slide"
    }
   },
   "source": [
    "### 5. 논리 연산자 (Logical Operators)\n",
    "\n",
    "- `and, or, not`"
   ]
  },
  {
   "cell_type": "code",
   "execution_count": 26,
   "metadata": {},
   "outputs": [
    {
     "name": "stdout",
     "output_type": "stream",
     "text": [
      "True\n",
      "False\n"
     ]
    }
   ],
   "source": [
    "# and (&) 둘다 True이면 True\n",
    "print(True and True)\n",
    "print(True and False)"
   ]
  },
  {
   "cell_type": "code",
   "execution_count": 27,
   "metadata": {},
   "outputs": [
    {
     "name": "stdout",
     "output_type": "stream",
     "text": [
      "True\n",
      "True\n"
     ]
    }
   ],
   "source": [
    "# or (|) 둘중 하나가 True이면 True\n",
    "print(True or True)\n",
    "print(True or False)"
   ]
  },
  {
   "cell_type": "code",
   "execution_count": 28,
   "metadata": {},
   "outputs": [
    {
     "name": "stdout",
     "output_type": "stream",
     "text": [
      "False\n",
      "True\n"
     ]
    }
   ],
   "source": [
    "# not True를 False로 False를 True로 변환\n",
    "print(not(True and True))\n",
    "print(not(True and False))"
   ]
  },
  {
   "cell_type": "markdown",
   "metadata": {
    "slideshow": {
     "slide_type": "slide"
    }
   },
   "source": [
    "### Quiz 4\n",
    "- 산술연산과 비교연산을 사용하여 변수 a가 3 또는 5의 배수일때 True를 출력하는 코드를 작성하세요.\n",
    "```\n",
    "a = 9 # True\n",
    "a = 7 # False\n",
    "a = 10 # True\n",
    "a = 15 # True\n",
    "```"
   ]
  },
  {
   "cell_type": "code",
   "execution_count": 29,
   "metadata": {
    "slideshow": {
     "slide_type": "skip"
    }
   },
   "outputs": [
    {
     "data": {
      "text/plain": [
       "True"
      ]
     },
     "execution_count": 29,
     "metadata": {},
     "output_type": "execute_result"
    }
   ],
   "source": [
    "data = 15\n",
    "(data % 3 == 0) or (data % 5 == 0)"
   ]
  },
  {
   "cell_type": "markdown",
   "metadata": {
    "slideshow": {
     "slide_type": "slide"
    }
   },
   "source": [
    "### Quiz 5\n",
    "- 변수 a, b가 있는데 둘다 10 이하(10포함)일경우 True를 출력하는 연산자를 만드시오.\n",
    "```\n",
    "a, b = 9, 8 # True\n",
    "a, b = 11, 12 # False\n",
    "a, b = 7, 15 # False\n",
    "```"
   ]
  },
  {
   "cell_type": "code",
   "execution_count": 30,
   "metadata": {
    "slideshow": {
     "slide_type": "skip"
    }
   },
   "outputs": [
    {
     "data": {
      "text/plain": [
       "False"
      ]
     },
     "execution_count": 30,
     "metadata": {},
     "output_type": "execute_result"
    }
   ],
   "source": [
    "# a, b = 9, 8 # True\n",
    "# a, b = 11, 12 # False\n",
    "a, b = 7, 15  # False\n",
    "(a <= 10) and (b <= 10)"
   ]
  },
  {
   "cell_type": "markdown",
   "metadata": {
    "slideshow": {
     "slide_type": "slide"
    }
   },
   "source": [
    "### Quiz 6\n",
    "- 변수 a, b, c중 a와 b는 홀수 c는 짝수일때 False를 출력하는 연산자를 만드시오.\n",
    "```\n",
    "a, b, c = 1, 3, 2 # False\n",
    "a, b, c = 4, 3, 2 # True\n",
    "a, b, c = 5, 3, 1 # True\n",
    "```"
   ]
  },
  {
   "cell_type": "code",
   "execution_count": 31,
   "metadata": {
    "slideshow": {
     "slide_type": "skip"
    }
   },
   "outputs": [
    {
     "data": {
      "text/plain": [
       "True"
      ]
     },
     "execution_count": 31,
     "metadata": {},
     "output_type": "execute_result"
    }
   ],
   "source": [
    "# a, b, c = 1, 3, 2 # False\n",
    "# a, b, c = 4, 3, 2 # True\n",
    "a, b, c = 5, 3, 1  # True\n",
    "not((a % 2 == 1) and (b % 2 == 1) and (c % 2 == 0))"
   ]
  },
  {
   "cell_type": "markdown",
   "metadata": {
    "slideshow": {
     "slide_type": "slide"
    }
   },
   "source": [
    "### 6. 멤버 연산자 (Membership Operators)\n",
    "- `in, not in`\n",
    "- collection 데이터에서 특정 데이터가 있는지 확인할때 사용합니다."
   ]
  },
  {
   "cell_type": "code",
   "execution_count": 32,
   "metadata": {},
   "outputs": [
    {
     "name": "stdout",
     "output_type": "stream",
     "text": [
      "True\n",
      "False\n",
      "False\n"
     ]
    }
   ],
   "source": [
    "data = [1, 2, 3, 4]\n",
    "print(1 in data)\n",
    "print(5 in data)\n",
    "print(1 not in data)"
   ]
  },
  {
   "cell_type": "markdown",
   "metadata": {
    "slideshow": {
     "slide_type": "slide"
    }
   },
   "source": [
    "- 딕셔너리 데이터는 기본적으로 key에서 검색합니다.\n",
    "- value를 확인하려면 values 함수를 사용합니다."
   ]
  },
  {
   "cell_type": "code",
   "execution_count": 33,
   "metadata": {},
   "outputs": [
    {
     "name": "stdout",
     "output_type": "stream",
     "text": [
      "True\n",
      "False\n",
      "False\n",
      "True\n"
     ]
    }
   ],
   "source": [
    "data = {1: \"one\", 2: \"two\", 3: \"three\"}\n",
    "print(3 in data)\n",
    "print(\"2\" in data)\n",
    "print(\"one\" in data)\n",
    "print(\"two\" in data.values())"
   ]
  },
  {
   "cell_type": "markdown",
   "metadata": {
    "slideshow": {
     "slide_type": "slide"
    }
   },
   "source": [
    "### Quiz 7\n",
    "\n",
    "- 1 ~ 10까지 랜덤한 숫자를 5개 만들어 리스트에 저장하고, 리스트 안에 5개 포함되어 있는지 멤버 연산자를 사용하여 확인하세요.\n",
    "    - ls 리스트 안에 정수 5가 포함되어 있으면 True를 출력\n",
    "    - ls 리스트 안에 정수 5가 포함되어 있지 않으면 False를 출력\n",
    "\n",
    "\n",
    "- random 함수 사용법\n",
    "\n",
    "```\n",
    "import random\n",
    "# result 변수안에 1~10까지 사이의 정수가 저장됨\n",
    "result = random.randint(1, 10)\n",
    "```"
   ]
  },
  {
   "cell_type": "code",
   "execution_count": 34,
   "metadata": {
    "slideshow": {
     "slide_type": "skip"
    }
   },
   "outputs": [
    {
     "name": "stdout",
     "output_type": "stream",
     "text": [
      "[10, 6, 7, 2, 7]\n"
     ]
    },
    {
     "data": {
      "text/plain": [
       "False"
      ]
     },
     "execution_count": 34,
     "metadata": {},
     "output_type": "execute_result"
    }
   ],
   "source": [
    "import random\n",
    "number = 5\n",
    "ls = []\n",
    "ls.append(random.randint(1, 10))\n",
    "ls.append(random.randint(1, 10))\n",
    "ls.append(random.randint(1, 10))\n",
    "ls.append(random.randint(1, 10))\n",
    "ls.append(random.randint(1, 10))\n",
    "print(ls)\n",
    "number in ls"
   ]
  },
  {
   "cell_type": "markdown",
   "metadata": {
    "slideshow": {
     "slide_type": "slide"
    }
   },
   "source": [
    "### 7. 식별 연산자 (Identity Operators)\n",
    "- `is, is not`\n",
    "- 기본적으로 주소값을 비교 합니다."
   ]
  },
  {
   "cell_type": "markdown",
   "metadata": {
    "slideshow": {
     "slide_type": "slide"
    }
   },
   "source": [
    "#### 7.1 숫자, 문자열, Boolean 데이터 타입의 식별\n",
    "- 숫자, 문자열, Boolean 데이터 타입인 경우에는 값을 비교합니다.\n",
    "- 정확히는 collection 데이터 타입이 아닌 기본 데이터 타입은 같은 값을 가진 변수는 같은 메모리를 참조 합니다.\n",
    "- immutable"
   ]
  },
  {
   "cell_type": "markdown",
   "metadata": {
    "slideshow": {
     "slide_type": "slide"
    }
   },
   "source": [
    "숫자 데이터 타입의 식별 연산자"
   ]
  },
  {
   "cell_type": "code",
   "execution_count": 35,
   "metadata": {
    "slideshow": {
     "slide_type": "-"
    }
   },
   "outputs": [
    {
     "name": "stdout",
     "output_type": "stream",
     "text": [
      "True\n",
      "4535657888 4535657888\n",
      "True\n",
      "False\n",
      "4535657888 4535657888\n",
      "4535657920 4535657888\n"
     ]
    }
   ],
   "source": [
    "data1 = 1\n",
    "data2 = data1\n",
    "print(data1 is data2)\n",
    "print(id(data1), id(data2))\n",
    "\n",
    "data1 = 1\n",
    "data2 = 1\n",
    "print(data1 is data2)\n",
    "print(data1 is not data2)\n",
    "print(id(data1), id(data2))\n",
    "\n",
    "# 값이 변경되면 주소 값이 달라집니다.\n",
    "data1 = 2\n",
    "print(id(data1), id(data2))"
   ]
  },
  {
   "cell_type": "markdown",
   "metadata": {
    "slideshow": {
     "slide_type": "slide"
    }
   },
   "source": [
    "문자열 데이터 타입의 식별 연산자"
   ]
  },
  {
   "cell_type": "code",
   "execution_count": 36,
   "metadata": {
    "slideshow": {
     "slide_type": "-"
    }
   },
   "outputs": [
    {
     "name": "stdout",
     "output_type": "stream",
     "text": [
      "True\n",
      "112256901448 112256901448\n",
      "True\n",
      "False\n",
      "112256901448 112256901448\n"
     ]
    }
   ],
   "source": [
    "data1 = \"dss\"\n",
    "data2 = data1\n",
    "print(data1 is data2)\n",
    "print(id(data1), id(data2))\n",
    "\n",
    "data1 = \"dss\"\n",
    "data2 = \"dss\"\n",
    "print(data1 is data2)\n",
    "print(data1 is not data2)\n",
    "print(id(data1), id(data2))"
   ]
  },
  {
   "cell_type": "markdown",
   "metadata": {
    "slideshow": {
     "slide_type": "slide"
    }
   },
   "source": [
    "Boolean 데이터 타입의 식별 연산자"
   ]
  },
  {
   "cell_type": "code",
   "execution_count": 37,
   "metadata": {
    "slideshow": {
     "slide_type": "-"
    }
   },
   "outputs": [
    {
     "name": "stdout",
     "output_type": "stream",
     "text": [
      "True\n",
      "4535254496 4535254496\n",
      "True\n",
      "False\n",
      "4535254496 4535254496\n"
     ]
    }
   ],
   "source": [
    "data1 = True\n",
    "data2 = data1\n",
    "print(data1 is data2)\n",
    "print(id(data1), id(data2))\n",
    "\n",
    "data1 = True\n",
    "data2 = True\n",
    "print(data1 is data2)\n",
    "print(data1 is not data2)\n",
    "print(id(data1), id(data2))"
   ]
  },
  {
   "cell_type": "markdown",
   "metadata": {
    "slideshow": {
     "slide_type": "slide"
    }
   },
   "source": [
    "#### 7.2 컬렉션 데이터 타입의 식별\n",
    "- 컬렉션 데이터 타입의 데이터의 경우에는 주소값을 비교 합니다.\n",
    "- 컬렉션 데이터 타입은 데이터 값이 같아도 다른 주소값을 가진 메모리를 참조 합니다.\n",
    "- mutable"
   ]
  },
  {
   "cell_type": "markdown",
   "metadata": {
    "slideshow": {
     "slide_type": "slide"
    }
   },
   "source": [
    "리스트 데이터 타입의 식별 연산자"
   ]
  },
  {
   "cell_type": "code",
   "execution_count": 38,
   "metadata": {
    "slideshow": {
     "slide_type": "-"
    }
   },
   "outputs": [
    {
     "name": "stdout",
     "output_type": "stream",
     "text": [
      "True\n",
      "112256840904 112256840904\n",
      "False\n",
      "112256881672 112256883720\n",
      "False\n",
      "112256698056 112256840904\n"
     ]
    }
   ],
   "source": [
    "data1 = [1, 2, 3]\n",
    "data2 = data1\n",
    "print(data1 is data2)\n",
    "print(id(data1), id(data2))\n",
    "\n",
    "data1 = [1, 2, 3]\n",
    "data2 = [1, 2, 3]\n",
    "print(data1 is data2)\n",
    "print(id(data1), id(data2))\n",
    "\n",
    "data1 = [1, 2, 3]\n",
    "data2 = data1.copy()\n",
    "print(data1 is data2)\n",
    "print(id(data1), id(data2))"
   ]
  },
  {
   "cell_type": "markdown",
   "metadata": {
    "slideshow": {
     "slide_type": "slide"
    }
   },
   "source": [
    "튜플 데이터 타입의 식별 연산자 : immutable"
   ]
  },
  {
   "cell_type": "code",
   "execution_count": 39,
   "metadata": {
    "slideshow": {
     "slide_type": "-"
    }
   },
   "outputs": [
    {
     "name": "stdout",
     "output_type": "stream",
     "text": [
      "True\n",
      "112256561296 112256561296\n",
      "False\n",
      "112255748136 112256957680\n"
     ]
    }
   ],
   "source": [
    "data1 = (1, 2, 3)\n",
    "data2 = data1\n",
    "print(data1 is data2)\n",
    "print(id(data1), id(data2))\n",
    "\n",
    "data1 = (1, 2, 3)\n",
    "data2 = (1, 2, 3)\n",
    "print(data1 is data2)\n",
    "print(id(data1), id(data2))\n",
    "\n",
    "# 튜플은 copy가 가 안됩니다.\n",
    "# data1 = (1, 2, 3)\n",
    "# data2 = data1.copy()\n",
    "# print(data1 is data2)\n",
    "# print(id(data1), id(data2))"
   ]
  },
  {
   "cell_type": "markdown",
   "metadata": {
    "slideshow": {
     "slide_type": "slide"
    }
   },
   "source": [
    "딕셔너리 데이터 타입의 식별 연산자"
   ]
  },
  {
   "cell_type": "code",
   "execution_count": 40,
   "metadata": {
    "slideshow": {
     "slide_type": "-"
    }
   },
   "outputs": [
    {
     "name": "stdout",
     "output_type": "stream",
     "text": [
      "True\n",
      "112257077536 112257077536\n",
      "False\n",
      "112257077608 112256957824\n",
      "False\n",
      "112257077752 112257077536\n"
     ]
    }
   ],
   "source": [
    "data1 = {\"a\": 1, \"b\": 2}\n",
    "data2 = data1\n",
    "print(data1 is data2)\n",
    "print(id(data1), id(data2))\n",
    "\n",
    "data1 = {\"a\": 1, \"b\": 2}\n",
    "data2 = {\"a\": 1, \"b\": 2}\n",
    "print(data1 is data2)\n",
    "print(id(data1), id(data2))\n",
    "\n",
    "data1 = {\"a\": 1, \"b\": 2}\n",
    "data2 = data1.copy()\n",
    "print(data1 is data2)\n",
    "print(id(data1), id(data2))"
   ]
  },
  {
   "cell_type": "markdown",
   "metadata": {
    "slideshow": {
     "slide_type": "slide"
    }
   },
   "source": [
    "집합 데이터 타입의 식별 연산자"
   ]
  },
  {
   "cell_type": "code",
   "execution_count": 41,
   "metadata": {
    "slideshow": {
     "slide_type": "-"
    }
   },
   "outputs": [
    {
     "name": "stdout",
     "output_type": "stream",
     "text": [
      "True\n",
      "112254897960 112254897960\n",
      "False\n",
      "112254897736 112257073224\n",
      "False\n",
      "112254897960 112254897736\n"
     ]
    }
   ],
   "source": [
    "data1 = set([1, 2, 3])\n",
    "data2 = data1\n",
    "print(data1 is data2)\n",
    "print(id(data1), id(data2))\n",
    "\n",
    "data1 = set([1, 2, 3])\n",
    "data2 = set([1, 2, 3])\n",
    "print(data1 is data2)\n",
    "print(id(data1), id(data2))\n",
    "\n",
    "data1 = set([1, 2, 3])\n",
    "data2 = data1.copy()\n",
    "print(data1 is data2)\n",
    "print(id(data1), id(data2))"
   ]
  },
  {
   "cell_type": "markdown",
   "metadata": {
    "slideshow": {
     "slide_type": "slide"
    }
   },
   "source": [
    "### Quiz 8\n",
    "- ls1 변수에 [1, 2, 3], ls2 변수에 [1, 2, 3]을 선언\n",
    "- ls1과 ls2 변수가 참조하고 있는 주소값을 비교 하세요.\n",
    "- ls1과 ls2 변수가 참조하고 있는 메모리 내의 값을 비교 하세요.\n",
    "```\n",
    "ls1 = [1, 2, 3]\n",
    "ls2 = [1, 2, 3]\n",
    "```\n"
   ]
  },
  {
   "cell_type": "code",
   "execution_count": 3,
   "metadata": {
    "slideshow": {
     "slide_type": "skip"
    }
   },
   "outputs": [
    {
     "data": {
      "text/plain": [
       "(False, False, True)"
      ]
     },
     "execution_count": 3,
     "metadata": {},
     "output_type": "execute_result"
    }
   ],
   "source": [
    "ls1 = [1, 2, 3]\n",
    "ls2 = [1, 2, 3]\n",
    "ls1 is ls2, id(ls1) == id(ls2), ls1 == ls2"
   ]
  },
  {
   "cell_type": "markdown",
   "metadata": {
    "slideshow": {
     "slide_type": "slide"
    }
   },
   "source": [
    "### Quiz 9\n",
    "- 리스트에서 `+` 연산자로 값을 추가하는 경우와 `extend` 함수를 이용하여 값을 추가하는 경우가 어떻게 다른지 확인해보세요.\n",
    "- ls2 변수에 ls1으로 부터 [4, 5] 가 추가된 값을 저장\n",
    "\n",
    "```\n",
    "ls1 = [1, 2, 3]\n",
    "\n",
    "# + 연산자 사용\n",
    "ls1 + [4, 5]\n",
    "\n",
    "# extend 함수 사용\n",
    "ls1.extend([4, 5])\n",
    "```\n",
    "\n",
    "- 결과\n",
    "\n",
    "```\n",
    "# + 연산자를 사용한 경우 ls1과 ls2의 주소값을 비교했을때 \n",
    "False\n",
    "\n",
    "# extend 연산자를 사용한 경우 ls1과 ls2의 주소값을 비교했을때 \n",
    "True\n",
    "```"
   ]
  },
  {
   "cell_type": "code",
   "execution_count": 43,
   "metadata": {
    "slideshow": {
     "slide_type": "skip"
    }
   },
   "outputs": [
    {
     "name": "stdout",
     "output_type": "stream",
     "text": [
      "112256977800\n",
      "112256914120\n",
      "[1, 2, 3] [1, 2, 3, 4, 5]\n",
      "False\n"
     ]
    }
   ],
   "source": [
    "ls1 = [1, 2, 3]\n",
    "print(id(ls))\n",
    "\n",
    "ls2 = ls1 + [4, 5]\n",
    "print(id(ls2))\n",
    "print(ls1, ls2)\n",
    "print(ls1 is ls2)"
   ]
  },
  {
   "cell_type": "code",
   "execution_count": 44,
   "metadata": {
    "slideshow": {
     "slide_type": "skip"
    }
   },
   "outputs": [
    {
     "name": "stdout",
     "output_type": "stream",
     "text": [
      "112256915976\n",
      "112256915976\n",
      "[1, 2, 3, 4, 5] [1, 2, 3, 4, 5]\n",
      "True\n"
     ]
    }
   ],
   "source": [
    "ls1 = [1, 2, 3]\n",
    "print(id(ls1))\n",
    "\n",
    "ls1.extend([4, 5])\n",
    "ls2 = ls1\n",
    "print(id(ls2))\n",
    "print(ls1, ls2)\n",
    "print(ls1 is ls2)"
   ]
  }
 ],
 "metadata": {
  "celltoolbar": "Slideshow",
  "kernelspec": {
   "display_name": "Python 3",
   "language": "python",
   "name": "python3"
  },
  "language_info": {
   "codemirror_mode": {
    "name": "ipython",
    "version": 3
   },
   "file_extension": ".py",
   "mimetype": "text/x-python",
   "name": "python",
   "nbconvert_exporter": "python",
   "pygments_lexer": "ipython3",
   "version": "3.7.6"
  },
  "varInspector": {
   "cols": {
    "lenName": 16,
    "lenType": 16,
    "lenVar": 40
   },
   "kernels_config": {
    "python": {
     "delete_cmd_postfix": "",
     "delete_cmd_prefix": "del ",
     "library": "var_list.py",
     "varRefreshCmd": "print(var_dic_list())"
    },
    "r": {
     "delete_cmd_postfix": ") ",
     "delete_cmd_prefix": "rm(",
     "library": "var_list.r",
     "varRefreshCmd": "cat(var_dic_list()) "
    }
   },
   "types_to_exclude": [
    "module",
    "function",
    "builtin_function_or_method",
    "instance",
    "_Feature"
   ],
   "window_display": false
  }
 },
 "nbformat": 4,
 "nbformat_minor": 2
}
