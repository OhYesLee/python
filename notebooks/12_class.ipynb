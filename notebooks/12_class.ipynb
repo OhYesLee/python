{
 "cells": [
  {
   "cell_type": "markdown",
   "metadata": {
    "slideshow": {
     "slide_type": "slide"
    }
   },
   "source": [
    "# Class\n",
    "\n",
    "1. 클래스의 구조\n",
    "1. Constructor - 생성자\n",
    "1. Inheritance - 상속\n",
    "1. 다중상속\n",
    "1. super\n",
    "1. getter&setter\n",
    "1. non public\n",
    "1. 클래스의 메서드 종류\n",
    "1. is a / has a\n",
    "1. magic(spacial) method "
   ]
  },
  {
   "cell_type": "markdown",
   "metadata": {
    "slideshow": {
     "slide_type": "slide"
    }
   },
   "source": [
    "클래스는 변수와 함수를 묶은 사용자 정의 데이터 타입이라고 할수 있습니다. 또한 클래스는 청사진, 설계도라고 할수 있으며 객체는 클래스로 만든 실제 만들어진 물건으로 비유할수 있습니다. 클래스를 이용하여 객체를 만든다고 할수 있으며 객체로 선언되어야 메모리에 할당이 됩니다.\n",
    "\n",
    "객체지향\n",
    "- 실제세계를 모델링하여 공통적인 기능을 묶어서 개발하는것을 말합니다.\n",
    "- 다형성 : 같은 이름으로 파라미터에 따라 다른 코드를 수행하거나 객체에 따라서 다른 함수를 수행 (method overloading)\n",
    "- 캡슐화 : 외부에 변수나 함수를 감충으로 정보 은닉 효과가 있는 개념 (private)\n",
    "- 추상화 : 여러가지 요소를 하나로 통합하여 사용자가 코드를 몰라도 간단하게 사용할수 있는 개념 (class)\n",
    "- 상속 : 기존에 있던 클래스의 기능을 수정하거나 추가 (class의 inheritance)\n"
   ]
  },
  {
   "cell_type": "markdown",
   "metadata": {
    "slideshow": {
     "slide_type": "slide"
    }
   },
   "source": [
    "## 1. 클래스의 구조\n",
    "- class 내부에 self를 이용하여 변수를 할당하고, def를 이용하여 함수를 선언합니다. \n",
    "- self는 객체 자신을 의미 합니다. 함수 선언시 항상 argument로 self를 넣어주어야 합니다.\n"
   ]
  },
  {
   "cell_type": "markdown",
   "metadata": {
    "slideshow": {
     "slide_type": "slide"
    }
   },
   "source": [
    "계산 기능이 있는 Calculator 클래스 선언"
   ]
  },
  {
   "cell_type": "code",
   "execution_count": 1,
   "metadata": {},
   "outputs": [],
   "source": [
    "class Calculator:\n",
    "\n",
    "    def setData(self, num1, num2):\n",
    "        self.num1 = num1\n",
    "        self.num2 = num2\n",
    "\n",
    "    def add(self):\n",
    "        return self.num1 + self.num2\n",
    "\n",
    "    def sub(self):\n",
    "        return self.num1 - self.num2\n",
    "\n",
    "    def mul(self):\n",
    "        return self.num1 * self.num2\n",
    "\n",
    "    def div(self):\n",
    "        return self.num1 / self.num2"
   ]
  },
  {
   "cell_type": "markdown",
   "metadata": {
    "slideshow": {
     "slide_type": "slide"
    }
   },
   "source": [
    "Calculator 클래스로 객체를 생성해서 변수를 저장하고 계산하는 함수를 호출"
   ]
  },
  {
   "cell_type": "code",
   "execution_count": 2,
   "metadata": {},
   "outputs": [],
   "source": [
    "c1 = Calculator()  # 객체 생성"
   ]
  },
  {
   "cell_type": "code",
   "execution_count": 3,
   "metadata": {},
   "outputs": [],
   "source": [
    "c1.setData(5, 7)  # 객체의 함수에 접근"
   ]
  },
  {
   "cell_type": "code",
   "execution_count": 4,
   "metadata": {},
   "outputs": [
    {
     "name": "stdout",
     "output_type": "stream",
     "text": [
      "12\n",
      "-2\n"
     ]
    }
   ],
   "source": [
    "result = c1.add()\n",
    "print(result)\n",
    "\n",
    "result = c1.sub()\n",
    "print(result)"
   ]
  },
  {
   "cell_type": "code",
   "execution_count": 5,
   "metadata": {
    "slideshow": {
     "slide_type": "slide"
    }
   },
   "outputs": [
    {
     "name": "stdout",
     "output_type": "stream",
     "text": [
      "Variable     Type          Data/Info\n",
      "------------------------------------\n",
      "Calculator   type          <class '__main__.Calculator'>\n",
      "c1           Calculator    <__main__.Calculator object at 0x11ce76198>\n",
      "result       int           -2\n"
     ]
    }
   ],
   "source": [
    "%whos"
   ]
  },
  {
   "cell_type": "markdown",
   "metadata": {
    "slideshow": {
     "slide_type": "slide"
    }
   },
   "source": [
    "객체의 변수에 접근"
   ]
  },
  {
   "cell_type": "code",
   "execution_count": 6,
   "metadata": {},
   "outputs": [
    {
     "data": {
      "text/plain": [
       "(5, 7)"
      ]
     },
     "execution_count": 6,
     "metadata": {},
     "output_type": "execute_result"
    }
   ],
   "source": [
    "c1.num1, c1.num2"
   ]
  },
  {
   "cell_type": "code",
   "execution_count": 7,
   "metadata": {},
   "outputs": [],
   "source": [
    "c1.setData(1, 2)"
   ]
  },
  {
   "cell_type": "code",
   "execution_count": 8,
   "metadata": {},
   "outputs": [
    {
     "data": {
      "text/plain": [
       "(1, 2)"
      ]
     },
     "execution_count": 8,
     "metadata": {},
     "output_type": "execute_result"
    }
   ],
   "source": [
    "c1.num1, c1.num2"
   ]
  },
  {
   "cell_type": "code",
   "execution_count": 9,
   "metadata": {},
   "outputs": [],
   "source": [
    "c2 = Calculator()\n",
    "c2.setData(7, 8)"
   ]
  },
  {
   "cell_type": "code",
   "execution_count": 10,
   "metadata": {},
   "outputs": [
    {
     "data": {
      "text/plain": [
       "(7, 8)"
      ]
     },
     "execution_count": 10,
     "metadata": {},
     "output_type": "execute_result"
    }
   ],
   "source": [
    "c2.num1, c2.num2"
   ]
  },
  {
   "cell_type": "markdown",
   "metadata": {
    "slideshow": {
     "slide_type": "slide"
    }
   },
   "source": [
    "self는 객체를 의미합니다. 클래스의 함수에 self 파라미터로 객체를 넘겨 해당 객체의 변수를 변경할수 있습니다."
   ]
  },
  {
   "cell_type": "code",
   "execution_count": 11,
   "metadata": {},
   "outputs": [
    {
     "name": "stdout",
     "output_type": "stream",
     "text": [
      "7 8\n",
      "15\n",
      "0.875\n"
     ]
    }
   ],
   "source": [
    "c2 = Calculator()\n",
    "\n",
    "# Calculator 클래스에 c2 객체를 self로 넣어주면 c2 객체에 7, 8이 파라미터 들어갑니다.\n",
    "Calculator.setData(c2, 7, 8)\n",
    "print(c2.num1, c2.num2)\n",
    "\n",
    "result = Calculator.add(c2)\n",
    "print(result)\n",
    "\n",
    "result = Calculator.div(c2)\n",
    "print(result)"
   ]
  },
  {
   "cell_type": "markdown",
   "metadata": {
    "slideshow": {
     "slide_type": "slide"
    }
   },
   "source": [
    "## 2. Constructor - 생성자\n",
    "\n",
    "생성자는 클래스가 객체가 될때 변수의 초기값을 설정하는 역할을 합니다.  \n",
    "\n",
    "`__init__` 으로 함수명을 작성하여 초기 변수값을 넣어주면 됩니다. \n",
    "\n",
    "생성자를 만들고 객체를 선언할때 초기 데이터가 없으면 에러가 발생하여 객체가 생성되지 않습니다. \n",
    "\n",
    "생성자를 사용하는 이유는 생성자에서 설정된 변수가 없으면 객체를 만들수 없도록 함으로 객체가 만들어진 상태에서 객체의 함수가 실행되지 않는것보다 메모리를 절약할수 있습니다."
   ]
  },
  {
   "cell_type": "markdown",
   "metadata": {
    "slideshow": {
     "slide_type": "slide"
    }
   },
   "source": [
    "클래스에서 사용하는 변수값이 설정되지 않아 에러가 발생"
   ]
  },
  {
   "cell_type": "code",
   "execution_count": 12,
   "metadata": {},
   "outputs": [
    {
     "name": "stdout",
     "output_type": "stream",
     "text": [
      "'Calculator' object has no attribute 'num1'\n"
     ]
    }
   ],
   "source": [
    "c3 = Calculator()\n",
    "try:\n",
    "    result = c3.add()\n",
    "    print(result)\n",
    "except Exception as e:\n",
    "    print(e)"
   ]
  },
  {
   "cell_type": "markdown",
   "metadata": {
    "slideshow": {
     "slide_type": "slide"
    }
   },
   "source": [
    "생성자를 추가한 계산기 클래스"
   ]
  },
  {
   "cell_type": "code",
   "execution_count": 13,
   "metadata": {},
   "outputs": [],
   "source": [
    "class Calculator:\n",
    "\n",
    "    def __init__(self, num1, num2, num3=0):\n",
    "        self.num1 = num1\n",
    "        self.num2 = num2\n",
    "        self.num3 = num3\n",
    "\n",
    "    def setData(self, num1, num2):\n",
    "        self.num1 = num1\n",
    "        self.num2 = num2\n",
    "\n",
    "    def add(self):\n",
    "        return self.num1 + self.num2\n",
    "\n",
    "    def sub(self):\n",
    "        return self.num1 - self.num2\n",
    "\n",
    "    def mul(self):\n",
    "        return self.num1 * self.num2\n",
    "\n",
    "    def div(self):\n",
    "        return self.num1 / self.num2\n",
    "\n",
    "    def test(self):\n",
    "        return self.num3"
   ]
  },
  {
   "cell_type": "markdown",
   "metadata": {
    "slideshow": {
     "slide_type": "slide"
    }
   },
   "source": [
    "생성자가 선언되어 있는 클래스에 초기값을 설정하기 않아서 에러 발생"
   ]
  },
  {
   "cell_type": "code",
   "execution_count": 14,
   "metadata": {},
   "outputs": [
    {
     "name": "stdout",
     "output_type": "stream",
     "text": [
      "__init__() missing 2 required positional arguments: 'num1' and 'num2'\n"
     ]
    }
   ],
   "source": [
    "try:\n",
    "    c3 = Calculator()\n",
    "except Exception as e:\n",
    "    print(e)"
   ]
  },
  {
   "cell_type": "markdown",
   "metadata": {
    "slideshow": {
     "slide_type": "slide"
    }
   },
   "source": [
    "초기 변수값을 설정하여 객체를 만듦"
   ]
  },
  {
   "cell_type": "code",
   "execution_count": 15,
   "metadata": {},
   "outputs": [
    {
     "name": "stdout",
     "output_type": "stream",
     "text": [
      "12\n"
     ]
    }
   ],
   "source": [
    "c3 = Calculator(5, 7)\n",
    "result = c3.add()\n",
    "print(result)"
   ]
  },
  {
   "cell_type": "markdown",
   "metadata": {
    "slideshow": {
     "slide_type": "slide"
    }
   },
   "source": [
    "setData 함수를 이용하여 변수 값을 변경"
   ]
  },
  {
   "cell_type": "code",
   "execution_count": 16,
   "metadata": {},
   "outputs": [
    {
     "name": "stdout",
     "output_type": "stream",
     "text": [
      "7\n"
     ]
    }
   ],
   "source": [
    "c3.setData(3, 4)\n",
    "result = c3.add()\n",
    "print(result)"
   ]
  },
  {
   "cell_type": "markdown",
   "metadata": {
    "slideshow": {
     "slide_type": "skip"
    }
   },
   "source": [
    "##### Quiz 1\n",
    "- 아래에 있는 데이터를 class와 object로 나타내세요.\n",
    "- 두개의 함수 추가\n",
    "    - 객체의 타율(안타/타석) 정보를 볼수 있는 함수\n",
    "    - 객체의 타석과 안타에 대한 정보를 수정할수 있는 함수\n",
    "- 타율은 소수 셋째자리까지 출력\n",
    "\n",
    "```\n",
    "김선빈(ksb) - 타석:475, 안타:176\n",
    "박건우(pgw) - 타석:483, 안타:177\n",
    "박민우(pmw) - 타석:388, 안타:141\n",
    "```"
   ]
  },
  {
   "cell_type": "code",
   "execution_count": 4,
   "metadata": {},
   "outputs": [],
   "source": [
    "class Player:\n",
    "    \n",
    "    def __init__(self, bat, hit):\n",
    "        self.bat = bat\n",
    "        self.hit = hit\n",
    "        \n",
    "    def set_info(self, bat, hit):\n",
    "        self.bat = bat\n",
    "        self.hit = hit\n",
    "        \n",
    "    def avg(self):\n",
    "        return round(self.hit / self.bat, 3)"
   ]
  },
  {
   "cell_type": "code",
   "execution_count": 5,
   "metadata": {},
   "outputs": [],
   "source": [
    "ksb = Player(475, 176)\n",
    "pgw = Player(483, 177)\n",
    "pmw = Player(388, 141)"
   ]
  },
  {
   "cell_type": "code",
   "execution_count": 6,
   "metadata": {},
   "outputs": [
    {
     "data": {
      "text/plain": [
       "0.371"
      ]
     },
     "execution_count": 6,
     "metadata": {},
     "output_type": "execute_result"
    }
   ],
   "source": [
    "ksb.avg()"
   ]
  },
  {
   "cell_type": "markdown",
   "metadata": {
    "slideshow": {
     "slide_type": "skip"
    }
   },
   "source": [
    "##### Quiz 2\n",
    "- 학생의 국어, 영어, 수학 점수를 입력받아서 총점과 평균을 구하는 클래스(Student)를 만드세요.\n",
    "- 학생 한명이 하나의 객체\n",
    "- 두가지 방법\n",
    "    - 생성자 함수에서 국어, 영어, 수학를 받도록 코드 작성\n",
    "        - 결과\n",
    "        ```\n",
    "        # 객체 생성\n",
    "        s1 = Student(98, 87, 78)\n",
    "\n",
    "        # 객체의 함수 호출\n",
    "        print(s1.total(), s1.avg())\n",
    "\n",
    "        # 결과 출력\n",
    "        263, 87.67\n",
    "        ```\n",
    "    \n",
    "    - 생성자 함수에서 과목의 갯수 제한 없이 데이터 받도록 코드 작성\n",
    "    \n",
    "        - 결과\n",
    "        \n",
    "        ```\n",
    "        # 객체 생성\n",
    "        s1 = Student(korean=99, english=88)\n",
    "        s2 = Student(korean=90, english=85, math=98)\n",
    "        s3 = Student(korean=90, english=85, math=98, science=76)\n",
    "        \n",
    "        # 객체의 함수 호출\n",
    "        print(s1.total(), s1.avg(), s2.total(), s2.avg(), s3.total(), s3.avg())\n",
    "        \n",
    "        # 결과 출력\n",
    "        187, 93.5, 273, 91.0, 349, 87.25\n",
    "        \n",
    "        ```\n"
   ]
  },
  {
   "cell_type": "code",
   "execution_count": 15,
   "metadata": {},
   "outputs": [],
   "source": [
    "class Student:\n",
    "    \n",
    "    def __init__(self, korean, english, math):\n",
    "        self.korean = korean\n",
    "        self.english = english\n",
    "        self.math = math\n",
    "        \n",
    "    def total(self):\n",
    "        return self.korean + self.english + self.math\n",
    "    \n",
    "    def avg(self):\n",
    "        return round(self.total() / 3, 2)"
   ]
  },
  {
   "cell_type": "code",
   "execution_count": 17,
   "metadata": {},
   "outputs": [
    {
     "data": {
      "text/plain": [
       "(263, 87.67)"
      ]
     },
     "execution_count": 17,
     "metadata": {},
     "output_type": "execute_result"
    }
   ],
   "source": [
    "s1 = Student(98, 87, 78)\n",
    "s1.total(), s1.avg()"
   ]
  },
  {
   "cell_type": "code",
   "execution_count": 20,
   "metadata": {},
   "outputs": [],
   "source": [
    "class Student:\n",
    "    \n",
    "    def __init__(self, **kwargs):\n",
    "        self.datas = kwargs\n",
    "        \n",
    "    def total(self):\n",
    "        return sum(self.datas.values())\n",
    "    \n",
    "    def avg(self):\n",
    "        return round(self.total() / len(self.datas), 2)"
   ]
  },
  {
   "cell_type": "code",
   "execution_count": 21,
   "metadata": {},
   "outputs": [
    {
     "data": {
      "text/plain": [
       "(187, 93.5, 273, 91.0, 349, 87.25)"
      ]
     },
     "execution_count": 21,
     "metadata": {},
     "output_type": "execute_result"
    }
   ],
   "source": [
    "s1 = Student(korean=99, english=88)\n",
    "s2 = Student(korean=90, english=85, math=98)\n",
    "s3 = Student(korean=90, english=85, math=98, science=76)\n",
    "s1.total(), s1.avg(), s2.total(), s2.avg(), s3.total(), s3.avg()"
   ]
  },
  {
   "cell_type": "markdown",
   "metadata": {
    "slideshow": {
     "slide_type": "slide"
    }
   },
   "source": [
    "## 3. Inheritance - 상속\n",
    "상속은 기존의 클래스에 새로운 변수나 함수를 추가하거나 변경할수 있도록 해주는 기능입니다. overiding과 overloading의 차이점은 다형성의 특징입니다. \n",
    "- overiding : 상위 클래스가 가지고 있는 함수를 하위 클래스가 함수를 재정의 해서 사용\n",
    "- overloading : 함수 이름은 같으나 argument 갯수 차이로 함수를 구분해서 실행해주는 방법 (python 에서는 default argument로 조건문을 사용하여 구현합니다.)"
   ]
  },
  {
   "cell_type": "markdown",
   "metadata": {
    "slideshow": {
     "slide_type": "slide"
    }
   },
   "source": [
    "Calculator 클래스에 제곱 함수를 추가"
   ]
  },
  {
   "cell_type": "code",
   "execution_count": 17,
   "metadata": {},
   "outputs": [],
   "source": [
    "class ImprovedCalculator:\n",
    "\n",
    "    def __init__(self, num1, num2):\n",
    "        self.num1 = num1\n",
    "        self.num2 = num2\n",
    "\n",
    "    def setData(self, num1, num2):\n",
    "        self.num1 = num1\n",
    "        self.num2 = num2\n",
    "\n",
    "    def add(self):\n",
    "        return self.num1 + self.num2\n",
    "\n",
    "    def sub(self):\n",
    "        return self.num1 - self.num2\n",
    "\n",
    "    def mul(self):\n",
    "        return self.num1 * self.num2\n",
    "\n",
    "    def div(self):\n",
    "        return self.num1 / self.num2\n",
    "\n",
    "    def pow_func(self):\n",
    "        return self.num1 ** self.num2"
   ]
  },
  {
   "cell_type": "markdown",
   "metadata": {
    "slideshow": {
     "slide_type": "slide"
    }
   },
   "source": [
    "Calculator 클래스를 상속 받아 제곱근 기능을 추가"
   ]
  },
  {
   "cell_type": "code",
   "execution_count": 18,
   "metadata": {},
   "outputs": [],
   "source": [
    "class ImprovedCalculator(Calculator):\n",
    "    def pow_func(self):\n",
    "        return self.num1 ** self.num2"
   ]
  },
  {
   "cell_type": "markdown",
   "metadata": {
    "slideshow": {
     "slide_type": "slide"
    }
   },
   "source": [
    "ImprovedCalculator 객체를 생성하여 제곱함수를 호출해서 실행"
   ]
  },
  {
   "cell_type": "code",
   "execution_count": 19,
   "metadata": {},
   "outputs": [],
   "source": [
    "ic = ImprovedCalculator(3, 5)"
   ]
  },
  {
   "cell_type": "code",
   "execution_count": 20,
   "metadata": {},
   "outputs": [
    {
     "name": "stdout",
     "output_type": "stream",
     "text": [
      "243\n"
     ]
    }
   ],
   "source": [
    "result = ic.pow_func()\n",
    "print(result)"
   ]
  },
  {
   "cell_type": "code",
   "execution_count": 21,
   "metadata": {},
   "outputs": [
    {
     "name": "stdout",
     "output_type": "stream",
     "text": [
      "8\n"
     ]
    }
   ],
   "source": [
    "result = ic.add()\n",
    "print(result)"
   ]
  },
  {
   "cell_type": "markdown",
   "metadata": {
    "slideshow": {
     "slide_type": "skip"
    }
   },
   "source": [
    "##### Quiz 3\n",
    "- 아이폰 버전이 올라가면서 기능이 추가된 아래의 내용으로 상속을 이용하여 클래스를 구현하는 코드를 작성하세요.\n",
    "- 기능에 대한 내용은 print문을 이용한 출력만 하면 됩니다\n",
    "    - iPhone1_obj.calling() # print(\"calling\")\n",
    "```\n",
    "iPhone_1 : calling\n",
    "iPhone_2 : calling, send msg\n",
    "iphone_3 : calling, send msg, internet\n",
    "```"
   ]
  },
  {
   "cell_type": "code",
   "execution_count": 28,
   "metadata": {},
   "outputs": [],
   "source": [
    "class Iphone1:\n",
    "    \n",
    "    def calling(self):\n",
    "        print(\"calling\")    "
   ]
  },
  {
   "cell_type": "code",
   "execution_count": 29,
   "metadata": {},
   "outputs": [],
   "source": [
    "class Iphone2(Iphone1):\n",
    "    \n",
    "    def send_msg(self):\n",
    "        print(\"send_msg\")"
   ]
  },
  {
   "cell_type": "code",
   "execution_count": 30,
   "metadata": {},
   "outputs": [],
   "source": [
    "class Iphone3(Iphone2):\n",
    "    \n",
    "    def internet(self):\n",
    "        print(\"internet\")"
   ]
  },
  {
   "cell_type": "code",
   "execution_count": 31,
   "metadata": {},
   "outputs": [],
   "source": [
    "iphone1 = Iphone1()\n",
    "iphone2 = Iphone2()\n",
    "iphone3 = Iphone3()"
   ]
  },
  {
   "cell_type": "markdown",
   "metadata": {
    "slideshow": {
     "slide_type": "skip"
    }
   },
   "source": [
    "##### Quiz 4\n",
    "- Quiz1 에서 작성한 클래스(Player)에서 상속받아 Player2 클래스를 생성하세요.\n",
    "- 안타를 쳤을 경우 호출되는 함수(add_hit), 안타를 치치 못했을경우 호출되는 함수(add_out) 추가하세요."
   ]
  },
  {
   "cell_type": "code",
   "execution_count": null,
   "metadata": {},
   "outputs": [],
   "source": []
  },
  {
   "cell_type": "markdown",
   "metadata": {},
   "source": [
    "##### Quiz 5\n",
    "- Account 클래스를 작성해 주세요.\n",
    "- Account의 생성자에는 자산(asset)과 이자율(interest) 변수를 설정\n",
    "- Account 클래스의 기능으로는 자산에 이자추가(add_interest), 자산인출(withdraw), 자산적립(deposit), 자산과 이자를 출력하는 함수(disp) 생성\n",
    "- 자산 인출시 자산이 -(마이너스)가 되면 안됩니다."
   ]
  },
  {
   "cell_type": "markdown",
   "metadata": {},
   "source": [
    "##### Quiz 6\n",
    "- 마법사(Wizard), 전사(Warrior) 클래스를 생성하세요.\n",
    "- 마법사의 공격력은 10 ~ 50이고, 체력은 100\n",
    "- 전사의 공격력은 20 ~ 30이고, 체력은 110\n",
    "- 공격력은 최소와 최대 공격력이 있고 공격할때 마다 최소와 최대 공격력사이의 랜덤한 값으로 공격력이 설정됩니다.\n",
    "- 각 클래스는 공격하는 기능과 현재 상태를 확인하는 기능이 있습니다.\n",
    "- 마법사 3명과 전사 4명이 싸울경우 누가 이기는지 확인하는 코드를 작성하세요."
   ]
  },
  {
   "cell_type": "markdown",
   "metadata": {
    "slideshow": {
     "slide_type": "slide"
    }
   },
   "source": [
    "## 4. Multiful Inheritance - 다중상속\n",
    "python은 다중상속이 가능합니다.\n",
    "\n",
    "1. Method Overiding과 - 메서드 오버라이딩\n",
    "1. Method Overloading - 메서드 오버로딩"
   ]
  },
  {
   "cell_type": "code",
   "execution_count": 22,
   "metadata": {},
   "outputs": [],
   "source": [
    "# 객체의 함수 리스트를 보여주는 함수\n",
    "def show_func(obj):\n",
    "    return [var for var in dir(obj) if var[:2] != \"__\"]"
   ]
  },
  {
   "cell_type": "markdown",
   "metadata": {
    "slideshow": {
     "slide_type": "slide"
    }
   },
   "source": [
    "Human, Korean, Indian 클래스 생성"
   ]
  },
  {
   "cell_type": "code",
   "execution_count": 23,
   "metadata": {},
   "outputs": [],
   "source": [
    "# multiful inheritance\n",
    "class Human:\n",
    "    def walk(self):\n",
    "        print(\"walking\")\n",
    "\n",
    "\n",
    "class Korean:\n",
    "    def eat(self):\n",
    "        print(\"eat kimchi\")\n",
    "\n",
    "\n",
    "class Indian:\n",
    "    def eat(self):\n",
    "        print(\"eat curry\")"
   ]
  },
  {
   "cell_type": "markdown",
   "metadata": {
    "slideshow": {
     "slide_type": "slide"
    }
   },
   "source": [
    "Jin은 Human과 Korean 두개의 클래스를 상속 받음"
   ]
  },
  {
   "cell_type": "code",
   "execution_count": 24,
   "metadata": {},
   "outputs": [],
   "source": [
    "# jin은 사람과 한국인을 상속받음\n",
    "# coding 스킬이있고 noddle을 먹음\n",
    "\n",
    "\n",
    "class Jin(Human, Korean):\n",
    "\n",
    "    def skill(self):\n",
    "        print(\"coding\")\n",
    "\n",
    "    def eat(self):  # 오버라이딩 : 상위 클래스의 함수를 새롭게 정의\n",
    "        print(\"eat noodle\")"
   ]
  },
  {
   "cell_type": "markdown",
   "metadata": {},
   "source": [
    "Jin 객체를 만들어서 함수를 실행"
   ]
  },
  {
   "cell_type": "code",
   "execution_count": 25,
   "metadata": {},
   "outputs": [
    {
     "name": "stdout",
     "output_type": "stream",
     "text": [
      "eat noodle\n",
      "walking\n",
      "coding\n"
     ]
    },
    {
     "data": {
      "text/plain": [
       "['eat', 'skill', 'walk']"
      ]
     },
     "execution_count": 25,
     "metadata": {},
     "output_type": "execute_result"
    }
   ],
   "source": [
    "jin = Jin()\n",
    "jin.eat()\n",
    "jin.walk()\n",
    "jin.skill()\n",
    "show_func(jin)"
   ]
  },
  {
   "cell_type": "markdown",
   "metadata": {
    "slideshow": {
     "slide_type": "slide"
    }
   },
   "source": [
    "Anchal은 Human과 Indean 두개의 클래스를 상속 받음"
   ]
  },
  {
   "cell_type": "code",
   "execution_count": 26,
   "metadata": {},
   "outputs": [],
   "source": [
    "# anchal은 사람과 인도인을 상속받음\n",
    "# speaking english 스킬이 있음\n",
    "\n",
    "\n",
    "class Anchal(Human, Indian):\n",
    "\n",
    "    def skill(self):\n",
    "        print(\"speak english\")\n",
    "\n",
    "    def eat(self, place=None):  # 오버로딩 : argument의 갯수 차이로 다르게 코드 실행\n",
    "        if place is None:\n",
    "            print(\"eat curry\")\n",
    "        else:\n",
    "            print(\"eat noodle in {}\".format(place))"
   ]
  },
  {
   "cell_type": "markdown",
   "metadata": {
    "slideshow": {
     "slide_type": "slide"
    }
   },
   "source": [
    "Anchal 객체를 만들어서 함수를 실행"
   ]
  },
  {
   "cell_type": "code",
   "execution_count": 27,
   "metadata": {},
   "outputs": [
    {
     "name": "stdout",
     "output_type": "stream",
     "text": [
      "eat curry\n",
      "eat noodle in seoul\n",
      "walking\n",
      "speak english\n"
     ]
    },
    {
     "data": {
      "text/plain": [
       "['eat', 'skill', 'walk']"
      ]
     },
     "execution_count": 27,
     "metadata": {},
     "output_type": "execute_result"
    }
   ],
   "source": [
    "anchal = Anchal()\n",
    "anchal.eat()\n",
    "anchal.eat(\"seoul\")\n",
    "anchal.walk()\n",
    "anchal.skill()\n",
    "show_func(anchal)"
   ]
  },
  {
   "cell_type": "markdown",
   "metadata": {
    "slideshow": {
     "slide_type": "slide"
    }
   },
   "source": [
    "## 5. Super\n",
    "super는 상위 클래스의 생성자를 받아올때 주로 사용됩니다. 또한 다이아몬드 상속에서 두번 호출을 방지해줍니다.\n",
    "- 다이아몬드 상속 : (A <- B), (A <- C), (D <- (B, C) ) D객체를 만들때 B에서 상속받은 A와 C에서 상속받은 A를 상속받아 A를 두번 호출합니다."
   ]
  },
  {
   "cell_type": "markdown",
   "metadata": {
    "slideshow": {
     "slide_type": "slide"
    }
   },
   "source": [
    "D 객체를 만들때 A 생성자를 두번 호출 합니다."
   ]
  },
  {
   "cell_type": "code",
   "execution_count": 28,
   "metadata": {},
   "outputs": [
    {
     "name": "stdout",
     "output_type": "stream",
     "text": [
      "D.__init__\n",
      "B.__init__\n",
      "A.__init__\n",
      "C.__init__\n",
      "A.__init__\n"
     ]
    }
   ],
   "source": [
    "class A:\n",
    "    def __init__(self):\n",
    "        print(\"A.__init__\")\n",
    "\n",
    "\n",
    "class B(A):\n",
    "    def __init__(self):\n",
    "        print(\"B.__init__\")\n",
    "        A.__init__(self)\n",
    "\n",
    "\n",
    "class C(A):\n",
    "    def __init__(self):\n",
    "        print(\"C.__init__\")\n",
    "        A.__init__(self)\n",
    "\n",
    "\n",
    "class D(B, C):\n",
    "    def __init__(self):\n",
    "        print(\"D.__init__\")\n",
    "        B.__init__(self)\n",
    "        C.__init__(self)\n",
    "\n",
    "\n",
    "d = D()"
   ]
  },
  {
   "cell_type": "markdown",
   "metadata": {
    "slideshow": {
     "slide_type": "slide"
    }
   },
   "source": [
    "super를 사용하면 A가 한번만 호출됩니다. 클래스의 전체 상속 구조를 이해하지 못해도 super가 알아서 중복을 제거해주기 때문에 중복에 대한 신경을 쓰지 않아도 됩니다."
   ]
  },
  {
   "cell_type": "code",
   "execution_count": 29,
   "metadata": {},
   "outputs": [
    {
     "name": "stdout",
     "output_type": "stream",
     "text": [
      "D.__init__\n",
      "B.__init__\n",
      "C.__init__\n",
      "A.__init__\n"
     ]
    }
   ],
   "source": [
    "class A:\n",
    "    def __init__(self):\n",
    "        print(\"A.__init__\")\n",
    "\n",
    "\n",
    "class B(A):\n",
    "    def __init__(self):\n",
    "        print(\"B.__init__\")\n",
    "        super(B, self).__init__()\n",
    "\n",
    "\n",
    "class C(A):\n",
    "    def __init__(self):\n",
    "        print(\"C.__init__\")\n",
    "        super(C, self).__init__()\n",
    "\n",
    "\n",
    "class D(B, C):\n",
    "    def __init__(self):\n",
    "        print(\"D.__init__\")\n",
    "        super(D, self).__init__()\n",
    "\n",
    "\n",
    "d = D()"
   ]
  },
  {
   "cell_type": "markdown",
   "metadata": {
    "slideshow": {
     "slide_type": "slide"
    }
   },
   "source": [
    "다중상속의 순서 ( A -> B -> C )"
   ]
  },
  {
   "cell_type": "code",
   "execution_count": 30,
   "metadata": {},
   "outputs": [
    {
     "name": "stdout",
     "output_type": "stream",
     "text": [
      "C.__init__\n",
      "B.__init__\n",
      "B.__init__\n",
      "A.__init__\n"
     ]
    }
   ],
   "source": [
    "class A:\n",
    "    def __init__(self):\n",
    "        print(\"A.__init__\")\n",
    "\n",
    "\n",
    "class B:\n",
    "    def __init__(self):\n",
    "        print(\"B.__init__\")\n",
    "\n",
    "# class B(A):\n",
    "#     pass\n",
    "\n",
    "# class C(B):\n",
    "#     pass\n",
    "\n",
    "\n",
    "class C(B, A):  # A -> B -> C (다중상속은 한번에 상속되는게 아니라 계층적으로 상속됩니다.)\n",
    "    def __init__(self):\n",
    "        print(\"C.__init__\")\n",
    "        super().__init__()  # default로 C가 입력됨\n",
    "        super(C, self).__init__()  # 아규먼트로 어떤 클래스의 부모를 상속받을지 설정할수 있습니다.\n",
    "        super(B, self).__init__()\n",
    "\n",
    "\n",
    "# super에 C를 입력하면 A에 대한 init을 상속\n",
    "# super에 A를 입력하면 B에 대한 init을 상속\n",
    "c = C()"
   ]
  },
  {
   "cell_type": "markdown",
   "metadata": {
    "slideshow": {
     "slide_type": "slide"
    }
   },
   "source": [
    "starcraft 예제"
   ]
  },
  {
   "cell_type": "code",
   "execution_count": 31,
   "metadata": {},
   "outputs": [],
   "source": [
    "class Human:\n",
    "    \n",
    "    def __init__(self):\n",
    "        self.health = 40\n",
    "    \n",
    "    def set_health(self, var):\n",
    "        self.health += var\n",
    "        if self.health > 40:\n",
    "            self.health = 40\n",
    "        elif self.health < 0:\n",
    "            self.health = 0"
   ]
  },
  {
   "cell_type": "code",
   "execution_count": 32,
   "metadata": {
    "slideshow": {
     "slide_type": "slide"
    }
   },
   "outputs": [],
   "source": [
    "class Marin(Human):\n",
    "    \n",
    "    def __init__(self, attack_pow=5, kill=0):\n",
    "        super(Marin, self).__init__()\n",
    "        self.attack_pow = attack_pow\n",
    "        self.kill = kill\n",
    "        \n",
    "    def attack(self, obj):\n",
    "        \n",
    "        if obj.health == 0:\n",
    "            print(\"aleady die\")\n",
    "            return\n",
    "        \n",
    "        obj.set_health(-self.attack_pow)\n",
    "        \n",
    "        if obj.health <= 0:\n",
    "            self.kill += 1\n",
    "            print(\"kill\")"
   ]
  },
  {
   "cell_type": "markdown",
   "metadata": {
    "slideshow": {
     "slide_type": "slide"
    }
   },
   "source": [
    "Marin 클래스로 Marin 객체를 2개 생성"
   ]
  },
  {
   "cell_type": "code",
   "execution_count": 33,
   "metadata": {},
   "outputs": [
    {
     "data": {
      "text/plain": [
       "(40, 0, 40, 0)"
      ]
     },
     "execution_count": 33,
     "metadata": {},
     "output_type": "execute_result"
    }
   ],
   "source": [
    "marin1 = Marin()\n",
    "marin2 = Marin()\n",
    "marin1.health, marin1.kill, marin2.health, marin2.kill"
   ]
  },
  {
   "cell_type": "code",
   "execution_count": 34,
   "metadata": {
    "slideshow": {
     "slide_type": "slide"
    }
   },
   "outputs": [
    {
     "name": "stdout",
     "output_type": "stream",
     "text": [
      "0턴\n",
      "마린1 체력:40, 킬:0\n",
      "마린2 체력:35, 킬:0\n",
      "\n",
      "1턴\n",
      "마린1 체력:40, 킬:0\n",
      "마린2 체력:30, 킬:0\n",
      "\n",
      "2턴\n",
      "마린1 체력:40, 킬:0\n",
      "마린2 체력:25, 킬:0\n",
      "\n",
      "3턴\n",
      "마린1 체력:40, 킬:0\n",
      "마린2 체력:20, 킬:0\n",
      "\n",
      "4턴\n",
      "마린1 체력:40, 킬:0\n",
      "마린2 체력:15, 킬:0\n",
      "\n",
      "5턴\n",
      "마린1 체력:40, 킬:0\n",
      "마린2 체력:10, 킬:0\n",
      "\n",
      "6턴\n",
      "마린1 체력:40, 킬:0\n",
      "마린2 체력:5, 킬:0\n",
      "\n",
      "7턴\n",
      "kill\n",
      "마린1 체력:40, 킬:1\n",
      "마린2 체력:0, 킬:0\n",
      "\n"
     ]
    }
   ],
   "source": [
    "# 마린1이 마린2를 8번 공격\n",
    "for idx in range(8):\n",
    "    print(\"{}턴\".format(idx))\n",
    "    marin1.attack(marin2)\n",
    "    print(\"마린1 체력:{}, 킬:{}\".format(marin1.health, marin1.kill))\n",
    "    print(\"마린2 체력:{}, 킬:{}\".format(marin2.health, marin2.kill), end=\"\\n\\n\")"
   ]
  },
  {
   "cell_type": "markdown",
   "metadata": {
    "slideshow": {
     "slide_type": "skip"
    }
   },
   "source": [
    "##### Quiz 7\n",
    "- Human을 상속받아 치료 능력이 +6인 메딕 클래스를 생성하세요.\n",
    "- heal_pow, heal\n",
    "- 이미 죽은 유닛은 치료가 불가능합니다."
   ]
  },
  {
   "cell_type": "markdown",
   "metadata": {
    "slideshow": {
     "slide_type": "skip"
    }
   },
   "source": [
    "##### Quiz 8\n",
    "- 로또와 숫자 맞추기 클래스를 만들어 두가지 게임을 통합한 게임 클래스를 만들기\n",
    "- 로또 번호를 출력하는 기능이 있는 Lotto 클래스 생성 \n",
    "    - 생성자 함수에서 로또번호를 몇번 뽑을지 결정하는 변수를 생성\n",
    "- 랜덤하게 숫자를 뽑고 숫자를 입력 받아 입력한 숫자가 맞는지 확인하는 NumberMatching 클래스 생성\n",
    "    - 생성자 함수에서 숫자의 범위를 몇까지 할지를 결정하는 변수를 생성\n",
    "- Lotto와 NumberMatching 클래스를 상속 받는 Games 클래스를 생성\n",
    "    - run_all_games함수를 실행하면 Lotto와 NumberMatching 게임이 둘다 작동되도록 함수를 생성"
   ]
  },
  {
   "cell_type": "markdown",
   "metadata": {
    "slideshow": {
     "slide_type": "slide"
    }
   },
   "source": [
    "## 6. Getter & Setter\n",
    "\n",
    "객체의 내부 변수에 접근할때 특정 로직을 거쳐서 접근할수 있도록 하는 방법입니다. \n",
    "\n",
    "python에서 getter와 setter를 구현하는 방법은 property와 decorlator를 이용하는 방법 두가지가 있습니다."
   ]
  },
  {
   "cell_type": "markdown",
   "metadata": {
    "slideshow": {
     "slide_type": "slide"
    }
   },
   "source": [
    "### 6.1 Property 함수 이용\n",
    "hidden_name1과 hidden_name2를 숨긴 변수로 사용하고, 실제로 외부에서 접근하는건 name1과 name2로 접근합니다."
   ]
  },
  {
   "cell_type": "code",
   "execution_count": 35,
   "metadata": {
    "slideshow": {
     "slide_type": "slide"
    }
   },
   "outputs": [],
   "source": [
    "class Person:\n",
    "\n",
    "    def __init__(self, input_name1, input_name2):\n",
    "        self.hidden_name1 = input_name1\n",
    "        self.hidden_name2 = input_name2\n",
    "\n",
    "    def disp_name1(self):\n",
    "        print(\"getter1\")\n",
    "        return self.hidden_name1\n",
    "\n",
    "    def disp_name2(self):\n",
    "        print(\"getter2\")\n",
    "        return self.hidden_name2\n",
    "\n",
    "    def setter1(self, input_name):\n",
    "        print(\"setter1\")\n",
    "        if 3 > len(input_name):\n",
    "            print(\"too short name!\")\n",
    "        else:\n",
    "            self.hidden_name1 = input_name\n",
    "\n",
    "    def setter2(self, input_name):\n",
    "        print(\"setter2\")\n",
    "        self.hidden_name2 = input_name.upper()\n",
    "\n",
    "    name1 = property(disp_name1, setter1)\n",
    "    name2 = property(disp_name2, setter2)"
   ]
  },
  {
   "cell_type": "markdown",
   "metadata": {
    "slideshow": {
     "slide_type": "slide"
    }
   },
   "source": [
    "객체를 생성하고 setter를 이용하여 변수를 설정 Setter"
   ]
  },
  {
   "cell_type": "code",
   "execution_count": 36,
   "metadata": {},
   "outputs": [],
   "source": [
    "person = Person(\"ksm\", \"kek\")"
   ]
  },
  {
   "cell_type": "code",
   "execution_count": 37,
   "metadata": {},
   "outputs": [
    {
     "name": "stdout",
     "output_type": "stream",
     "text": [
      "setter1\n",
      "too short name!\n"
     ]
    }
   ],
   "source": [
    "person.name1 = \"n1\"  # setter"
   ]
  },
  {
   "cell_type": "code",
   "execution_count": 38,
   "metadata": {},
   "outputs": [
    {
     "name": "stdout",
     "output_type": "stream",
     "text": [
      "getter1\n"
     ]
    },
    {
     "data": {
      "text/plain": [
       "'ksm'"
      ]
     },
     "execution_count": 38,
     "metadata": {},
     "output_type": "execute_result"
    }
   ],
   "source": [
    "person.name1  # getter"
   ]
  },
  {
   "cell_type": "code",
   "execution_count": 39,
   "metadata": {
    "slideshow": {
     "slide_type": "slide"
    }
   },
   "outputs": [
    {
     "name": "stdout",
     "output_type": "stream",
     "text": [
      "setter1\n",
      "getter1\n"
     ]
    },
    {
     "data": {
      "text/plain": [
       "'pdj'"
      ]
     },
     "execution_count": 39,
     "metadata": {},
     "output_type": "execute_result"
    }
   ],
   "source": [
    "person = Person(\"ksm\", \"kek\")\n",
    "person.name1 = \"pdj\"  # setter\n",
    "person.name1  # getter"
   ]
  },
  {
   "cell_type": "code",
   "execution_count": 40,
   "metadata": {},
   "outputs": [
    {
     "name": "stdout",
     "output_type": "stream",
     "text": [
      "setter2\n"
     ]
    }
   ],
   "source": [
    "person.name2 = \"park\""
   ]
  },
  {
   "cell_type": "code",
   "execution_count": 41,
   "metadata": {},
   "outputs": [
    {
     "name": "stdout",
     "output_type": "stream",
     "text": [
      "getter2\n"
     ]
    },
    {
     "data": {
      "text/plain": [
       "'PARK'"
      ]
     },
     "execution_count": 41,
     "metadata": {},
     "output_type": "execute_result"
    }
   ],
   "source": [
    "person.name2"
   ]
  },
  {
   "cell_type": "code",
   "execution_count": 42,
   "metadata": {},
   "outputs": [
    {
     "data": {
      "text/plain": [
       "'PARK'"
      ]
     },
     "execution_count": 42,
     "metadata": {},
     "output_type": "execute_result"
    }
   ],
   "source": [
    "person.hidden_name2"
   ]
  },
  {
   "cell_type": "markdown",
   "metadata": {
    "slideshow": {
     "slide_type": "slide"
    }
   },
   "source": [
    "### 6.2 decorlator 이용"
   ]
  },
  {
   "cell_type": "code",
   "execution_count": 43,
   "metadata": {},
   "outputs": [],
   "source": [
    "# decorlator\n",
    "class Person():\n",
    "\n",
    "    def __init__(self, input_name):\n",
    "        self.hidden_name = input_name\n",
    "\n",
    "    @property\n",
    "    def name(self):\n",
    "        print(\"inside the getter\")\n",
    "        return self.hidden_name\n",
    "\n",
    "    @name.setter\n",
    "    def name(self, input_name):\n",
    "        print(\"inside the setter\")\n",
    "        self.hidden_name = input_name"
   ]
  },
  {
   "cell_type": "markdown",
   "metadata": {
    "slideshow": {
     "slide_type": "slide"
    }
   },
   "source": [
    "객체를 생성하고 getter와 setter를 이용하여 변수를 저장하고 가져옵니다."
   ]
  },
  {
   "cell_type": "code",
   "execution_count": 44,
   "metadata": {},
   "outputs": [
    {
     "name": "stdout",
     "output_type": "stream",
     "text": [
      "inside the getter\n",
      "doojin\n",
      "inside the setter\n",
      "inside the getter\n",
      "shin\n"
     ]
    }
   ],
   "source": [
    "person = Person(\"doojin\")\n",
    "\n",
    "result = person.name  # getter\n",
    "\n",
    "print(result)\n",
    "\n",
    "person.name = 'shin'  # setter\n",
    "\n",
    "result = person.name  # getter\n",
    "\n",
    "print(result)"
   ]
  },
  {
   "cell_type": "code",
   "execution_count": 45,
   "metadata": {},
   "outputs": [
    {
     "data": {
      "text/plain": [
       "'shin'"
      ]
     },
     "execution_count": 45,
     "metadata": {},
     "output_type": "execute_result"
    }
   ],
   "source": [
    "person.hidden_name"
   ]
  },
  {
   "cell_type": "code",
   "execution_count": 46,
   "metadata": {},
   "outputs": [],
   "source": [
    "person.hidden_name = \"park\""
   ]
  },
  {
   "cell_type": "code",
   "execution_count": 47,
   "metadata": {},
   "outputs": [
    {
     "data": {
      "text/plain": [
       "'park'"
      ]
     },
     "execution_count": 47,
     "metadata": {},
     "output_type": "execute_result"
    }
   ],
   "source": [
    "person.hidden_name"
   ]
  },
  {
   "cell_type": "markdown",
   "metadata": {
    "slideshow": {
     "slide_type": "slide"
    }
   },
   "source": [
    "## 7. non public\n",
    "\n",
    "python에서는 mangling이라는 방법을 사용하여 class 내부 변수에 다이렉트로 접근하지 못하게 하는 방법으로 non public을 구현합니다. \n",
    "\n",
    "사용하는 방법은 변수명 앞에 `__` 를 붙여서 변수를 선언하면 됩니다. \n",
    "\n",
    "완벽한 방법은 아니고 변수명 앞에 `_`(클래스명)을 붙이면 접근이 가능합니다. \n",
    "\n",
    "사용하는 이유는 getter나 setter와 같은 함수를 이용해서 변수에 접근하도록 하게하기 위함입니다."
   ]
  },
  {
   "cell_type": "markdown",
   "metadata": {
    "slideshow": {
     "slide_type": "slide"
    }
   },
   "source": [
    "### 7.1 non Public Variable\n",
    "객체의 변수에 접근하기 위해서 (객체명).(변수명) 으로 접근이 가능합니다."
   ]
  },
  {
   "cell_type": "code",
   "execution_count": 48,
   "metadata": {},
   "outputs": [
    {
     "data": {
      "text/plain": [
       "'park'"
      ]
     },
     "execution_count": 48,
     "metadata": {},
     "output_type": "execute_result"
    }
   ],
   "source": [
    "person.hidden_name"
   ]
  },
  {
   "cell_type": "markdown",
   "metadata": {
    "slideshow": {
     "slide_type": "slide"
    }
   },
   "source": [
    "생성자함수에 non public 변수를 선언하는 persion3 클래스를 생성합니다."
   ]
  },
  {
   "cell_type": "code",
   "execution_count": 49,
   "metadata": {},
   "outputs": [],
   "source": [
    "class Person():\n",
    "\n",
    "    def __init__(self, input_name):\n",
    "        self.__hidden_name = input_name\n",
    "\n",
    "    @property\n",
    "    def name(self):\n",
    "        print(\"inside the getter\")\n",
    "        return self.__hidden_name\n",
    "\n",
    "    @name.setter\n",
    "    def name(self, input_name):\n",
    "        print(\"inside the setter\")\n",
    "        self.__hidden_name = input_name"
   ]
  },
  {
   "cell_type": "markdown",
   "metadata": {
    "slideshow": {
     "slide_type": "slide"
    }
   },
   "source": [
    "객체를 생성하고 다이렉트로 변수에 접근하면 에러가 발생합니다."
   ]
  },
  {
   "cell_type": "code",
   "execution_count": 50,
   "metadata": {},
   "outputs": [],
   "source": [
    "person = Person(\"python\")"
   ]
  },
  {
   "cell_type": "code",
   "execution_count": 51,
   "metadata": {},
   "outputs": [
    {
     "name": "stdout",
     "output_type": "stream",
     "text": [
      "'Person' object has no attribute '__hidden_name'\n"
     ]
    }
   ],
   "source": [
    "try:\n",
    "    print(person.__hidden_name)\n",
    "except Exception as e:\n",
    "    print(e)"
   ]
  },
  {
   "cell_type": "markdown",
   "metadata": {
    "slideshow": {
     "slide_type": "slide"
    }
   },
   "source": [
    "getter와 setter를 이용하여 접근이 가능합니다."
   ]
  },
  {
   "cell_type": "code",
   "execution_count": 52,
   "metadata": {},
   "outputs": [
    {
     "name": "stdout",
     "output_type": "stream",
     "text": [
      "inside the getter\n",
      "python\n",
      "inside the setter\n",
      "inside the getter\n",
      "shin\n"
     ]
    }
   ],
   "source": [
    "# get\n",
    "print(person.name)\n",
    "\n",
    "# set\n",
    "person.name = 'shin'\n",
    "\n",
    "# get\n",
    "print(person.name)"
   ]
  },
  {
   "cell_type": "markdown",
   "metadata": {
    "slideshow": {
     "slide_type": "slide"
    }
   },
   "source": [
    "_class 명을 앞에 추가시켜 접근이 가능합니다. 완벽한 non public는 아님, 하지만 접근을 어렵게 만들어 getter와 setter를 사용하도록 유도합니다."
   ]
  },
  {
   "cell_type": "code",
   "execution_count": 53,
   "metadata": {},
   "outputs": [
    {
     "data": {
      "text/plain": [
       "'shin'"
      ]
     },
     "execution_count": 53,
     "metadata": {},
     "output_type": "execute_result"
    }
   ],
   "source": [
    "person._Person__hidden_name"
   ]
  },
  {
   "cell_type": "markdown",
   "metadata": {
    "slideshow": {
     "slide_type": "slide"
    }
   },
   "source": [
    "### 7.2 non Public Function\n",
    "- 위에 설명한 맹글링(mangling)을 이용하여 함수로 non Public으로 선언이 가능합니다."
   ]
  },
  {
   "cell_type": "code",
   "execution_count": 54,
   "metadata": {},
   "outputs": [],
   "source": [
    "class Person():\n",
    "\n",
    "    def __init__(self, input_name):\n",
    "        self.__hidden_name = input_name\n",
    "\n",
    "    def __upper(self):\n",
    "        print(\"__upper\")\n",
    "        return self.__hidden_name.upper()\n",
    "\n",
    "    @property\n",
    "    def name(self):\n",
    "        print(\"inside the getter\")\n",
    "        return self.__upper()\n",
    "\n",
    "    @name.setter\n",
    "    def name(self, input_name):\n",
    "        print(\"inside the setter\")\n",
    "        self.__hidden_name = input_name"
   ]
  },
  {
   "cell_type": "markdown",
   "metadata": {
    "slideshow": {
     "slide_type": "slide"
    }
   },
   "source": [
    "getter 함수를 이용하여 접근"
   ]
  },
  {
   "cell_type": "code",
   "execution_count": 55,
   "metadata": {},
   "outputs": [
    {
     "name": "stdout",
     "output_type": "stream",
     "text": [
      "inside the getter\n",
      "__upper\n"
     ]
    },
    {
     "data": {
      "text/plain": [
       "'PARK'"
      ]
     },
     "execution_count": 55,
     "metadata": {},
     "output_type": "execute_result"
    }
   ],
   "source": [
    "person = Person(\"park\")\n",
    "\n",
    "person.name"
   ]
  },
  {
   "cell_type": "markdown",
   "metadata": {
    "slideshow": {
     "slide_type": "slide"
    }
   },
   "source": [
    "바로 __upper 함수를 호출하면 에러가 발생"
   ]
  },
  {
   "cell_type": "code",
   "execution_count": 56,
   "metadata": {},
   "outputs": [
    {
     "name": "stdout",
     "output_type": "stream",
     "text": [
      "'Person' object has no attribute '__upper'\n"
     ]
    }
   ],
   "source": [
    "try:\n",
    "    person.__upper()\n",
    "except Exception as e:\n",
    "    print(e)"
   ]
  },
  {
   "cell_type": "markdown",
   "metadata": {
    "slideshow": {
     "slide_type": "slide"
    }
   },
   "source": [
    "변수에서와 같이 `_`(클래스이름)(함수명)() 으로 접근이 가능"
   ]
  },
  {
   "cell_type": "code",
   "execution_count": 57,
   "metadata": {},
   "outputs": [
    {
     "name": "stdout",
     "output_type": "stream",
     "text": [
      "__upper\n"
     ]
    },
    {
     "data": {
      "text/plain": [
       "'PARK'"
      ]
     },
     "execution_count": 57,
     "metadata": {},
     "output_type": "execute_result"
    }
   ],
   "source": [
    "person._Person__upper()"
   ]
  },
  {
   "cell_type": "markdown",
   "metadata": {},
   "source": [
    "### 8. 클래스의 메서드 종류\n",
    "- Instance Method\n",
    "    - 인스턴스(객체)를 통해서 호출\n",
    "    - self를 사용\n",
    "    - self는 객체를 받음\n",
    "- Class Method\n",
    "    - 클래스를 통해서 호출\n",
    "    - cls를 사용\n",
    "    - cls는 클래스를 받음\n",
    "- Static Method\n",
    "    - 클래스 안에만 있고 일반 함수와 다를게 없음"
   ]
  },
  {
   "cell_type": "markdown",
   "metadata": {},
   "source": [
    "이자율이 적용된 계좌 클래스에서 이자율을 변경하는 방법\n",
    "- 함수를 사용하여 변경 : 객체 마다 변경\n",
    "- 직접 클래스에 접근하여 변경 : 제약조건을 줄수 없음\n",
    "- class method를 사용하여 변경 : 모든 객체에 제약조건을 주어 변경이 가능함"
   ]
  },
  {
   "cell_type": "code",
   "execution_count": 58,
   "metadata": {},
   "outputs": [],
   "source": [
    "class Account:\n",
    "\n",
    "    interest = 1.01  # 이자율 1%\n",
    "\n",
    "    def __init__(self, capital=10000):\n",
    "        self.capital = capital\n",
    "\n",
    "    def __show(self):\n",
    "        print(\"total capital\", self.capital)\n",
    "\n",
    "    def deposit(self, amount):\n",
    "        self.capital += amount\n",
    "        self.__show()\n",
    "\n",
    "    def withdraw(self, amount):\n",
    "        if self.capital >= amount:\n",
    "            self.capital -= amount\n",
    "        else:\n",
    "            self.__show()\n",
    "            self.capital = 0\n",
    "\n",
    "    def add_interest(self):\n",
    "        self.capital = int(self.capital * self.interest)\n",
    "        self.__show()\n",
    "        \n",
    "    # instance method\n",
    "    def change_interest(self, interest):\n",
    "        if interest <= 1.10:\n",
    "            self.interest = interest\n",
    "            print(\"apply interest : \", interest)\n",
    "        else:\n",
    "            print(\"이자율을 1.10 미만으로 지정해주세요.\")\n",
    "\n",
    "    @classmethod\n",
    "    def cls_change_interest(cls, interest):\n",
    "        if interest <= 1.10:\n",
    "            cls.interest = interest\n",
    "            print(\"apply interest : \", interest)\n",
    "        else:\n",
    "            print(\"이자율을 1.10 미만으로 지정해주세요.\")\n",
    "\n",
    "    @staticmethod\n",
    "    def interest_grade(interest):\n",
    "        if interest > 1.05:\n",
    "            print(\"high interest\")\n",
    "        elif interest < 1.05:\n",
    "            print(\"middle interest\")\n",
    "        else:\n",
    "            print(\"low interest\")"
   ]
  },
  {
   "cell_type": "code",
   "execution_count": 59,
   "metadata": {},
   "outputs": [],
   "source": [
    "account1 = Account(10000)\n",
    "account2 = Account(20000)\n",
    "account3 = Account(30000)"
   ]
  },
  {
   "cell_type": "code",
   "execution_count": 60,
   "metadata": {},
   "outputs": [
    {
     "name": "stdout",
     "output_type": "stream",
     "text": [
      "total capital 10100\n",
      "total capital 20200\n"
     ]
    },
    {
     "data": {
      "text/plain": [
       "(1.01, 1.01, 1.01)"
      ]
     },
     "execution_count": 60,
     "metadata": {},
     "output_type": "execute_result"
    }
   ],
   "source": [
    "account1.add_interest()\n",
    "account2.add_interest()\n",
    "account1.interest, account2.interest, account3.interest"
   ]
  },
  {
   "cell_type": "code",
   "execution_count": 61,
   "metadata": {},
   "outputs": [
    {
     "name": "stdout",
     "output_type": "stream",
     "text": [
      "apply interest :  1.09\n"
     ]
    },
    {
     "data": {
      "text/plain": [
       "(1.09, 1.01, 1.01)"
      ]
     },
     "execution_count": 61,
     "metadata": {},
     "output_type": "execute_result"
    }
   ],
   "source": [
    "# 함수를 사용하여 변경 : 객체 마다 변경\n",
    "account1.change_interest(1.09)\n",
    "account1.interest, account2.interest, account3.interest"
   ]
  },
  {
   "cell_type": "code",
   "execution_count": 62,
   "metadata": {},
   "outputs": [
    {
     "data": {
      "text/plain": [
       "(1.09, 1.5, 1.5)"
      ]
     },
     "execution_count": 62,
     "metadata": {},
     "output_type": "execute_result"
    }
   ],
   "source": [
    "# 직접 클래스에 접근하여 변경\n",
    "# 제약조건을 줄수 없음\n",
    "# 객체에서 변경된 값은 클래스에서 변경해도 변경되지 않음\n",
    "Account.interest = 1.5\n",
    "account1.interest, account2.interest, account3.interest"
   ]
  },
  {
   "cell_type": "code",
   "execution_count": 63,
   "metadata": {},
   "outputs": [
    {
     "name": "stdout",
     "output_type": "stream",
     "text": [
      "apply interest :  1.05\n"
     ]
    },
    {
     "data": {
      "text/plain": [
       "(1.09, 1.05, 1.05)"
      ]
     },
     "execution_count": 63,
     "metadata": {},
     "output_type": "execute_result"
    }
   ],
   "source": [
    "# class method를 사용하여 변경 : 모든 객체에 제약조건을 주어 변경이 가능함\n",
    "Account.cls_change_interest(1.05)\n",
    "account1.interest, account2.interest, account3.interest"
   ]
  },
  {
   "cell_type": "code",
   "execution_count": 64,
   "metadata": {},
   "outputs": [
    {
     "name": "stdout",
     "output_type": "stream",
     "text": [
      "high interest\n",
      "low interest\n"
     ]
    }
   ],
   "source": [
    "# static method\n",
    "Account.interest_grade(account1.interest)\n",
    "Account.interest_grade(account3.interest)"
   ]
  },
  {
   "cell_type": "markdown",
   "metadata": {
    "slideshow": {
     "slide_type": "slide"
    }
   },
   "source": [
    "## 9. is a & has a\n",
    "- `is a`\n",
    "    - A is a B의 개념은 A는 B임을 의미 합니다. 이는 상속을 사용하여 클래스를 선언하는 개념을 의미합니다. \n",
    "\n",
    "- `has a`\n",
    "    - 클래스의 변수를 객체로 받아서 클래스를 선언하는 개념으로 A has a B가 의미하는것은 A는 B 객체를 가지고 있음을 의미합니다.\n"
   ]
  },
  {
   "cell_type": "markdown",
   "metadata": {
    "slideshow": {
     "slide_type": "slide"
    }
   },
   "source": [
    "### 9.1 is a"
   ]
  },
  {
   "cell_type": "markdown",
   "metadata": {},
   "source": [
    "`person6 is a person5`로 person6는 Persion5 임을 의미 합니다."
   ]
  },
  {
   "cell_type": "code",
   "execution_count": 65,
   "metadata": {},
   "outputs": [
    {
     "name": "stdout",
     "output_type": "stream",
     "text": [
      "python python@gamil.com\n"
     ]
    }
   ],
   "source": [
    "class Info():\n",
    "\n",
    "    def __init__(self, name, email):\n",
    "        self.name = name\n",
    "        self.email = email\n",
    "\n",
    "\n",
    "class Person(Info):\n",
    "\n",
    "    def about(self):\n",
    "        print(self.name, self.email)\n",
    "\n",
    "\n",
    "person = Person(\"python\", \"python@gamil.com\")\n",
    "person.about()"
   ]
  },
  {
   "cell_type": "markdown",
   "metadata": {
    "slideshow": {
     "slide_type": "slide"
    }
   },
   "source": [
    "### 9.2 has a"
   ]
  },
  {
   "cell_type": "markdown",
   "metadata": {},
   "source": [
    "person7 has a name, email로 person7은 이름과 이메일을 가지고 있다"
   ]
  },
  {
   "cell_type": "code",
   "execution_count": 66,
   "metadata": {},
   "outputs": [],
   "source": [
    "# has a\n",
    "class Name:\n",
    "    \n",
    "    def __init__(self, name):\n",
    "        self.name_str = name\n",
    "        \n",
    "class Email:\n",
    "    \n",
    "    def __init__(self, email):\n",
    "        self.email_str = email\n",
    "        \n",
    "class Person:\n",
    "    \n",
    "    def __init__(self, name_obj, email_obj):\n",
    "        self.name = name_obj\n",
    "        self.email = email_obj\n",
    "        \n",
    "    def about(self):\n",
    "        print(self.name.name_str, self.email.email_str)"
   ]
  },
  {
   "cell_type": "code",
   "execution_count": 67,
   "metadata": {},
   "outputs": [
    {
     "name": "stdout",
     "output_type": "stream",
     "text": [
      "python python@gmail.com\n"
     ]
    }
   ],
   "source": [
    "name = Name(\"python\")\n",
    "email = Email(\"python@gmail.com\")\n",
    "person = Person(name, email)\n",
    "person.about()"
   ]
  },
  {
   "cell_type": "markdown",
   "metadata": {
    "slideshow": {
     "slide_type": "slide"
    }
   },
   "source": [
    "## 10. Magic(Spacial) Method\n",
    "- Magic(Spacial) Method를 이용하여 객체사이의 연산을 정의를 할수 있습니다.\n",
    "- reference\n",
    "    - https://docs.python.org/3/reference/datamodel.html#specialnames"
   ]
  },
  {
   "cell_type": "markdown",
   "metadata": {
    "slideshow": {
     "slide_type": "slide"
    }
   },
   "source": [
    "- compare\n",
    "\n",
    "    - `__eq__` : ==\n",
    "    - `__ne__` : !=\n",
    "    - `__lt__` : <\n",
    "    - `__gt__` : >\n",
    "    - `__le__` : <=\n",
    "    - `__ge__` : >=\n",
    "\n",
    "- calculate\n",
    "\n",
    "    - `__add__` : +\n",
    "    - `__sub__` : -\n",
    "    - `__mul__` : *\n",
    "    - `__floordiv__` : //\n",
    "    - `__truediv__` : /\n",
    "    - `__mod__` : %\n",
    "    - `__pow__` : **\n",
    "\n",
    "- `__repr__`\n",
    "- `__str__`\n",
    "- `__len__`"
   ]
  },
  {
   "cell_type": "markdown",
   "metadata": {
    "slideshow": {
     "slide_type": "slide"
    }
   },
   "source": [
    "### 10.1 \\_\\_eq\\_\\_\n",
    "두 객체의 주소값이 같을때 True를 리턴하는 함수입니다.\n",
    "```\n",
    "Return self==value\n",
    "```"
   ]
  },
  {
   "cell_type": "markdown",
   "metadata": {},
   "source": [
    "문자열 데이터 타입 ``__eq__``"
   ]
  },
  {
   "cell_type": "code",
   "execution_count": 68,
   "metadata": {},
   "outputs": [],
   "source": [
    "str.__eq__??"
   ]
  },
  {
   "cell_type": "code",
   "execution_count": 69,
   "metadata": {},
   "outputs": [
    {
     "data": {
      "text/plain": [
       "True"
      ]
     },
     "execution_count": 69,
     "metadata": {},
     "output_type": "execute_result"
    }
   ],
   "source": [
    "\"dss\" == \"dss\""
   ]
  },
  {
   "cell_type": "code",
   "execution_count": 70,
   "metadata": {},
   "outputs": [
    {
     "data": {
      "text/plain": [
       "True"
      ]
     },
     "execution_count": 70,
     "metadata": {},
     "output_type": "execute_result"
    }
   ],
   "source": [
    "\"dss\".__eq__(\"dss\")"
   ]
  },
  {
   "cell_type": "markdown",
   "metadata": {
    "slideshow": {
     "slide_type": "slide"
    }
   },
   "source": [
    "숫자 데이터 타입 `__eq__`"
   ]
  },
  {
   "cell_type": "code",
   "execution_count": 71,
   "metadata": {},
   "outputs": [],
   "source": [
    "int.__eq__??"
   ]
  },
  {
   "cell_type": "code",
   "execution_count": 72,
   "metadata": {},
   "outputs": [
    {
     "data": {
      "text/plain": [
       "True"
      ]
     },
     "execution_count": 72,
     "metadata": {},
     "output_type": "execute_result"
    }
   ],
   "source": [
    "number = 1\n",
    "number.__eq__(1)"
   ]
  },
  {
   "cell_type": "code",
   "execution_count": 73,
   "metadata": {
    "slideshow": {
     "slide_type": "slide"
    }
   },
   "outputs": [
    {
     "name": "stdout",
     "output_type": "stream",
     "text": [
      "True\n",
      "False\n",
      "True\n",
      "True\n"
     ]
    }
   ],
   "source": [
    "class Txt:\n",
    "\n",
    "    def __init__(self, txt):\n",
    "        self.txt = txt\n",
    "\n",
    "    def equals(self, txt_obj):\n",
    "        return self.txt.lower() == txt_obj.txt.lower()\n",
    "\n",
    "\n",
    "txt1 = Txt(\"fastcampus\")\n",
    "txt2 = Txt(\"FastCampus\")\n",
    "txt3 = Txt(\"dataScience\")\n",
    "txt4 = Txt(\"fastcampus\")\n",
    "txt5 = txt1\n",
    "\n",
    "# Txt 객체의 txt 변수를 비교\n",
    "print(txt1.equals(txt2))  # txt1 == txt2\n",
    "print(txt1.equals(txt3))  # txt1 == txt3\n",
    "print(txt1.equals(txt4))  # txt1 == txt4\n",
    "print(txt1.equals(txt5))  # txt1 == txt5"
   ]
  },
  {
   "cell_type": "code",
   "execution_count": 74,
   "metadata": {
    "slideshow": {
     "slide_type": "slide"
    }
   },
   "outputs": [
    {
     "name": "stdout",
     "output_type": "stream",
     "text": [
      "Help on wrapper_descriptor:\n",
      "\n",
      "__eq__(self, value, /)\n",
      "    Return self==value.\n",
      "\n"
     ]
    }
   ],
   "source": [
    "help(Txt.__eq__)"
   ]
  },
  {
   "cell_type": "code",
   "execution_count": 75,
   "metadata": {},
   "outputs": [
    {
     "data": {
      "text/plain": [
       "(False, False, False, True)"
      ]
     },
     "execution_count": 75,
     "metadata": {},
     "output_type": "execute_result"
    }
   ],
   "source": [
    "# object는 비교연산에서 주소값을 비교합니다.\n",
    "txt1 == txt2, txt1 == txt3, txt1 == txt4, txt1 == txt5"
   ]
  },
  {
   "cell_type": "code",
   "execution_count": 76,
   "metadata": {},
   "outputs": [
    {
     "data": {
      "text/plain": [
       "(<__main__.Txt at 0x11cf05be0>,\n",
       " <__main__.Txt at 0x11cf05c18>,\n",
       " <__main__.Txt at 0x11cf05be0>)"
      ]
     },
     "execution_count": 76,
     "metadata": {},
     "output_type": "execute_result"
    }
   ],
   "source": [
    "# txt1과 txt5는 주소값이 같지만 txt4는 주소값이 다릅니다.\n",
    "txt1, txt4, txt5"
   ]
  },
  {
   "cell_type": "markdown",
   "metadata": {
    "slideshow": {
     "slide_type": "slide"
    }
   },
   "source": [
    "`__eq__`를 함수를 오버라이딩하면 TxT 클래스로 만들어진 객체의 비교연산에서 수정된 `__eq__`함수를 수행합니다. \n",
    "`__eq__`함수가 기존에는 주소값을 비교하는 함수였지만 아래에서 소문자 값을 비교하는 함수로 수정합니다."
   ]
  },
  {
   "cell_type": "code",
   "execution_count": 77,
   "metadata": {},
   "outputs": [],
   "source": [
    "class Txt():\n",
    "    def __init__(self, txt):\n",
    "        self.txt = txt\n",
    "\n",
    "    def __eq__(self, txt_obj):\n",
    "        \"\"\"\n",
    "        compare lower string\n",
    "        return : self.txt.lower() == txt_obj.txt.lower()\n",
    "        \"\"\"\n",
    "        return self.txt.lower() == txt_obj.txt.lower()\n",
    "\n",
    "\n",
    "txt1 = Txt(\"fastcampus\")\n",
    "txt2 = Txt(\"FastCampus\")\n",
    "txt3 = Txt(\"dataScience\")\n",
    "txt4 = Txt(\"fastcampus\")\n",
    "txt5 = txt1"
   ]
  },
  {
   "cell_type": "code",
   "execution_count": 78,
   "metadata": {
    "slideshow": {
     "slide_type": "slide"
    }
   },
   "outputs": [
    {
     "data": {
      "text/plain": [
       "(True, False, True, True)"
      ]
     },
     "execution_count": 78,
     "metadata": {},
     "output_type": "execute_result"
    }
   ],
   "source": [
    "# object는 비교연산에서 소문자 문자열을 비교합니다.\n",
    "txt1 == txt2, txt1 == txt3, txt1 == txt4, txt1 == txt5"
   ]
  },
  {
   "cell_type": "code",
   "execution_count": 79,
   "metadata": {},
   "outputs": [
    {
     "name": "stdout",
     "output_type": "stream",
     "text": [
      "Help on function __eq__ in module __main__:\n",
      "\n",
      "__eq__(self, txt_obj)\n",
      "    compare lower string\n",
      "    return : self.txt.lower() == txt_obj.txt.lower()\n",
      "\n"
     ]
    }
   ],
   "source": [
    "help(Txt.__eq__)"
   ]
  },
  {
   "cell_type": "markdown",
   "metadata": {
    "slideshow": {
     "slide_type": "slide"
    }
   },
   "source": [
    "아래의 코드는 int object에 정의되어 있는 `__eq__` 함수로 비교한 결과를 리턴합니다."
   ]
  },
  {
   "cell_type": "code",
   "execution_count": 80,
   "metadata": {},
   "outputs": [
    {
     "data": {
      "text/plain": [
       "False"
      ]
     },
     "execution_count": 80,
     "metadata": {},
     "output_type": "execute_result"
    }
   ],
   "source": [
    "1 == 3"
   ]
  },
  {
   "cell_type": "markdown",
   "metadata": {
    "slideshow": {
     "slide_type": "slide"
    }
   },
   "source": [
    "### 10.2 \\_\\_ne\\_\\_\n",
    "두 객체의 값이 같지 않을때 True를 리턴하는 함수입니다.\n",
    "```\n",
    "Return self!=value\n",
    "```"
   ]
  },
  {
   "cell_type": "code",
   "execution_count": 81,
   "metadata": {},
   "outputs": [],
   "source": [
    "str.__ne__??"
   ]
  },
  {
   "cell_type": "code",
   "execution_count": 82,
   "metadata": {},
   "outputs": [
    {
     "data": {
      "text/plain": [
       "True"
      ]
     },
     "execution_count": 82,
     "metadata": {},
     "output_type": "execute_result"
    }
   ],
   "source": [
    "\"dss\".__eq__(\"dss\")"
   ]
  },
  {
   "cell_type": "code",
   "execution_count": 83,
   "metadata": {
    "scrolled": true
   },
   "outputs": [
    {
     "data": {
      "text/plain": [
       "False"
      ]
     },
     "execution_count": 83,
     "metadata": {},
     "output_type": "execute_result"
    }
   ],
   "source": [
    "\"dss\".__ne__(\"dss\")"
   ]
  },
  {
   "cell_type": "markdown",
   "metadata": {},
   "source": [
    "list의 remove 함수는 한개의 value만 삭제 됩니다."
   ]
  },
  {
   "cell_type": "code",
   "execution_count": 84,
   "metadata": {},
   "outputs": [
    {
     "name": "stdout",
     "output_type": "stream",
     "text": [
      "['Hello', 'Hello', 'Python', 'Hello', 'Python']\n"
     ]
    }
   ],
   "source": [
    "values = [\"Hello\", \"Python\", \"Hello\", \"Python\", \"Hello\",  \"Python\"]\n",
    "values.remove(\"Python\")\n",
    "print(values)"
   ]
  },
  {
   "cell_type": "markdown",
   "metadata": {
    "slideshow": {
     "slide_type": "skip"
    }
   },
   "source": [
    "##### Quiz 9\n",
    "- 리스트에 있는 값 여러개 삭제하는 코드를 작성하세요.\n",
    "- List Comprehention을 사용\n",
    "\n",
    "```\n",
    "values = [\"Hello\", \"Python\", \"Hello\", \"Python\", \"Hello\",  \"Python\"]\n",
    "remove_string = \"Python\"\n",
    "```\n",
    "\n",
    "- 결과\n",
    "\n",
    "```\n",
    "['Hello', 'Hello', 'Hello']\n",
    "```"
   ]
  },
  {
   "cell_type": "markdown",
   "metadata": {
    "slideshow": {
     "slide_type": "skip"
    }
   },
   "source": [
    "##### Quiz 10\n",
    "- filter 함수와 `__ne__`를 이용하여 리스트에 있는 값 여러개 삭제하는 코드를 작성하세요"
   ]
  },
  {
   "cell_type": "markdown",
   "metadata": {
    "slideshow": {
     "slide_type": "slide"
    }
   },
   "source": [
    "## 10.3 \\_\\_add\\_\\_\n",
    "```\n",
    "Return self+value\n",
    "```"
   ]
  },
  {
   "cell_type": "markdown",
   "metadata": {},
   "source": [
    "int 데이터 타입의 데이터도 하나의 객체"
   ]
  },
  {
   "cell_type": "code",
   "execution_count": 85,
   "metadata": {},
   "outputs": [],
   "source": [
    "int.__add__??"
   ]
  },
  {
   "cell_type": "code",
   "execution_count": 86,
   "metadata": {},
   "outputs": [
    {
     "data": {
      "text/plain": [
       "(5, 5)"
      ]
     },
     "execution_count": 86,
     "metadata": {},
     "output_type": "execute_result"
    }
   ],
   "source": [
    "(2).__add__(3), 2 + 3"
   ]
  },
  {
   "cell_type": "markdown",
   "metadata": {
    "slideshow": {
     "slide_type": "slide"
    }
   },
   "source": [
    "add를 정의 해서 객체간의 덧셈을 정의 할수 있다.(뺄셈으로 변경)"
   ]
  },
  {
   "cell_type": "code",
   "execution_count": 87,
   "metadata": {},
   "outputs": [
    {
     "data": {
      "text/plain": [
       "-2"
      ]
     },
     "execution_count": 87,
     "metadata": {},
     "output_type": "execute_result"
    }
   ],
   "source": [
    "class Number:\n",
    "\n",
    "    def __init__(self, num):\n",
    "        self.num = num\n",
    "\n",
    "    def __add__(self, other):\n",
    "        return self.num - other.num\n",
    "\n",
    "\n",
    "n1 = Number(5)\n",
    "n2 = Number(7)\n",
    "n1 + n2"
   ]
  },
  {
   "cell_type": "markdown",
   "metadata": {
    "slideshow": {
     "slide_type": "slide"
    }
   },
   "source": [
    "add를 정의 해서 객체간의 덧셈을 정의 할수 있다.(곱셈으로 변경)"
   ]
  },
  {
   "cell_type": "code",
   "execution_count": 88,
   "metadata": {},
   "outputs": [
    {
     "data": {
      "text/plain": [
       "-2"
      ]
     },
     "execution_count": 88,
     "metadata": {},
     "output_type": "execute_result"
    }
   ],
   "source": [
    "class Number2:\n",
    "\n",
    "    def __init__(self, num):\n",
    "        self.num = num\n",
    "\n",
    "    def __add__(self, other):\n",
    "        return self.num * other.num\n",
    "\n",
    "\n",
    "n1 = Number(5)\n",
    "n2 = Number2(7)\n",
    "n1 + n2"
   ]
  },
  {
   "cell_type": "markdown",
   "metadata": {
    "slideshow": {
     "slide_type": "slide"
    }
   },
   "source": [
    "### 10.4 \\_\\_str\\_\\_, \\_\\_repr\\_\\_\n",
    "`__str__`은 print로 객체를 출력할때 출력되는 문자열 데이터를 정의하고, `__repr__`은 ipython에서 객체를 출력할때 나오는 문자열을 정의 합니다.\n",
    "\n",
    "`__repr__` : 개발자를 위해 사용되며, 주로 객체의 내용이 출력되도록 설정합니다.\n",
    "\n",
    "`__str__` : 사용자를 위해 사용되며 주로 객체의 일부 내용이 출력되도록 설정합니다."
   ]
  },
  {
   "cell_type": "markdown",
   "metadata": {
    "slideshow": {
     "slide_type": "slide"
    }
   },
   "source": [
    "number class에 `__str__`과 `__repr__`을 추가하여 객체를 출력할때 숫자 결과값이 나오도록 코드를 추가합니다."
   ]
  },
  {
   "cell_type": "code",
   "execution_count": 89,
   "metadata": {},
   "outputs": [],
   "source": [
    "class Number3:\n",
    "\n",
    "    def __init__(self, num):\n",
    "        self.num = num\n",
    "\n",
    "    def __add__(self, other):\n",
    "        return self.num - other.num\n",
    "\n",
    "    def __str__(self):\n",
    "        return str(self.num)\n",
    "\n",
    "    def __repr__(self):\n",
    "        return \"Number3(num={})\".format(str(self.num))\n",
    "\n",
    "\n",
    "n = Number3(10)"
   ]
  },
  {
   "cell_type": "code",
   "execution_count": 90,
   "metadata": {
    "scrolled": true
   },
   "outputs": [
    {
     "data": {
      "text/plain": [
       "Number3(num=10)"
      ]
     },
     "execution_count": 90,
     "metadata": {},
     "output_type": "execute_result"
    }
   ],
   "source": [
    "n"
   ]
  },
  {
   "cell_type": "code",
   "execution_count": 91,
   "metadata": {},
   "outputs": [
    {
     "name": "stdout",
     "output_type": "stream",
     "text": [
      "10\n"
     ]
    }
   ],
   "source": [
    "print(n)"
   ]
  }
 ],
 "metadata": {
  "celltoolbar": "Slideshow",
  "kernelspec": {
   "display_name": "Python 3 (ipykernel)",
   "language": "python",
   "name": "python3"
  },
  "language_info": {
   "codemirror_mode": {
    "name": "ipython",
    "version": 3
   },
   "file_extension": ".py",
   "mimetype": "text/x-python",
   "name": "python",
   "nbconvert_exporter": "python",
   "pygments_lexer": "ipython3",
   "version": "3.7.6"
  },
  "toc": {
   "base_numbering": 1,
   "nav_menu": {},
   "number_sections": false,
   "sideBar": true,
   "skip_h1_title": false,
   "title_cell": "Table of Contents",
   "title_sidebar": "Contents",
   "toc_cell": false,
   "toc_position": {},
   "toc_section_display": true,
   "toc_window_display": false
  },
  "varInspector": {
   "cols": {
    "lenName": 16,
    "lenType": 16,
    "lenVar": 40
   },
   "kernels_config": {
    "python": {
     "delete_cmd_postfix": "",
     "delete_cmd_prefix": "del ",
     "library": "var_list.py",
     "varRefreshCmd": "print(var_dic_list())"
    },
    "r": {
     "delete_cmd_postfix": ") ",
     "delete_cmd_prefix": "rm(",
     "library": "var_list.r",
     "varRefreshCmd": "cat(var_dic_list()) "
    }
   },
   "types_to_exclude": [
    "module",
    "function",
    "builtin_function_or_method",
    "instance",
    "_Feature"
   ],
   "window_display": false
  }
 },
 "nbformat": 4,
 "nbformat_minor": 2
}
